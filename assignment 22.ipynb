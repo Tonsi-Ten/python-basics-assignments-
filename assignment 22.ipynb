{
 "cells": [
  {
   "cell_type": "code",
   "execution_count": null,
   "id": "229d35f2",
   "metadata": {},
   "outputs": [],
   "source": [
    "1. What is the result of the code, and explain?\n",
    "\n",
    ">>> X = 'iNeuron'\n",
    ">>> def func():\n",
    "print(X)\n",
    "\n",
    ">>> func()"
   ]
  },
  {
   "cell_type": "code",
   "execution_count": null,
   "id": "fc251596",
   "metadata": {},
   "outputs": [],
   "source": [
    "The provided code defines a variable X with the value 'iNeuron' and then defines a function func that\n",
    "prints the value of X. Finally, the function func is called."
   ]
  },
  {
   "cell_type": "code",
   "execution_count": 3,
   "id": "2afb1fda",
   "metadata": {},
   "outputs": [
    {
     "name": "stdout",
     "output_type": "stream",
     "text": [
      "iNeuron\n"
     ]
    }
   ],
   "source": [
    "X = 'iNeuron'\n",
    "def func():\n",
    "    print(X)\n",
    "\n",
    "func()"
   ]
  },
  {
   "cell_type": "code",
   "execution_count": null,
   "id": "ecabc206",
   "metadata": {},
   "outputs": [],
   "source": [
    "The result of running this code is the printing of the value of X, which is 'iNeuron'. When the func() \n",
    "function is called, it prints the value of the global variable X because the function doesn't have a\n",
    "local variable with the same name."
   ]
  },
  {
   "cell_type": "code",
   "execution_count": 2,
   "id": "64b18224",
   "metadata": {},
   "outputs": [
    {
     "ename": "SyntaxError",
     "evalue": "invalid syntax (1019202990.py, line 3)",
     "output_type": "error",
     "traceback": [
      "\u001b[1;36m  Cell \u001b[1;32mIn[2], line 3\u001b[1;36m\u001b[0m\n\u001b[1;33m    >>> X = 'iNeuron'\u001b[0m\n\u001b[1;37m    ^\u001b[0m\n\u001b[1;31mSyntaxError\u001b[0m\u001b[1;31m:\u001b[0m invalid syntax\n"
     ]
    }
   ],
   "source": [
    "2. What is the result of the code, and explain?\n",
    "\n",
    ">>> X = 'iNeuron'\n",
    ">>> def func():\n",
    "X = 'NI!'\n",
    "\n",
    ">>> func()\n",
    ">>> print(X)"
   ]
  },
  {
   "cell_type": "code",
   "execution_count": null,
   "id": "66eeffca",
   "metadata": {},
   "outputs": [],
   "source": [
    "The provided code defines a global variable X with the value 'iNeuron' and then defines a function \n",
    "func that creates a local variable X with the value 'NI!'. Finally, the function func is called, and \n",
    "the value of the global variable X is printed."
   ]
  },
  {
   "cell_type": "code",
   "execution_count": 4,
   "id": "6bd3eb31",
   "metadata": {},
   "outputs": [
    {
     "name": "stdout",
     "output_type": "stream",
     "text": [
      "iNeuron\n"
     ]
    }
   ],
   "source": [
    "X = 'iNeuron'\n",
    "def func():\n",
    "    X = 'NI!'\n",
    "\n",
    "func()\n",
    "print(X)\n"
   ]
  },
  {
   "cell_type": "code",
   "execution_count": null,
   "id": "a675a502",
   "metadata": {},
   "outputs": [],
   "source": [
    "The result of running this code is the printing of the value of the global variable X, which is 'iNeuron'.\n",
    "\n",
    "The reason for this is that within the function func, a local variable X is created, and any modifications\n",
    "or assignments inside the function are local to that function's scope. The global variable X remains\n",
    "unaffected by the assignment inside the function."
   ]
  },
  {
   "cell_type": "code",
   "execution_count": null,
   "id": "f6e9bc86",
   "metadata": {},
   "outputs": [],
   "source": [
    "3. What does this code print, and why?\n",
    "\n",
    ">>> X = 'iNeuron'\n",
    ">>> def func():\n",
    "X = 'NI'\n",
    "print(X)\n",
    "\n",
    ">>> func()\n",
    ">>> print(X)"
   ]
  },
  {
   "cell_type": "code",
   "execution_count": null,
   "id": "4a39ca0f",
   "metadata": {},
   "outputs": [],
   "source": [
    "There is a syntax error in the provided code. The indentation of the print(X) statement inside the func\n",
    "function is incorrect. Python relies on indentation to define blocks of code, and it seems that the\n",
    "print(X) statement is not properly indented under the function"
   ]
  },
  {
   "cell_type": "code",
   "execution_count": 6,
   "id": "3565d251",
   "metadata": {},
   "outputs": [
    {
     "name": "stdout",
     "output_type": "stream",
     "text": [
      "NI\n",
      "iNeuron\n"
     ]
    }
   ],
   "source": [
    "X = 'iNeuron'\n",
    "def func():\n",
    "    X = 'NI'\n",
    "    print(X)\n",
    "\n",
    "func()\n",
    "print(X)\n"
   ]
  },
  {
   "cell_type": "code",
   "execution_count": null,
   "id": "c8c06796",
   "metadata": {},
   "outputs": [],
   "source": [
    ". A global variable X is defined with the value 'iNeuron'.\n",
    ". The function func is defined, and inside it, a local variable X is assigned the value 'NI', and then it\n",
    "  prints the local variable.\n",
    ". The function func is called, printing the local variable X within the function.\n",
    ". Finally, the value of the global variable X is printed."
   ]
  },
  {
   "cell_type": "code",
   "execution_count": null,
   "id": "6e64312f",
   "metadata": {},
   "outputs": [],
   "source": [
    "5. What about this code—what’s the output, and why?\n",
    "\n",
    ">>> X = 'iNeuron'\n",
    ">>> def func():\n",
    "X = 'NI'\n",
    "def nested():\n",
    "print(X)\n",
    "nested()\n",
    "\n",
    ">>> func()\n",
    ">>> X"
   ]
  },
  {
   "cell_type": "code",
   "execution_count": 7,
   "id": "f0fad269",
   "metadata": {},
   "outputs": [
    {
     "name": "stdout",
     "output_type": "stream",
     "text": [
      "NI\n",
      "iNeuron\n"
     ]
    }
   ],
   "source": [
    "X = 'iNeuron'\n",
    "def func():\n",
    "    X = 'NI'\n",
    "    def nested():\n",
    "        print(X)\n",
    "    nested()\n",
    "\n",
    "func()\n",
    "print(X)\n"
   ]
  },
  {
   "cell_type": "code",
   "execution_count": null,
   "id": "cef415c9",
   "metadata": {},
   "outputs": [],
   "source": [
    "A global variable X is defined with the value 'iNeuron'.\n",
    "The function func is defined, and inside it, a local variable X is assigned the value 'NI'.\n",
    "Inside the func function, there is a nested function nested that prints the value of the local variable X.\n",
    "The func function is called, which in turn calls the nested function nested.\n",
    "After the function calls, the value of the global variable X is printed"
   ]
  },
  {
   "cell_type": "code",
   "execution_count": null,
   "id": "51c287f2",
   "metadata": {},
   "outputs": [],
   "source": [
    "6. How about this code: what is its output in Python 3, and explain?\n",
    "\n",
    ">>> def func():\n",
    "X = 'NI'\n",
    "def nested():\n",
    "nonlocal X\n",
    "X = 'Spam'\n",
    "nested()\n",
    "print(X)\n",
    "\n",
    ">>> func()"
   ]
  },
  {
   "cell_type": "code",
   "execution_count": null,
   "id": "ce11cba8",
   "metadata": {},
   "outputs": [],
   "source": [
    "The provided code uses the nonlocal keyword, which is used to indicate that a variable is not local \n",
    "to the current function's scope but refers to a variable in the nearest enclosing scope that is not\n",
    "global. However, the code has a potential issue."
   ]
  },
  {
   "cell_type": "code",
   "execution_count": 8,
   "id": "482293d8",
   "metadata": {},
   "outputs": [
    {
     "name": "stdout",
     "output_type": "stream",
     "text": [
      "Spam\n"
     ]
    }
   ],
   "source": [
    "def func():\n",
    "    X = 'NI'\n",
    "    def nested():\n",
    "        nonlocal X\n",
    "        X = 'Spam'\n",
    "    nested()\n",
    "    print(X)\n",
    "\n",
    "func()\n"
   ]
  },
  {
   "cell_type": "code",
   "execution_count": null,
   "id": "90fb9e2a",
   "metadata": {},
   "outputs": [],
   "source": [
    ". The func function is defined, and inside it, a local variable X is assigned the value 'NI'.\n",
    ". Inside the func function, there is a nested function nested that uses the nonlocal keyword to indicate \n",
    "  that it wants to modify the variable X from the nearest enclosing scope (which is the func function).\n",
    ". The nested function sets the value of X to 'Spam'.\n",
    ". After the nested function is called, the func function prints the value of the local variable X"
   ]
  }
 ],
 "metadata": {
  "kernelspec": {
   "display_name": "Python 3 (ipykernel)",
   "language": "python",
   "name": "python3"
  },
  "language_info": {
   "codemirror_mode": {
    "name": "ipython",
    "version": 3
   },
   "file_extension": ".py",
   "mimetype": "text/x-python",
   "name": "python",
   "nbconvert_exporter": "python",
   "pygments_lexer": "ipython3",
   "version": "3.11.1"
  }
 },
 "nbformat": 4,
 "nbformat_minor": 5
}
