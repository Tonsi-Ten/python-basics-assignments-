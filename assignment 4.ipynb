{
 "cells": [
  {
   "cell_type": "code",
   "execution_count": null,
   "id": "3d27135a",
   "metadata": {},
   "outputs": [],
   "source": [
    "1. What exactly is []?"
   ]
  },
  {
   "cell_type": "code",
   "execution_count": null,
   "id": "871671fb",
   "metadata": {},
   "outputs": [],
   "source": [
    "In Python, square brackets ([]) are used to create lists. A list is a data structure that can hold \n",
    "an ordered collection of elements. The elements of a list can be of any type, including numbers,\n",
    "strings, objects, and even other lists.\n",
    "To create a list, you simply place the elements inside the square brackets, separated by commas.\n",
    "For example:\n",
    "    \n",
    "list1 = [1, 2, 3, 4]\n",
    "list2 = [\"Apple\", \"Banana\", \"Mango \"]\n",
    "list3 = [1, \"Hello\", True, 4.5]\n",
    "    "
   ]
  },
  {
   "cell_type": "code",
   "execution_count": null,
   "id": "f0136fdd",
   "metadata": {},
   "outputs": [],
   "source": [
    "2. In a list of values stored in a variable called spam, how would you assign the value 'hello' as the\n",
    "third value? (Assume [2, 4, 6, 8, 10] are in spam.)"
   ]
  },
  {
   "cell_type": "code",
   "execution_count": 1,
   "id": "2736c370",
   "metadata": {},
   "outputs": [
    {
     "name": "stdout",
     "output_type": "stream",
     "text": [
      "[2, 4, 'hello', 8, 10]\n"
     ]
    }
   ],
   "source": [
    "spam = [2, 4, 6, 8, 10]    \n",
    "spam[2] = 'hello' \n",
    "print(spam)"
   ]
  },
  {
   "cell_type": "code",
   "execution_count": null,
   "id": "b61b2202",
   "metadata": {},
   "outputs": [],
   "source": [
    "Let's pretend the spam includes the list ['a','b','c','d' ] for the next three queries. "
   ]
  },
  {
   "cell_type": "code",
   "execution_count": null,
   "id": "605320e3",
   "metadata": {},
   "outputs": [],
   "source": [
    "3. What is the value of spam[int(int('3'*2)/11)] ?  "
   ]
  },
  {
   "cell_type": "code",
   "execution_count": 2,
   "id": "9fff7151",
   "metadata": {},
   "outputs": [
    {
     "name": "stdout",
     "output_type": "stream",
     "text": [
      "d\n"
     ]
    }
   ],
   "source": [
    "spam = ['a','b','c','d']\n",
    "print(spam[int(int('3'*2)/11)])    # '3' is a string so '3'*2 will be '33'\n",
    "                                   # now int('33') will convert it into integer 33\n",
    "                                   # now 33/11 will be 3\n",
    "                                   # which is the fourth element of the list spam. 'd'"
   ]
  },
  {
   "cell_type": "code",
   "execution_count": null,
   "id": "0379527b",
   "metadata": {},
   "outputs": [],
   "source": [
    "4. What is the value of spam[-1]? "
   ]
  },
  {
   "cell_type": "code",
   "execution_count": 5,
   "id": "d2f0836a",
   "metadata": {},
   "outputs": [
    {
     "name": "stdout",
     "output_type": "stream",
     "text": [
      "d\n"
     ]
    }
   ],
   "source": [
    "spam = ['a','b','c','d']\n",
    "print(spam[-1])"
   ]
  },
  {
   "cell_type": "code",
   "execution_count": null,
   "id": "d31ed751",
   "metadata": {},
   "outputs": [],
   "source": [
    "5. What is the value of spam[:2]?\n",
    "In Python when using slicing notation like spam[:2] you are creating a new list that contains\n",
    "elements from the beginning (index 0) up to, but not including, the specified end index (2 in this case).\n",
    "So the elements at indices 0 and 1 ('a' and 'b' in this case) will be included in the new list."
   ]
  },
  {
   "cell_type": "code",
   "execution_count": 1,
   "id": "05b9357f",
   "metadata": {},
   "outputs": [
    {
     "name": "stdout",
     "output_type": "stream",
     "text": [
      "['a', 'b']\n"
     ]
    }
   ],
   "source": [
    "spam = ['a','b','c','d']\n",
    "print(spam[:2])"
   ]
  },
  {
   "cell_type": "code",
   "execution_count": null,
   "id": "91eadf5d",
   "metadata": {},
   "outputs": [],
   "source": [
    "Let's pretend bacon has the list [3.14,'cat', 11, 'cat', True] for the next three questions."
   ]
  },
  {
   "cell_type": "code",
   "execution_count": null,
   "id": "c15501d3",
   "metadata": {},
   "outputs": [],
   "source": [
    "6. What is the value of bacon.index('cat')?"
   ]
  },
  {
   "cell_type": "code",
   "execution_count": 3,
   "id": "6aa89c12",
   "metadata": {},
   "outputs": [
    {
     "name": "stdout",
     "output_type": "stream",
     "text": [
      "1\n"
     ]
    }
   ],
   "source": [
    "bacon = [3.14,'cat', 11, 'cat', True]\n",
    "print(bacon.index('cat'))"
   ]
  },
  {
   "cell_type": "code",
   "execution_count": null,
   "id": "80c0b92e",
   "metadata": {},
   "outputs": [],
   "source": [
    "7. How does bacon.append(99) change the look of the list value in bacon?\n",
    "\n",
    "The bacon.append(99) operation will modify the bacon list by adding the value 99 to the end of the \n",
    "list."
   ]
  },
  {
   "cell_type": "code",
   "execution_count": 5,
   "id": "107be36c",
   "metadata": {},
   "outputs": [
    {
     "name": "stdout",
     "output_type": "stream",
     "text": [
      "[3.14, 'cat', 11, 'cat', True, 99]\n"
     ]
    }
   ],
   "source": [
    "bacon = [3.14,'cat', 11, 'cat', True]\n",
    "bacon.append(99)\n",
    "print(bacon)"
   ]
  },
  {
   "cell_type": "code",
   "execution_count": null,
   "id": "b5519fcd",
   "metadata": {},
   "outputs": [],
   "source": [
    "8. How does bacon.remove('cat') change the look of the list in bacon?\n",
    "\n",
    "The bacon.remove('cat') operation will modify the bacon list by removing the first occurrence \n",
    "of the value 'cat' from the list. "
   ]
  },
  {
   "cell_type": "code",
   "execution_count": 7,
   "id": "02cc94af",
   "metadata": {},
   "outputs": [
    {
     "name": "stdout",
     "output_type": "stream",
     "text": [
      "[3.14, 11, 'cat', True]\n"
     ]
    }
   ],
   "source": [
    "bacon = [3.14,'cat', 11, 'cat', True]\n",
    "bacon.remove('cat')\n",
    "print(bacon)"
   ]
  },
  {
   "cell_type": "code",
   "execution_count": null,
   "id": "1944035a",
   "metadata": {},
   "outputs": [],
   "source": [
    "9. What are the list concatenation and list replication operators?"
   ]
  },
  {
   "cell_type": "code",
   "execution_count": null,
   "id": "2129ef6f",
   "metadata": {},
   "outputs": [],
   "source": [
    "1. List Concatenation (+): The + operator is used to concatenate two or more lists, creating\n",
    "a new list that contains all the elements from the combined lists in the order they appear."
   ]
  },
  {
   "cell_type": "code",
   "execution_count": 11,
   "id": "ca41a221",
   "metadata": {},
   "outputs": [
    {
     "name": "stdout",
     "output_type": "stream",
     "text": [
      "[1, 2, 3, 4, 5, 6]\n"
     ]
    }
   ],
   "source": [
    "list1 = [1, 2, 3]\n",
    "list2 = [4, 5, 6]\n",
    "concatenated_list = list1 + list2\n",
    "print(concatenated_list)"
   ]
  },
  {
   "cell_type": "code",
   "execution_count": null,
   "id": "293a278e",
   "metadata": {},
   "outputs": [],
   "source": [
    "2. List Replication (*): The * operator is used to replicate a list by repeating its elements\n",
    "   a certain number of times to create a new list."
   ]
  },
  {
   "cell_type": "code",
   "execution_count": 13,
   "id": "bb51dc70",
   "metadata": {},
   "outputs": [
    {
     "name": "stdout",
     "output_type": "stream",
     "text": [
      "[0, 1, 0, 1, 0, 1]\n"
     ]
    }
   ],
   "source": [
    "list = [0, 1]\n",
    "replicated_list = list * 3\n",
    "print(replicated_list)"
   ]
  },
  {
   "cell_type": "code",
   "execution_count": 14,
   "id": "699ac4a1",
   "metadata": {},
   "outputs": [
    {
     "ename": "SyntaxError",
     "evalue": "invalid syntax (3948229898.py, line 1)",
     "output_type": "error",
     "traceback": [
      "\u001b[1;36m  Cell \u001b[1;32mIn[14], line 1\u001b[1;36m\u001b[0m\n\u001b[1;33m    10. What is difference between the list methods append() and insert()?\u001b[0m\n\u001b[1;37m        ^\u001b[0m\n\u001b[1;31mSyntaxError\u001b[0m\u001b[1;31m:\u001b[0m invalid syntax\n"
     ]
    }
   ],
   "source": [
    "10. What is difference between the list methods append() and insert()?"
   ]
  },
  {
   "cell_type": "code",
   "execution_count": null,
   "id": "62fafbf8",
   "metadata": {},
   "outputs": [],
   "source": [
    "The append() and insert() methods are both used to add elements to a list in Python. However, \n",
    "they have different behaviors. The append() method adds an element to the end of the list. The \n",
    "insert() method inserts an element at a specified index in the list."
   ]
  },
  {
   "cell_type": "code",
   "execution_count": 15,
   "id": "b740905b",
   "metadata": {},
   "outputs": [
    {
     "name": "stdout",
     "output_type": "stream",
     "text": [
      "[1, 2, 3, 4]\n"
     ]
    }
   ],
   "source": [
    "list1 = [1, 2, 3]\n",
    "list1.append(4)\n",
    "print(list1)"
   ]
  },
  {
   "cell_type": "code",
   "execution_count": 16,
   "id": "e1d09b22",
   "metadata": {},
   "outputs": [
    {
     "name": "stdout",
     "output_type": "stream",
     "text": [
      "[1, 5, 2, 3]\n"
     ]
    }
   ],
   "source": [
    "list1 = [1, 2, 3]\n",
    "list1.insert(1, 5)\n",
    "print(list1)"
   ]
  },
  {
   "cell_type": "code",
   "execution_count": 17,
   "id": "e633212f",
   "metadata": {},
   "outputs": [],
   "source": [
    "11. What are the two methods for removing items from a list?"
   ]
  },
  {
   "cell_type": "code",
   "execution_count": null,
   "id": "56a402d2",
   "metadata": {},
   "outputs": [],
   "source": [
    "There are two main methods for removing items from a list in Python:\n",
    "\n",
    "1. The remove() method removes the first occurrence of the specified value from the list. ( list.remove(value)\n",
    ")\n",
    "2. The pop() method removes the item at the specified index from the list. ( list.pop([index]) )\n"
   ]
  },
  {
   "cell_type": "code",
   "execution_count": 18,
   "id": "9fcf95ff",
   "metadata": {},
   "outputs": [
    {
     "name": "stdout",
     "output_type": "stream",
     "text": [
      "[1, 3, 4]\n"
     ]
    }
   ],
   "source": [
    "list1 = [1, 2, 3, 4]\n",
    "list1.remove(2)\n",
    "print(list1)"
   ]
  },
  {
   "cell_type": "code",
   "execution_count": 21,
   "id": "ae12c7c0",
   "metadata": {},
   "outputs": [
    {
     "name": "stdout",
     "output_type": "stream",
     "text": [
      "[1, 2, 3]\n"
     ]
    }
   ],
   "source": [
    "list1 = [1, 2, 3, 4]\n",
    "list1.pop(3)\n",
    "print(list1)"
   ]
  },
  {
   "cell_type": "code",
   "execution_count": null,
   "id": "d953dda1",
   "metadata": {},
   "outputs": [],
   "source": [
    "12. Describe how list values and string values are identical."
   ]
  },
  {
   "cell_type": "code",
   "execution_count": 22,
   "id": "e212c9a6",
   "metadata": {},
   "outputs": [
    {
     "ename": "SyntaxError",
     "evalue": "invalid syntax (4131870732.py, line 1)",
     "output_type": "error",
     "traceback": [
      "\u001b[1;36m  Cell \u001b[1;32mIn[22], line 1\u001b[1;36m\u001b[0m\n\u001b[1;33m    List values and string values are identical in the following ways:\u001b[0m\n\u001b[1;37m         ^\u001b[0m\n\u001b[1;31mSyntaxError\u001b[0m\u001b[1;31m:\u001b[0m invalid syntax\n"
     ]
    }
   ],
   "source": [
    "List values and string values are identical in the following ways:\n",
    "\n",
    "* They are both sequences, which means they can be indexed and sliced.\n",
    "* They can be compared using the equality (==) and comparison (<, >, !=, <=, >=) operators.\n",
    "* They can be used in for loops and other iterable constructs.\n",
    "\n",
    "However, there are also some key differences between list values and string values:\n",
    "\n",
    "* List values are mutable, which means they can be changed after they are created. String values are\n",
    "  immutable, which means they cannot be changed after they are created.\n",
    "* List values can contain elements of different types, while string values can only contain characters."
   ]
  },
  {
   "cell_type": "code",
   "execution_count": null,
   "id": "b086079d",
   "metadata": {},
   "outputs": [],
   "source": [
    "13. What's the difference between tuples and lists?"
   ]
  },
  {
   "cell_type": "code",
   "execution_count": null,
   "id": "7ecb8a97",
   "metadata": {},
   "outputs": [],
   "source": [
    "\n",
    "Tuples and lists are both data structures in Python that can be used to store collections of data.\n",
    "However, there are some key differences between the two:\n",
    "    \n",
    "    * Mutability: Tuples are immutable, which means that once they are created, their contents cannot \n",
    "      be changed. Lists are mutable, which means that their contents can be changed.\n",
    "    \n",
    "    * Speed: Tuples are generally faster than lists, because they are immutable and do not need to be\n",
    "      updated when their contents are changed\n",
    "    * Memory usage: Tuples use less memory than lists, because they do not need to store information \n",
    "      about the size and location of their contents.\n",
    "    \n",
    "In general, tuples are a good choice when you need to store a collection of data that will not\n",
    "change. Lists are a good choice when you need to store a collection of data that will change \n",
    "frequently."
   ]
  },
  {
   "cell_type": "code",
   "execution_count": null,
   "id": "05678ed4",
   "metadata": {},
   "outputs": [],
   "source": [
    "14. How do you type a tuple value that only contains the integer 42?"
   ]
  },
  {
   "cell_type": "code",
   "execution_count": null,
   "id": "f40662c6",
   "metadata": {},
   "outputs": [],
   "source": [
    "To create a tuple in Python that contains the integer value 42 you can simply enclose the value\n",
    "within parentheses.\n",
    "tuple = (42,)"
   ]
  },
  {
   "cell_type": "code",
   "execution_count": null,
   "id": "64dee20a",
   "metadata": {},
   "outputs": [],
   "source": [
    "15. How do you get a list value's tuple form? How do you get a tuple value's list form?"
   ]
  },
  {
   "cell_type": "code",
   "execution_count": 1,
   "id": "97f5da2c",
   "metadata": {},
   "outputs": [
    {
     "ename": "SyntaxError",
     "evalue": "unterminated string literal (detected at line 1) (2152235544.py, line 1)",
     "output_type": "error",
     "traceback": [
      "\u001b[1;36m  Cell \u001b[1;32mIn[1], line 1\u001b[1;36m\u001b[0m\n\u001b[1;33m    To get a list value's tuple form, you can use the tuple() function. For example, the\u001b[0m\n\u001b[1;37m                       ^\u001b[0m\n\u001b[1;31mSyntaxError\u001b[0m\u001b[1;31m:\u001b[0m unterminated string literal (detected at line 1)\n"
     ]
    }
   ],
   "source": [
    "* To get a list value's tuple form, you can use the tuple() function. For example, the \n",
    "  following code will convert the list [1, 2, 3] to a tuple:"
   ]
  },
  {
   "cell_type": "code",
   "execution_count": 2,
   "id": "6b7ac94a",
   "metadata": {},
   "outputs": [
    {
     "name": "stdout",
     "output_type": "stream",
     "text": [
      "(1, 2, 3)\n"
     ]
    }
   ],
   "source": [
    "list_value = [1, 2, 3]\n",
    "tuple_value = tuple(list_value)\n",
    "print(tuple_value)"
   ]
  },
  {
   "cell_type": "code",
   "execution_count": null,
   "id": "d2aa1ba5",
   "metadata": {},
   "outputs": [],
   "source": [
    "* To get a tuple value's list form, you can use the list() function. For example, the following \n",
    "  code will convert the tuple (\"a\", \"b\", \"c\") to a list:"
   ]
  },
  {
   "cell_type": "code",
   "execution_count": 3,
   "id": "938e7f0a",
   "metadata": {},
   "outputs": [
    {
     "name": "stdout",
     "output_type": "stream",
     "text": [
      "['a', 'b', 'c']\n"
     ]
    }
   ],
   "source": [
    "tuple_value = (\"a\", \"b\", \"c\")\n",
    "list_value = list(tuple_value)\n",
    "print(list_value)"
   ]
  },
  {
   "cell_type": "code",
   "execution_count": null,
   "id": "74ee3f59",
   "metadata": {},
   "outputs": [],
   "source": [
    "16. Variables that \"contain\" list values are not necessarily lists themselves. Instead, \n",
    "what do they contain?"
   ]
  },
  {
   "cell_type": "code",
   "execution_count": null,
   "id": "282566eb",
   "metadata": {},
   "outputs": [],
   "source": [
    "In Python, variables that appear to \"contain\" list values are actually referencing the memory \n",
    "location where the list is stored. They don't directly store the list values themselves. This\n",
    "concept is crucial to understanding how variables and data structures work in Python.\n",
    "\n",
    "When you assign a list to a variable, the variable holds a reference to the memory location where\n",
    "the list data is stored. This means that multiple variables can refer to the same list in memory.\n",
    "Any changes made to the list through one variable will be reflected in all variables that reference\n",
    "the same list."
   ]
  },
  {
   "cell_type": "code",
   "execution_count": 4,
   "id": "f967bd83",
   "metadata": {},
   "outputs": [
    {
     "name": "stdout",
     "output_type": "stream",
     "text": [
      "[1, 2, 3, 4]\n"
     ]
    }
   ],
   "source": [
    "original_list = [1, 2, 3]\n",
    "new_list = original_list\n",
    "\n",
    "new_list.append(4)\n",
    "\n",
    "print(original_list) "
   ]
  },
  {
   "cell_type": "code",
   "execution_count": null,
   "id": "1228638f",
   "metadata": {},
   "outputs": [],
   "source": [
    "17. 17. How do you distinguish between copy.copy() and copy.deepcopy()?"
   ]
  },
  {
   "cell_type": "code",
   "execution_count": null,
   "id": "ad7ef99c",
   "metadata": {},
   "outputs": [],
   "source": [
    "In Python's copy module, copy() and deepcopy() are two functions used to create copies of objects,\n",
    "particularly for nested data structures like lists, dictionaries, and custom objects. The distinction\n",
    "between these two functions lies in how they handle copying nested objects:\n",
    "    \n",
    "1. copy.copy()\n",
    "  * copy.copy() performs a shallow copy of an object.\n",
    "    A shallow copy creates a new object, but it does not create new copies of the objects nested  \n",
    "    \n",
    "  * within the original object. Instead, it copies references to those nested objects. \n",
    "\n",
    "  * If the original object contains mutable objects (like lists), changes to the nested objects \n",
    "    will be reflected in both the original and copied objects.\n",
    "    \n",
    "  * Shallow copies are useful for creating a new structure that shares some of the internal objects\n",
    "    with the original.  "
   ]
  },
  {
   "cell_type": "code",
   "execution_count": 5,
   "id": "f2cbb5a5",
   "metadata": {},
   "outputs": [
    {
     "name": "stdout",
     "output_type": "stream",
     "text": [
      "[1, [99, 3], 4]\n",
      "[1, [99, 3], 4]\n"
     ]
    }
   ],
   "source": [
    "import copy\n",
    "\n",
    "original_list = [1, [2, 3], 4]\n",
    "shallow_copied_list = copy.copy(original_list)\n",
    "\n",
    "shallow_copied_list[1][0] = 99\n",
    "\n",
    "print(original_list)           \n",
    "print(shallow_copied_list)     "
   ]
  },
  {
   "cell_type": "code",
   "execution_count": null,
   "id": "26735e72",
   "metadata": {},
   "outputs": [],
   "source": [
    "2. copy.deepcopy()\n",
    "  * copy.deepcopy() creates a deep copy of an object.\n",
    "  \n",
    "  * A deep copy not only creates a new object, but it also recursively creates new copies of all \n",
    "  the objects nested within the original object, effectively creating a completely independent copy\n",
    "    \n",
    "  * Changes made to nested objects in the deep copy do not affect the original object or other copies.\n",
    "\n",
    "  *Deep copies are useful when you want to completely separate the copied structure from the original."
   ]
  },
  {
   "cell_type": "code",
   "execution_count": 6,
   "id": "c83c4070",
   "metadata": {},
   "outputs": [
    {
     "name": "stdout",
     "output_type": "stream",
     "text": [
      "[1, [2, 3], 4]\n",
      "[1, [99, 3], 4]\n"
     ]
    }
   ],
   "source": [
    "import copy\n",
    "\n",
    "original_list = [1, [2, 3], 4]\n",
    "deep_copied_list = copy.deepcopy(original_list)\n",
    "\n",
    "deep_copied_list[1][0] = 99\n",
    "\n",
    "print(original_list)         \n",
    "print(deep_copied_list) "
   ]
  }
 ],
 "metadata": {
  "kernelspec": {
   "display_name": "Python 3 (ipykernel)",
   "language": "python",
   "name": "python3"
  },
  "language_info": {
   "codemirror_mode": {
    "name": "ipython",
    "version": 3
   },
   "file_extension": ".py",
   "mimetype": "text/x-python",
   "name": "python",
   "nbconvert_exporter": "python",
   "pygments_lexer": "ipython3",
   "version": "3.11.1"
  }
 },
 "nbformat": 4,
 "nbformat_minor": 5
}
