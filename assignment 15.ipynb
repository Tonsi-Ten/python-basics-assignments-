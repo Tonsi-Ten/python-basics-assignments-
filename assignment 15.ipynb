{
 "cells": [
  {
   "cell_type": "code",
   "execution_count": null,
   "id": "bebaa69b",
   "metadata": {},
   "outputs": [],
   "source": [
    "1.How many seconds are in an hour? Use the interactive interpreter as a calculator and multiply the\n",
    "number of seconds in a minute (60) by the number of minutes in an hour (also 60).\n",
    "sol. 60"
   ]
  },
  {
   "cell_type": "code",
   "execution_count": null,
   "id": "6387b148",
   "metadata": {},
   "outputs": [],
   "source": [
    "To calculate the number of seconds in an hour, you can multiply the number of seconds in a minute (60)\n",
    "by the number of minutes in an hour (60):"
   ]
  },
  {
   "cell_type": "code",
   "execution_count": 2,
   "id": "14c142e2",
   "metadata": {},
   "outputs": [
    {
     "data": {
      "text/plain": [
       "3600"
      ]
     },
     "execution_count": 2,
     "metadata": {},
     "output_type": "execute_result"
    }
   ],
   "source": [
    "60*60"
   ]
  },
  {
   "cell_type": "code",
   "execution_count": null,
   "id": "ae3704ad",
   "metadata": {},
   "outputs": [],
   "source": [
    "2. Assign the result from the previous task (seconds in an hour) to a variable called\n",
    "seconds_per_hour."
   ]
  },
  {
   "cell_type": "code",
   "execution_count": null,
   "id": "44720d4f",
   "metadata": {},
   "outputs": [],
   "source": [
    "You can assign the result of the calculation (3600 seconds) to a variable called seconds_per_hour like this"
   ]
  },
  {
   "cell_type": "code",
   "execution_count": 4,
   "id": "3df316b1",
   "metadata": {},
   "outputs": [
    {
     "name": "stdout",
     "output_type": "stream",
     "text": [
      "3600\n"
     ]
    }
   ],
   "source": [
    "seconds_per_hour = 60 * 60\n",
    "print(seconds_per_hour)"
   ]
  },
  {
   "cell_type": "code",
   "execution_count": null,
   "id": "40bf6d65",
   "metadata": {},
   "outputs": [],
   "source": [
    "3. How many seconds do you think there are in a day? Make use of the variables seconds per hour\n",
    "and minutes per hour."
   ]
  },
  {
   "cell_type": "code",
   "execution_count": null,
   "id": "6167a7fa",
   "metadata": {},
   "outputs": [],
   "source": [
    "To calculate how many seconds there are in a day, you can start by calculating the number of seconds in an\n",
    "hour and then multiply that by the number of hours in a day.\n",
    "\n",
    "1 minute has 60 seconds.\n",
    "1 hour has 60 minutes.\n",
    "\n",
    "So, to find the number of seconds in an hour:\n",
    "\n",
    "seconds per hour = 60 minutes/hour * 60 seconds/minute = 3,600 seconds/hour\n",
    "\n",
    "Now, to find the number of seconds in a day, you simply need to multiply the seconds per hour by the number of hours in a day:\n",
    "\n",
    "seconds per day = seconds per hour * hours per day\n",
    "\n",
    "Assuming a day has 24 hours:\n",
    "\n",
    "seconds per day = 3,600 seconds/hour * 24 hours/day = 86,400 seconds/day\n",
    "\n",
    "So, there are 86,400 seconds in a day."
   ]
  },
  {
   "cell_type": "code",
   "execution_count": null,
   "id": "65632c88",
   "metadata": {},
   "outputs": [],
   "source": [
    "4. Calculate seconds per day again, but this time save the result in a variable called seconds_per_day"
   ]
  },
  {
   "cell_type": "code",
   "execution_count": 2,
   "id": "9b4ccc8b",
   "metadata": {},
   "outputs": [
    {
     "name": "stdout",
     "output_type": "stream",
     "text": [
      "Seconds per day: 86400\n"
     ]
    }
   ],
   "source": [
    "# Define the variables\n",
    "seconds_per_hour = 60 * 60  # Number of seconds in an hour\n",
    "hours_per_day = 24  # Number of hours in a day\n",
    "\n",
    "# Calculate seconds per day\n",
    "seconds_per_day = seconds_per_hour * hours_per_day\n",
    "\n",
    "# Print the result\n",
    "print(\"Seconds per day:\", seconds_per_day)\n"
   ]
  },
  {
   "cell_type": "code",
   "execution_count": null,
   "id": "e91cff69",
   "metadata": {},
   "outputs": [],
   "source": [
    "When you run this code, it will calculate the number of seconds in a day and store the result in the \n",
    "seconds_per_day variable. The printed result will show you the value of seconds_per_day which is 86400\n",
    "seconds."
   ]
  },
  {
   "cell_type": "code",
   "execution_count": null,
   "id": "c58a081f",
   "metadata": {},
   "outputs": [],
   "source": [
    "5. Divide seconds_per_day by seconds_per_hour. Use floating-point (/) division."
   ]
  },
  {
   "cell_type": "code",
   "execution_count": 1,
   "id": "14b17c65",
   "metadata": {},
   "outputs": [
    {
     "name": "stdout",
     "output_type": "stream",
     "text": [
      "Result of seconds_per_day / seconds_per_hour: 24.0\n"
     ]
    }
   ],
   "source": [
    "# Define the variables\n",
    "seconds_per_hour = 60 * 60  # Number of seconds in an hour\n",
    "hours_per_day = 24  # Number of hours in a day\n",
    "\n",
    "# Calculate seconds per day\n",
    "seconds_per_day = seconds_per_hour * hours_per_day\n",
    "\n",
    "# Divide seconds_per_day by seconds_per_hour using floating-point division\n",
    "result = seconds_per_day / seconds_per_hour\n",
    "\n",
    "# Print the result\n",
    "print(\"Result of seconds_per_day / seconds_per_hour:\", result)"
   ]
  },
  {
   "cell_type": "code",
   "execution_count": null,
   "id": "349ac7ac",
   "metadata": {},
   "outputs": [],
   "source": [
    "6. Divide seconds_per_day by seconds_per_hour, using integer (//) division. Did this number agree\n",
    "with the floating-point value from the previous question, aside from the final .0?"
   ]
  },
  {
   "cell_type": "code",
   "execution_count": 3,
   "id": "4f28a2a0",
   "metadata": {},
   "outputs": [
    {
     "name": "stdout",
     "output_type": "stream",
     "text": [
      "Result of seconds_per_day // seconds_per_hour: 24\n"
     ]
    }
   ],
   "source": [
    "# Define the variables\n",
    "seconds_per_hour = 60 * 60  # Number of seconds in an hour\n",
    "hours_per_day = 24  # Number of hours in a day\n",
    "\n",
    "# Calculate seconds per day\n",
    "seconds_per_day = seconds_per_hour * hours_per_day\n",
    "\n",
    "# Divide seconds_per_day by seconds_per_hour using integer division\n",
    "result = seconds_per_day // seconds_per_hour\n",
    "\n",
    "# Print the result\n",
    "print(\"Result of seconds_per_day // seconds_per_hour:\", result)"
   ]
  },
  {
   "cell_type": "code",
   "execution_count": null,
   "id": "d4a7abee",
   "metadata": {},
   "outputs": [],
   "source": [
    "When you run this code, it will calculate the result of dividing the number of seconds in a day by the \n",
    "number of seconds in an hour using integer division. The result should be 24, which is the number of \n",
    "complete hours in a day.\n",
    "\n",
    "The integer division result (24) is the same as the floating-point division result (24.0) from the \n",
    "previous question, except for the final \".0\". This is because integer division discards any fractional \n",
    "part, so it rounds down to the nearest whole number. So, aside from the \".0\" in the floating-point value,\n",
    "the two values agree, and both indicate that there are 24 hours in a day."
   ]
  },
  {
   "cell_type": "code",
   "execution_count": null,
   "id": "568317dd",
   "metadata": {},
   "outputs": [],
   "source": [
    "7. Write a generator, genPrimes, that returns the sequence of prime numbers on successive calls to\n",
    "its next() method: 2, 3, 5, 7, 11, ..."
   ]
  },
  {
   "cell_type": "code",
   "execution_count": 10,
   "id": "6bb78843",
   "metadata": {},
   "outputs": [
    {
     "name": "stdout",
     "output_type": "stream",
     "text": [
      "2\n",
      "3\n",
      "5\n",
      "7\n",
      "11\n"
     ]
    }
   ],
   "source": [
    "def genPrimes():\n",
    "    primes = []  # A list to store prime numbers\n",
    "    n = 2  # Start with the first prime number, 2\n",
    "    \n",
    "    while True:\n",
    "        for p in primes:\n",
    "            if n % p == 0:\n",
    "                break\n",
    "        else:\n",
    "            primes.append(n)\n",
    "            yield n\n",
    "        n += 1\n",
    "\n",
    "# Example usage:\n",
    "prime_generator = genPrimes()\n",
    "print(next(prime_generator))  # 2\n",
    "print(next(prime_generator))  # 3\n",
    "print(next(prime_generator))  # 5\n",
    "print(next(prime_generator))  # 7\n",
    "print(next(prime_generator))  # 11\n"
   ]
  },
  {
   "cell_type": "code",
   "execution_count": null,
   "id": "e94e55dc",
   "metadata": {},
   "outputs": [],
   "source": [
    "In this code, we create a generator function genPrimes that generates prime numbers on successive calls\n",
    "to its next() method. It uses a list primes to keep track of previously discovered prime numbers. The\n",
    "generator uses a while loop to continuously search for prime numbers, starting from 2 and incrementing\n",
    "n by 1 in each iteration.\n",
    "\n",
    "For each value of n, the generator checks if n is divisible by any of the previously discovered prime \n",
    "numbers. If not, it appends n to the primes list and yields it as the next prime number. If n is not \n",
    "prime, the loop continues until a prime number is found.\n",
    "\n",
    "You can use this generator to generate prime numbers as shown in the example usage. Each call to\n",
    "next(prime_generator) will yield the next prime number in the sequence."
   ]
  },
  {
   "cell_type": "code",
   "execution_count": null,
   "id": "411c124e",
   "metadata": {},
   "outputs": [],
   "source": []
  },
  {
   "cell_type": "code",
   "execution_count": null,
   "id": "5b86ae74",
   "metadata": {},
   "outputs": [],
   "source": []
  }
 ],
 "metadata": {
  "kernelspec": {
   "display_name": "Python 3 (ipykernel)",
   "language": "python",
   "name": "python3"
  },
  "language_info": {
   "codemirror_mode": {
    "name": "ipython",
    "version": 3
   },
   "file_extension": ".py",
   "mimetype": "text/x-python",
   "name": "python",
   "nbconvert_exporter": "python",
   "pygments_lexer": "ipython3",
   "version": "3.11.1"
  }
 },
 "nbformat": 4,
 "nbformat_minor": 5
}
