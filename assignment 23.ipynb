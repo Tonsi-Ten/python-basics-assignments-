{
 "cells": [
  {
   "cell_type": "code",
   "execution_count": null,
   "id": "62edfe67",
   "metadata": {},
   "outputs": [],
   "source": [
    "1. What is the result of the code, and why?\n",
    " def func(a, b=6, c=8):\n",
    "    print(a, b, c)\n",
    "    func(1, 2)"
   ]
  },
  {
   "cell_type": "code",
   "execution_count": null,
   "id": "4840b019",
   "metadata": {},
   "outputs": [],
   "source": [
    "he code defines a function func with three parameters (a, b, and c), where b and c have default values\n",
    "of 6 and 8, respectively. Then, the function is called with arguments 1 and 2 for parameters a and b,\n",
    "respectively.\n",
    "When the function is called with func(1, 2), the values are assigned as follows:\n",
    "\n",
    ". a gets the value 1 (provided in the function call).\n",
    ". b gets the value 2 (provided in the function call, overrides the default value of 6).\n",
    ". c uses its default value, which is 8.\n",
    "Therefore, the print statement inside the function will output 1 2 8. The result is:"
   ]
  },
  {
   "cell_type": "code",
   "execution_count": null,
   "id": "f11d2e28",
   "metadata": {},
   "outputs": [],
   "source": [
    "2. What is the result of this code, and why?\n",
    "def func(a, b, c=5):\n",
    "print(a, b, c)\n",
    "\n",
    "func(1, c=3, b=2)"
   ]
  },
  {
   "cell_type": "code",
   "execution_count": null,
   "id": "483082ce",
   "metadata": {},
   "outputs": [],
   "source": [
    "In this code, the function func is defined with three parameters (a, b, and c), where c has a default\n",
    "value of 5. Then, the function is called with specific values for parameters a, b, and c\n",
    "\n",
    "When the function is called with func(1, c=3, b=2), the values are assigned as follows:\n",
    "\n",
    ". a gets the value 1 (provided in the function call).\n",
    ". b gets the value 2 (provided in the function call, overrides any default value).\n",
    ". c gets the value 3 (provided in the function call, overrides the default value of 5).\n",
    "Therefore, the print statement inside the function will output 1 2 3. The result is:"
   ]
  },
  {
   "cell_type": "code",
   "execution_count": null,
   "id": "0c2d0c14",
   "metadata": {},
   "outputs": [],
   "source": [
    "3. How about this code: what is its result, and why?\n",
    "def func(a, *pargs):\n",
    "print(a, pargs)\n",
    "\n",
    "func(1, 2, 3)"
   ]
  },
  {
   "cell_type": "code",
   "execution_count": null,
   "id": "0ed7c23a",
   "metadata": {},
   "outputs": [],
   "source": [
    "\n",
    "In this code, the function func is defined with a parameter a and a variable-length parameter pargs\n",
    "(using the * syntax to indicate a variable number of positional arguments). The function then prints\n",
    "the values of a and pargs.\n",
    "\n",
    "When the function is called with func(1, 2, 3), the value 1 is assigned to a, and the remaining positional\n",
    "arguments 2 and 3 are collected into the tuple pargs due to the * syntax.\n",
    "\n",
    "Therefore, the print statement inside the function will output 1 (2, 3). The result is:"
   ]
  },
  {
   "cell_type": "code",
   "execution_count": null,
   "id": "c195ad83",
   "metadata": {},
   "outputs": [],
   "source": [
    "4. What does this code print, and why?\n",
    "def func(a, **kargs):\n",
    "print(a, kargs)\n",
    "\n",
    "func(a=1, c=3, b=2)"
   ]
  },
  {
   "cell_type": "code",
   "execution_count": null,
   "id": "455f0638",
   "metadata": {},
   "outputs": [],
   "source": [
    "In this code, the function func is defined with a parameter a and a variable-length keyword parameter\n",
    "kargs (using the ** syntax to indicate a variable number of keyword arguments). The function then prints\n",
    "the values of a and kargs.\n",
    "\n",
    "When the function is called with func(a=1, c=3, b=2), the value 1 is assigned to a, and the keyword\n",
    "arguments c=3 and b=2 are collected into the dictionary kargs due to the ** syntax.\n",
    "\n",
    "Therefore, the print statement inside the function will output 1 {'c': 3, 'b': 2}. The result is:"
   ]
  },
  {
   "cell_type": "code",
   "execution_count": null,
   "id": "45ca203a",
   "metadata": {},
   "outputs": [],
   "source": [
    "5. What gets printed by this, and explain?\n",
    "def func(a, b, c=8, d=5): print(a, b, c, d)\n",
    "\n",
    "func(1, *(5, 6))"
   ]
  },
  {
   "cell_type": "code",
   "execution_count": null,
   "id": "5d9c8edf",
   "metadata": {},
   "outputs": [],
   "source": [
    "In this code, the function func is defined with four parameters (a, b, c, and d), where c has a default\n",
    "value of 8, and d has a default value of 5. The function then prints the values of these parameters.\n",
    "\n",
    "The function is called with func(1, *(5, 6)). The * operator is used to unpack the tuple (5, 6) into\n",
    "separate arguments. Therefore, the function call is equivalent to func(1, 5, 6).\n",
    "\n",
    "When the function is called, the values are assigned as follows:\n",
    "\n",
    "a gets the value 1 (provided in the function call).\n",
    "b gets the value 5 (unpacked from the tuple (5, 6)).\n",
    "c uses its default value, which is 8.\n",
    "d uses its default value, which is 5.\n",
    "Therefore, the print statement inside the function will output 1 5 8 5. The result is:"
   ]
  },
  {
   "cell_type": "code",
   "execution_count": null,
   "id": "218e1d1e",
   "metadata": {},
   "outputs": [],
   "source": [
    "6. what is the result of this, and explain?\n",
    "def func(a, b, c): a = 2; b[0] = 'x'; c['a'] = 'y'\n",
    "l=1; m=[1]; n={'a':0}\n",
    "func(l, m, n)\n",
    "\n",
    "l, m, n"
   ]
  },
  {
   "cell_type": "code",
   "execution_count": null,
   "id": "98411b19",
   "metadata": {},
   "outputs": [],
   "source": [
    "In this code, the function func takes three parameters (a, b, and c). Inside the function, the values\n",
    "of a, the first element of b, and the value associated with the key 'a' in the dictionary c are modified."
   ]
  },
  {
   "cell_type": "code",
   "execution_count": 1,
   "id": "9a639084",
   "metadata": {},
   "outputs": [
    {
     "name": "stdout",
     "output_type": "stream",
     "text": [
      "1 ['x'] {'a': 'y'}\n"
     ]
    }
   ],
   "source": [
    "def func(a, b, c):\n",
    "    a = 2           # Modify the local variable a\n",
    "    b[0] = 'x'      # Modify the first element of the list b\n",
    "    c['a'] = 'y'    # Modify the value associated with the key 'a' in the dictionary c\n",
    "\n",
    "l = 1              # l is an integer\n",
    "m = [1]            # m is a list with one element\n",
    "n = {'a': 0}       # n is a dictionary with one key-value pair\n",
    "\n",
    "func(l, m, n)\n",
    "\n",
    "print(l, m, n)\n"
   ]
  },
  {
   "cell_type": "code",
   "execution_count": null,
   "id": "4bcbcaf6",
   "metadata": {},
   "outputs": [],
   "source": [
    "After the function call, the values of l, m, and n are printed.\n",
    "\n",
    "The variable l is an integer (1). Since integers are immutable, changes inside the function do not affect it. So, l remains 1.\n",
    "The variable m is a list ([1]). The function modifies the first element of the list, changing it from 1 to 'x'.\n",
    "The variable n is a dictionary ({'a': 0}). The function modifies the value associated with the key 'a', changing it from 0 to 'y'.\n",
    "Therefore, the output of the print statement will be 1 ['x'] {'a': 'y'}. The result is: 1 ['x'] {'a': 'y'}\n",
    "    "
   ]
  }
 ],
 "metadata": {
  "kernelspec": {
   "display_name": "Python 3 (ipykernel)",
   "language": "python",
   "name": "python3"
  },
  "language_info": {
   "codemirror_mode": {
    "name": "ipython",
    "version": 3
   },
   "file_extension": ".py",
   "mimetype": "text/x-python",
   "name": "python",
   "nbconvert_exporter": "python",
   "pygments_lexer": "ipython3",
   "version": "3.11.1"
  }
 },
 "nbformat": 4,
 "nbformat_minor": 5
}
