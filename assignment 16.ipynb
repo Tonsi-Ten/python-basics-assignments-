{
 "cells": [
  {
   "cell_type": "code",
   "execution_count": null,
   "id": "31d9b14e",
   "metadata": {},
   "outputs": [],
   "source": [
    "1. Create a list called years_list, starting with the year of your birth, and each year thereafter until\n",
    "the year of your fifth birthday. For example, if you were born in 1980. the list would be years_list =\n",
    "[1980, 1981, 1982, 1983, 1984, 1985]."
   ]
  },
  {
   "cell_type": "code",
   "execution_count": 1,
   "id": "83919716",
   "metadata": {},
   "outputs": [
    {
     "name": "stdout",
     "output_type": "stream",
     "text": [
      "[2002, 2003, 2004, 2005, 2006, 2007]\n"
     ]
    }
   ],
   "source": [
    "# Define the year of birth and the number of years to include\n",
    "birth_year = 2002  # Replace this with your birth year\n",
    "years_to_include = 6  # This includes the year of birth and five years thereafter\n",
    "\n",
    "# Create the years_list using a list comprehension\n",
    "years_list = [birth_year + i for i in range(years_to_include)]\n",
    "\n",
    "# Print the resulting list\n",
    "print(years_list)\n"
   ]
  },
  {
   "cell_type": "code",
   "execution_count": null,
   "id": "f866191e",
   "metadata": {},
   "outputs": [],
   "source": [
    "2. In which year in years_list was your third birthday? Remember, you were 0 years of age for your\n",
    "first year."
   ]
  },
  {
   "cell_type": "code",
   "execution_count": null,
   "id": "2a8774db",
   "metadata": {},
   "outputs": [],
   "source": [
    "If you were 0 years old for your first year, and we have a years_list starting from your birth year, you \n",
    "can find the year of your third birthday by indexing the list at the position corresponding to your age \n",
    "of 3 years. Here's how you can do it in Python:"
   ]
  },
  {
   "cell_type": "code",
   "execution_count": 2,
   "id": "aa5265a6",
   "metadata": {},
   "outputs": [
    {
     "name": "stdout",
     "output_type": "stream",
     "text": [
      "The year of your third birthday was: 2005\n"
     ]
    }
   ],
   "source": [
    "# Define the year of birth and the number of years to include\n",
    "birth_year = 2002  # Replace this with your birth year\n",
    "years_to_include = 6  # This includes the year of birth and five years thereafter\n",
    "\n",
    "# Create the years_list using a list comprehension\n",
    "years_list = [birth_year + i for i in range(years_to_include)]\n",
    "\n",
    "# Find the year of your third birthday\n",
    "year_of_third_birthday = years_list[3]\n",
    "\n",
    "# Print the result\n",
    "print(\"The year of your third birthday was:\", year_of_third_birthday)\n"
   ]
  },
  {
   "cell_type": "code",
   "execution_count": null,
   "id": "f56b935a",
   "metadata": {},
   "outputs": [],
   "source": [
    "3.In the years list, which year were you the oldest?"
   ]
  },
  {
   "cell_type": "code",
   "execution_count": null,
   "id": "46a6f3bd",
   "metadata": {},
   "outputs": [],
   "source": [
    "To find the year in the years_list when you were the oldest, you can simply access the last element of \n",
    "the list since the list is arranged in chronological order, and the last year in the list will be the \n",
    "year you turned the oldest. Here's how you can do it in Python:"
   ]
  },
  {
   "cell_type": "code",
   "execution_count": 4,
   "id": "86d21035",
   "metadata": {},
   "outputs": [
    {
     "name": "stdout",
     "output_type": "stream",
     "text": [
      "The year when you were the oldest was: 2007\n"
     ]
    }
   ],
   "source": [
    "# Define the year of birth and the number of years to include\n",
    "birth_year = 2002  # Replace this with your birth year\n",
    "years_to_include = 6  # This includes the year of birth and five years thereafter\n",
    "\n",
    "# Create the years_list using a list comprehension\n",
    "years_list = [birth_year + i for i in range(years_to_include)]\n",
    "\n",
    "# Find the year when you were the oldest\n",
    "year_of_oldest = years_list[-1]\n",
    "\n",
    "# Print the result\n",
    "print(\"The year when you were the oldest was:\", year_of_oldest)\n"
   ]
  },
  {
   "cell_type": "code",
   "execution_count": null,
   "id": "a081a784",
   "metadata": {},
   "outputs": [],
   "source": [
    "4. Make a list called things with these three strings as elements: \"mozzarella\" , \"cinderella\" ,\n",
    "\"salmonella\"."
   ]
  },
  {
   "cell_type": "code",
   "execution_count": null,
   "id": "34f35b23",
   "metadata": {},
   "outputs": [],
   "source": [
    "You can create a list called \"things\" with the given strings as elements in Python as follows"
   ]
  },
  {
   "cell_type": "code",
   "execution_count": 6,
   "id": "bfe85e5f",
   "metadata": {},
   "outputs": [
    {
     "name": "stdout",
     "output_type": "stream",
     "text": [
      "['mozzarella', 'cinderella', 'salmonella']\n"
     ]
    }
   ],
   "source": [
    "things = [\"mozzarella\", \"cinderella\", \"salmonella\"]\n",
    "print(things)"
   ]
  },
  {
   "cell_type": "code",
   "execution_count": null,
   "id": "d0cb15f7",
   "metadata": {},
   "outputs": [],
   "source": [
    "5. Capitalize the element in things that refers to a person and then print the list. Did it change the\n",
    "element in the list?"
   ]
  },
  {
   "cell_type": "code",
   "execution_count": 7,
   "id": "2b77b781",
   "metadata": {},
   "outputs": [
    {
     "name": "stdout",
     "output_type": "stream",
     "text": [
      "['Mozzarella', 'Cinderella', 'Salmonella']\n"
     ]
    }
   ],
   "source": [
    "things = [\"mozzarella\", \"cinderella\", \"salmonella\"]\n",
    "\n",
    "# Find the element that refers to a person and capitalize it\n",
    "for i in range(len(things)):\n",
    "    if \"ella\" in things[i]:\n",
    "        things[i] = things[i].capitalize()\n",
    "\n",
    "# Print the updated list\n",
    "print(things)\n"
   ]
  },
  {
   "cell_type": "code",
   "execution_count": null,
   "id": "c042b18f",
   "metadata": {},
   "outputs": [],
   "source": [
    "6. Make a surprise list with the elements \"Groucho\", \"Chico\", \"Harpo\"."
   ]
  },
  {
   "cell_type": "code",
   "execution_count": 8,
   "id": "08f36b4e",
   "metadata": {},
   "outputs": [
    {
     "name": "stdout",
     "output_type": "stream",
     "text": [
      "['Groucho', 'Chico', 'Harpo']\n"
     ]
    }
   ],
   "source": [
    "surprise = [\"Groucho\", \"Chico\", \"Harpo\"]\n",
    "print(surprise)"
   ]
  },
  {
   "cell_type": "code",
   "execution_count": null,
   "id": "2dabc32f",
   "metadata": {},
   "outputs": [],
   "source": [
    "7. Lowercase the last element of the surprise list, reverse it, and then capitalize it."
   ]
  },
  {
   "cell_type": "code",
   "execution_count": null,
   "id": "a0d0a30c",
   "metadata": {},
   "outputs": [],
   "source": [
    "To lowercase the last element of the \"surprise\" list, reverse it, and then capitalize it, you can use\n",
    "the following Python code:"
   ]
  },
  {
   "cell_type": "code",
   "execution_count": 9,
   "id": "dd793b3a",
   "metadata": {},
   "outputs": [
    {
     "name": "stdout",
     "output_type": "stream",
     "text": [
      "['Groucho', 'Chico', 'Oprah']\n"
     ]
    }
   ],
   "source": [
    "surprise = [\"Groucho\", \"Chico\", \"Harpo\"]\n",
    "\n",
    "# Lowercase the last element\n",
    "last_element = surprise[-1].lower()\n",
    "\n",
    "# Reverse the last element\n",
    "reversed_element = last_element[::-1]\n",
    "\n",
    "# Capitalize the reversed element\n",
    "capitalized_reversed_element = reversed_element.capitalize()\n",
    "\n",
    "# Update the last element in the original list\n",
    "surprise[-1] = capitalized_reversed_element\n",
    "\n",
    "# Print the updated list\n",
    "print(surprise)\n"
   ]
  },
  {
   "cell_type": "code",
   "execution_count": null,
   "id": "ae90f66c",
   "metadata": {},
   "outputs": [],
   "source": [
    "8. Make an English-to-French dictionary called e2f and print it. Here are your starter words: dog is\n",
    "chien, cat is chat, and walrus is morse."
   ]
  },
  {
   "cell_type": "code",
   "execution_count": 10,
   "id": "e9053dc5",
   "metadata": {},
   "outputs": [
    {
     "name": "stdout",
     "output_type": "stream",
     "text": [
      "{'dog': 'chien', 'cat': 'chat', 'walrus': 'morse'}\n"
     ]
    }
   ],
   "source": [
    "# Create the English-to-French dictionary\n",
    "e2f = {\n",
    "    \"dog\": \"chien\",\n",
    "    \"cat\": \"chat\",\n",
    "    \"walrus\": \"morse\"\n",
    "}\n",
    "\n",
    "# Print the dictionary\n",
    "print(e2f)\n"
   ]
  },
  {
   "cell_type": "code",
   "execution_count": null,
   "id": "2f4ddb9c",
   "metadata": {},
   "outputs": [],
   "source": [
    "9. Write the French word for walrus in your three-word dictionary e2f."
   ]
  },
  {
   "cell_type": "code",
   "execution_count": 12,
   "id": "ee50a04e",
   "metadata": {},
   "outputs": [
    {
     "name": "stdout",
     "output_type": "stream",
     "text": [
      "The French word for walrus is: morse\n"
     ]
    }
   ],
   "source": [
    "# Create the English-to-French dictionary\n",
    "e2f = {\n",
    "    \"dog\": \"chien\",\n",
    "    \"cat\": \"chat\",\n",
    "    \"walrus\": \"morse\"\n",
    "}\n",
    "\n",
    "# Get the French word for \"walrus\"\n",
    "french_word_for_walrus = e2f[\"walrus\"]\n",
    "\n",
    "# Print the result\n",
    "print(\"The French word for walrus is:\", french_word_for_walrus)\n"
   ]
  },
  {
   "cell_type": "code",
   "execution_count": null,
   "id": "7dbd6501",
   "metadata": {},
   "outputs": [],
   "source": [
    "10. Make a French-to-English dictionary called f2e from e2f. Use the items method."
   ]
  },
  {
   "cell_type": "code",
   "execution_count": null,
   "id": "d895840f",
   "metadata": {},
   "outputs": [],
   "source": [
    "You can create a French-to-English dictionary called \"f2e\" from the existing \"e2f\" dictionary using the\n",
    "items() method to switch the keys and values. Here's how you can do it in Python:"
   ]
  },
  {
   "cell_type": "code",
   "execution_count": 13,
   "id": "1081db32",
   "metadata": {},
   "outputs": [
    {
     "name": "stdout",
     "output_type": "stream",
     "text": [
      "{'chien': 'dog', 'chat': 'cat', 'morse': 'walrus'}\n"
     ]
    }
   ],
   "source": [
    "# Create the English-to-French dictionary\n",
    "e2f = {\n",
    "    \"dog\": \"chien\",\n",
    "    \"cat\": \"chat\",\n",
    "    \"walrus\": \"morse\"\n",
    "}\n",
    "\n",
    "# Create the French-to-English dictionary using the items method\n",
    "f2e = {french: english for english, french in e2f.items()}\n",
    "\n",
    "# Print the French-to-English dictionary\n",
    "print(f2e)\n"
   ]
  },
  {
   "cell_type": "code",
   "execution_count": null,
   "id": "f5994220",
   "metadata": {},
   "outputs": [],
   "source": [
    "11. Print the English version of the French word chien using f2e."
   ]
  },
  {
   "cell_type": "code",
   "execution_count": null,
   "id": "a7616e65",
   "metadata": {},
   "outputs": [],
   "source": [
    "\n",
    "To retrieve the English translation of the French word \"chien\" from the \"f2e\" dictionary, you can use \n",
    "the key \"chien\" to access the corresponding English word. Here's how to do it in Python:"
   ]
  },
  {
   "cell_type": "code",
   "execution_count": 14,
   "id": "47407d5a",
   "metadata": {},
   "outputs": [
    {
     "name": "stdout",
     "output_type": "stream",
     "text": [
      "The English word for chien is: dog\n"
     ]
    }
   ],
   "source": [
    "# Create the French-to-English dictionary\n",
    "f2e = {\n",
    "    \"chien\": \"dog\",\n",
    "    \"chat\": \"cat\",\n",
    "    \"morse\": \"walrus\"\n",
    "}\n",
    "\n",
    "# Get the English word for \"chien\"\n",
    "english_word_for_chien = f2e[\"chien\"]\n",
    "\n",
    "# Print the result\n",
    "print(\"The English word for chien is:\", english_word_for_chien)\n"
   ]
  },
  {
   "cell_type": "code",
   "execution_count": null,
   "id": "8b45774e",
   "metadata": {},
   "outputs": [],
   "source": [
    "12. Make and print a set of English words from the keys in e2f."
   ]
  },
  {
   "cell_type": "code",
   "execution_count": null,
   "id": "823e1167",
   "metadata": {},
   "outputs": [],
   "source": [
    "To create a set of English words from the keys in the \"e2f\" dictionary and then print that set, you can\n",
    "use the set() function with the keys() method. Here's how to do it in Python:"
   ]
  },
  {
   "cell_type": "code",
   "execution_count": 15,
   "id": "7adbbe99",
   "metadata": {},
   "outputs": [
    {
     "name": "stdout",
     "output_type": "stream",
     "text": [
      "{'dog', 'cat', 'walrus'}\n"
     ]
    }
   ],
   "source": [
    "# Create the English-to-French dictionary\n",
    "e2f = {\n",
    "    \"dog\": \"chien\",\n",
    "    \"cat\": \"chat\",\n",
    "    \"walrus\": \"morse\"\n",
    "}\n",
    "\n",
    "# Create a set of English words from the keys\n",
    "english_words_set = set(e2f.keys())\n",
    "\n",
    "# Print the set of English words\n",
    "print(english_words_set)\n"
   ]
  },
  {
   "cell_type": "code",
   "execution_count": null,
   "id": "45729c98",
   "metadata": {},
   "outputs": [],
   "source": [
    "13. Make a multilevel dictionary called life. Use these strings for the topmost keys: \"animals\",\"plants\",\n",
    "and \"other\". Make the \"animals\" key refer to another dictionary with the keys \"cats\", \"octopi\", and\n",
    "\"emus\". Make the \"cats\" key refer to a list of strings with the values \"Henri\", \"Grumpy\", and  \"Lucy\".\n",
    "Make all the other keys refer to empty dictionaries."
   ]
  },
  {
   "cell_type": "code",
   "execution_count": null,
   "id": "c870c1d8",
   "metadata": {},
   "outputs": [],
   "source": [
    "\n",
    "You can create a multilevel dictionary called \"life\" as described using the provided keys and values \n",
    "in Python"
   ]
  },
  {
   "cell_type": "code",
   "execution_count": 20,
   "id": "8754bbff",
   "metadata": {},
   "outputs": [
    {
     "name": "stdout",
     "output_type": "stream",
     "text": [
      "{'animals': {'cats': ['Henri', 'Grumpy', 'Lucy'], 'octopi': {}, 'emus': {}}, 'plants': {}, 'other': {}}\n"
     ]
    }
   ],
   "source": [
    "life = {\n",
    "    'animals': {\n",
    "        'cats': ['Henri', 'Grumpy', 'Lucy'],\n",
    "        'octopi': {},\n",
    "        'emus': {}\n",
    "    },\n",
    "    'plants': {},\n",
    "    'other': {}\n",
    "}\n",
    "\n",
    "print(life)"
   ]
  },
  {
   "cell_type": "code",
   "execution_count": null,
   "id": "942a8e90",
   "metadata": {},
   "outputs": [],
   "source": [
    "In this dictionary:\n",
    "\n",
    "The top-level keys are 'animals', 'plants', and 'other'.\n",
    "The 'animals' key refers to another dictionary with keys 'cats', 'octopi', and 'emus'.\n",
    "The 'cats' key refers to a list of strings with the values 'Henri', 'Grumpy', and 'Lucy'.\n",
    "All the other keys ('octopi', 'emus', 'plants', 'other') refer to empty dictionaries."
   ]
  },
  {
   "cell_type": "code",
   "execution_count": null,
   "id": "03b7f319",
   "metadata": {},
   "outputs": [],
   "source": [
    "14. Print the top-level keys of life."
   ]
  },
  {
   "cell_type": "code",
   "execution_count": 21,
   "id": "fe9608c3",
   "metadata": {},
   "outputs": [
    {
     "name": "stdout",
     "output_type": "stream",
     "text": [
      "['animals', 'plants', 'other']\n"
     ]
    }
   ],
   "source": [
    "life = {\n",
    "    'animals': {\n",
    "        'cats': ['Henri', 'Grumpy', 'Lucy'],\n",
    "        'octopi': {},\n",
    "        'emus': {}\n",
    "    },\n",
    "    'plants': {},\n",
    "    'other': {}\n",
    "}\n",
    "\n",
    "# Print the top-level keys of the life dictionary\n",
    "top_level_keys = list(life.keys())\n",
    "print(top_level_keys)\n"
   ]
  },
  {
   "cell_type": "code",
   "execution_count": null,
   "id": "fe8fb761",
   "metadata": {},
   "outputs": [],
   "source": [
    "15. Print the keys for life[\"animals\"]."
   ]
  },
  {
   "cell_type": "code",
   "execution_count": null,
   "id": "5bf1f18c",
   "metadata": {},
   "outputs": [],
   "source": [
    "To print the keys for the 'animals' sub-dictionary within the 'life' dictionary, you can use the following\n",
    "Python code:"
   ]
  },
  {
   "cell_type": "code",
   "execution_count": 22,
   "id": "8b21c0d7",
   "metadata": {},
   "outputs": [
    {
     "name": "stdout",
     "output_type": "stream",
     "text": [
      "['cats', 'octopi', 'emus']\n"
     ]
    }
   ],
   "source": [
    "life = {\n",
    "    'animals': {\n",
    "        'cats': ['Henri', 'Grumpy', 'Lucy'],\n",
    "        'octopi': {},\n",
    "        'emus': {}\n",
    "    },\n",
    "    'plants': {},\n",
    "    'other': {}\n",
    "}\n",
    "\n",
    "# Print the keys for the 'animals' sub-dictionary\n",
    "animal_keys = list(life['animals'].keys())\n",
    "print(animal_keys)\n"
   ]
  },
  {
   "cell_type": "code",
   "execution_count": null,
   "id": "2399361c",
   "metadata": {},
   "outputs": [],
   "source": [
    "16. Print the values for life[\"animals\"][cats]"
   ]
  },
  {
   "cell_type": "code",
   "execution_count": 23,
   "id": "6276724f",
   "metadata": {},
   "outputs": [
    {
     "name": "stdout",
     "output_type": "stream",
     "text": [
      "['Henri', 'Grumpy', 'Lucy']\n"
     ]
    }
   ],
   "source": [
    "life = {\n",
    "    'animals': {\n",
    "        'cats': ['Henri', 'Grumpy', 'Lucy'],\n",
    "        'octopi': {},\n",
    "        'emus': {}\n",
    "    },\n",
    "    'plants': {},\n",
    "    'other': {}\n",
    "}\n",
    "\n",
    "# Print the values for the 'cats' key within the 'animals' sub-dictionary\n",
    "cat_names = life['animals']['cats']\n",
    "print(cat_names)\n"
   ]
  },
  {
   "cell_type": "code",
   "execution_count": null,
   "id": "790535cc",
   "metadata": {},
   "outputs": [],
   "source": []
  },
  {
   "cell_type": "code",
   "execution_count": null,
   "id": "fb2041ef",
   "metadata": {},
   "outputs": [],
   "source": []
  }
 ],
 "metadata": {
  "kernelspec": {
   "display_name": "Python 3 (ipykernel)",
   "language": "python",
   "name": "python3"
  },
  "language_info": {
   "codemirror_mode": {
    "name": "ipython",
    "version": 3
   },
   "file_extension": ".py",
   "mimetype": "text/x-python",
   "name": "python",
   "nbconvert_exporter": "python",
   "pygments_lexer": "ipython3",
   "version": "3.11.1"
  }
 },
 "nbformat": 4,
 "nbformat_minor": 5
}
