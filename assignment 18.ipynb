{
 "cells": [
  {
   "cell_type": "code",
   "execution_count": null,
   "id": "31684476",
   "metadata": {},
   "outputs": [],
   "source": [
    "1. Create a zoo.py file first. Define the hours() function, which prints the string 'Open 9-5 daily'.\n",
    "Then, use the interactive interpreter to import the zoo module and call its hours() function."
   ]
  },
  {
   "cell_type": "code",
   "execution_count": null,
   "id": "3c4aee61",
   "metadata": {},
   "outputs": [],
   "source": [
    "Create a zoo.py file in your working directory with the following content:"
   ]
  },
  {
   "cell_type": "code",
   "execution_count": 1,
   "id": "31147bb0",
   "metadata": {},
   "outputs": [],
   "source": [
    "# zoo.py\n",
    "def hours():\n",
    "    print('Open 9-5 daily')\n"
   ]
  },
  {
   "cell_type": "code",
   "execution_count": null,
   "id": "8c698a77",
   "metadata": {},
   "outputs": [],
   "source": [
    "Save the zoo.py file.\n",
    "\n",
    "Open the Python interactive interpreter (usually by running the python or python3 command in your terminal).\n",
    "\n",
    "Import the zoo module and call its hours() function:"
   ]
  },
  {
   "cell_type": "code",
   "execution_count": 2,
   "id": "3c26186a",
   "metadata": {},
   "outputs": [
    {
     "name": "stdout",
     "output_type": "stream",
     "text": [
      "Open 9-5 daily\n"
     ]
    }
   ],
   "source": [
    "import zoo\n",
    "\n",
    "zoo.hours()\n"
   ]
  },
  {
   "cell_type": "code",
   "execution_count": null,
   "id": "452d6e51",
   "metadata": {},
   "outputs": [],
   "source": [
    "When you run this code, it will import the zoo module and call the hours() function, which will print\n",
    "\"Open 9-5 daily\" in the interactive interpreter."
   ]
  },
  {
   "cell_type": "code",
   "execution_count": null,
   "id": "b8e52e4f",
   "metadata": {},
   "outputs": [],
   "source": [
    "2. In the interactive interpreter, import the zoo module as menagerie and call its hours() function."
   ]
  },
  {
   "cell_type": "code",
   "execution_count": null,
   "id": "b83f1c9b",
   "metadata": {},
   "outputs": [],
   "source": [
    "Certainly! In the interactive interpreter, you can import the zoo module as menagerie and call its hours()\n",
    "function like this:"
   ]
  },
  {
   "cell_type": "code",
   "execution_count": 3,
   "id": "798e46ce",
   "metadata": {},
   "outputs": [
    {
     "name": "stdout",
     "output_type": "stream",
     "text": [
      "Open 9-5 daily\n"
     ]
    }
   ],
   "source": [
    "import zoo as menagerie\n",
    "\n",
    "menagerie.hours()\n"
   ]
  },
  {
   "cell_type": "code",
   "execution_count": null,
   "id": "c7872c52",
   "metadata": {},
   "outputs": [],
   "source": [
    "This code imports the zoo module with the alias menagerie, and then you can call the hours() function \n",
    "using menagerie.hours(). It will print \"Open 9-5 daily\" in the interactive interpreter."
   ]
  },
  {
   "cell_type": "code",
   "execution_count": null,
   "id": "8c35c914",
   "metadata": {},
   "outputs": [],
   "source": [
    "3. Using the interpreter, explicitly import and call the hours() function from zoo."
   ]
  },
  {
   "cell_type": "code",
   "execution_count": 4,
   "id": "171d48a4",
   "metadata": {},
   "outputs": [
    {
     "name": "stdout",
     "output_type": "stream",
     "text": [
      "Open 9-5 daily\n"
     ]
    }
   ],
   "source": [
    "from zoo import hours\n",
    "\n",
    "hours()"
   ]
  },
  {
   "cell_type": "code",
   "execution_count": null,
   "id": "2610f967",
   "metadata": {},
   "outputs": [],
   "source": [
    "4. Import the hours() function as info and call it."
   ]
  },
  {
   "cell_type": "code",
   "execution_count": null,
   "id": "fe024370",
   "metadata": {},
   "outputs": [],
   "source": [
    "from zoo import hours as info\n",
    "\n",
    "info()"
   ]
  },
  {
   "cell_type": "code",
   "execution_count": null,
   "id": "e8115747",
   "metadata": {},
   "outputs": [],
   "source": [
    "5. Create a plain dictionary with the key-value pairs 'a': 1, 'b': 2, and 'c': 3, and print it out."
   ]
  },
  {
   "cell_type": "code",
   "execution_count": 5,
   "id": "db83e2cb",
   "metadata": {},
   "outputs": [
    {
     "name": "stdout",
     "output_type": "stream",
     "text": [
      "{'a': 1, 'b': 2, 'c': 3}\n"
     ]
    }
   ],
   "source": [
    "plain_dict = {'a': 1, 'b': 2, 'c': 3}\n",
    "print(plain_dict)"
   ]
  },
  {
   "cell_type": "code",
   "execution_count": null,
   "id": "62af1b0c",
   "metadata": {},
   "outputs": [],
   "source": [
    "6.Make an OrderedDict called fancy from the same pairs listed in 5 and print it. Did it print in the\n",
    "same order as plain?"
   ]
  },
  {
   "cell_type": "code",
   "execution_count": null,
   "id": "5d2ab19f",
   "metadata": {},
   "outputs": [],
   "source": [
    "You can create an OrderedDict called fancy with the same key-value pairs as in step 5. The OrderedDict \n",
    "will maintain the order of insertion. Let's create it and print it:"
   ]
  },
  {
   "cell_type": "code",
   "execution_count": 7,
   "id": "03f74c28",
   "metadata": {},
   "outputs": [
    {
     "name": "stdout",
     "output_type": "stream",
     "text": [
      "OrderedDict([('a', 1), ('b', 2), ('c', 3)])\n"
     ]
    }
   ],
   "source": [
    "from collections import OrderedDict\n",
    "\n",
    "fancy = OrderedDict([('a', 1), ('b', 2), ('c', 3)])\n",
    "print(fancy)"
   ]
  },
  {
   "cell_type": "code",
   "execution_count": null,
   "id": "92b84f11",
   "metadata": {},
   "outputs": [],
   "source": [
    "7. Make a default dictionary called dict_of_lists and pass it the argument list. Make the list\n",
    "dict_of_lists['a'] and append the value 'something for a' to it in one assignment. Print\n",
    "dict_of_lists['a']."
   ]
  },
  {
   "cell_type": "code",
   "execution_count": null,
   "id": "d2238529",
   "metadata": {},
   "outputs": [],
   "source": [
    "You can create a defaultdict called dict_of_lists, assign a list to the key 'a', and append 'something\n",
    "for a' to it in a single assignment. Here's how you can do it:"
   ]
  },
  {
   "cell_type": "code",
   "execution_count": 8,
   "id": "3dfe62e5",
   "metadata": {},
   "outputs": [
    {
     "name": "stdout",
     "output_type": "stream",
     "text": [
      "['something for a']\n"
     ]
    }
   ],
   "source": [
    "from collections import defaultdict\n",
    "\n",
    "dict_of_lists = defaultdict(list)\n",
    "dict_of_lists['a'].append('something for a')\n",
    "print(dict_of_lists['a'])\n"
   ]
  },
  {
   "cell_type": "code",
   "execution_count": null,
   "id": "31e8d5fa",
   "metadata": {},
   "outputs": [],
   "source": []
  }
 ],
 "metadata": {
  "kernelspec": {
   "display_name": "Python 3 (ipykernel)",
   "language": "python",
   "name": "python3"
  },
  "language_info": {
   "codemirror_mode": {
    "name": "ipython",
    "version": 3
   },
   "file_extension": ".py",
   "mimetype": "text/x-python",
   "name": "python",
   "nbconvert_exporter": "python",
   "pygments_lexer": "ipython3",
   "version": "3.11.1"
  }
 },
 "nbformat": 4,
 "nbformat_minor": 5
}
