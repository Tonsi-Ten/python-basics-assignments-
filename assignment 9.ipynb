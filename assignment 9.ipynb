{
 "cells": [
  {
   "cell_type": "code",
   "execution_count": null,
   "id": "1310dc21",
   "metadata": {},
   "outputs": [],
   "source": [
    "1. To what does a relative path refer?"
   ]
  },
  {
   "cell_type": "code",
   "execution_count": null,
   "id": "a4a23097",
   "metadata": {},
   "outputs": [],
   "source": [
    "In Python, a relative path refers to a file or directory path that is specified relative to the current \n",
    "working directory (CWD). The CWD is the directory from which a Python script or program is being run.\n",
    "\n",
    "A relative path doesn't start from the root directory of the file system but instead describes how to\n",
    "navigate from the current working directory to a specific file or directory. It provides instructions \n",
    "for reaching a file or directory by specifying the sequence of directories and subdirectories to follow.\n",
    "\n",
    "Relative paths are commonly used when working with files and directories within a project or application \n",
    "because they make it easier to reference resources within the project's structure without needing to\n",
    "specify full absolute paths.\n",
    "\n",
    "For example, if your current working directory is /home/user/projects/my_project/, and you want to refer\n",
    "to a file named data.txt located in the same directory, you can use a relative path like data.txt to \n",
    "access it.\n",
    "\n",
    "Relative paths can also include references to parent directories (..) and subdirectories within the \n",
    "project's structure, allowing you to navigate up and down the directory tree as needed."
   ]
  },
  {
   "cell_type": "code",
   "execution_count": null,
   "id": "773ac350",
   "metadata": {},
   "outputs": [],
   "source": [
    "2. What does an absolute path start with your operating system?"
   ]
  },
  {
   "cell_type": "code",
   "execution_count": null,
   "id": "2cb92f52",
   "metadata": {},
   "outputs": [],
   "source": [
    "An absolute path, regardless of the operating system, typically starts with the root directory of the\n",
    "file system. In most operating systems, including Unix-like systems (e.g., Linux, macOS) and Windows,\n",
    "the root directory is denoted by a forward slash / (Unix-like systems) or a backslash \\ (Windows).\n",
    "\n",
    "Here's how absolute paths typically look on different operating systems:\n",
    "\n",
    "Unix-like systems (Linux, macOS, etc.):\n",
    "Absolute paths start with a forward slash, such as\n",
    "/home/user/documents/file.txt.\n",
    "\n",
    "Windows:\n",
    "Absolute paths start with a drive letter followed by a colon and a backslash, such as\n",
    "C:\\Users\\User\\Documents\\file.txt.\n",
    "    \n",
    "In both cases, the absolute path provides the complete and unambiguous location of a file or directory \n",
    "starting from the root of the file system. This means you can specify the exact location of a file or \n",
    "directory, regardless of the current working directory, using an absolute path."
   ]
  },
  {
   "cell_type": "code",
   "execution_count": null,
   "id": "f705ddc0",
   "metadata": {},
   "outputs": [],
   "source": [
    "3. What do the functions os.getcwd() and os.chdir() do?"
   ]
  },
  {
   "cell_type": "code",
   "execution_count": null,
   "id": "7a956d9d",
   "metadata": {},
   "outputs": [],
   "source": [
    "The functions os.getcwd() and os.chdir() are part of the Python os module and are used for working\n",
    "with the current working directory (CWD) of your Python script or program. Here's what each of these\n",
    "functions does:\n",
    "\n",
    "1. os.getcwd() (Get Current Working Directory):\n",
    "\n",
    "This function is used to obtain the current working directory of your Python script or program.\n",
    "It returns a string that represents the absolute path of the current working directory.    "
   ]
  },
  {
   "cell_type": "code",
   "execution_count": null,
   "id": "67f630d5",
   "metadata": {},
   "outputs": [],
   "source": [
    "import os\n",
    "current_directory = os.getcwd()\n",
    "print(\"Current working directory:\", current_directory)"
   ]
  },
  {
   "cell_type": "code",
   "execution_count": null,
   "id": "ef9f817d",
   "metadata": {},
   "outputs": [],
   "source": [
    "2. os.chdir(path) (Change Directory):\n",
    "\n",
    "This function is used to change the current working directory to the specified path.\n",
    "The path argument should be a string representing the directory you want to set as the new working\n",
    "directory. It allows you to navigate and work in different directories within your script or program."
   ]
  },
  {
   "cell_type": "code",
   "execution_count": null,
   "id": "29de21ec",
   "metadata": {},
   "outputs": [],
   "source": [
    "import os\n",
    "# Change the current working directory to a new path\n",
    "os.chdir('/path/to/new/directory')\n",
    "# After this, the current working directory will be the new directory"
   ]
  },
  {
   "cell_type": "code",
   "execution_count": null,
   "id": "d2bc0c89",
   "metadata": {},
   "outputs": [],
   "source": [
    "4. What are the . and .. folders?"
   ]
  },
  {
   "cell_type": "code",
   "execution_count": 1,
   "id": "c26d9780",
   "metadata": {},
   "outputs": [
    {
     "ename": "SyntaxError",
     "evalue": "unterminated string literal (detected at line 8) (1783251405.py, line 8)",
     "output_type": "error",
     "traceback": [
      "\u001b[1;36m  Cell \u001b[1;32mIn[1], line 8\u001b[1;36m\u001b[0m\n\u001b[1;33m    When used in a file path, it refers to the directory where the reference is made. For example, if you're\u001b[0m\n\u001b[1;37m                                                                                                         ^\u001b[0m\n\u001b[1;31mSyntaxError\u001b[0m\u001b[1;31m:\u001b[0m unterminated string literal (detected at line 8)\n"
     ]
    }
   ],
   "source": [
    "In most file systems, including those used by Unix-like operating systems (e.g., Linux, macOS) and \n",
    "Windows, the . and .. folders are special directory references used for navigation within the file \n",
    "system:\n",
    "\n",
    "* . (Dot):\n",
    "\n",
    "The . (dot) folder represents the current directory.\n",
    "When used in a file path, it refers to the directory where the reference is made. For example, if you're \n",
    "in the directory /home/user/documents and you use ./file.txt as a path, it refers to file.txt in the \n",
    "current directory (/home/user/documents).\n",
    "\n",
    "* .. (Double Dot):\n",
    "\n",
    "The .. (double dot) folder represents the parent directory.\n",
    "When used in a file path, it refers to the directory one level up from the current directory. For example,\n",
    "if you're in the directory /home/user/documents and you use ../file.txt as a path, it refers to file.txt\n",
    "in the parent directory (/home/user).\n",
    "\n",
    "These special references are used for relative path navigation within the file system. They are \n",
    "particularly useful when you want to navigate up or down the directory hierarchy without specifying the\n",
    "full absolute path. This makes it easier to work with files and directories in different locations on \n",
    "your file system, regardless of the current working directory."
   ]
  },
  {
   "cell_type": "code",
   "execution_count": null,
   "id": "ee574f5c",
   "metadata": {},
   "outputs": [],
   "source": [
    "5. In C:\\bacon\\eggs\\spam.txt, which part is the dir name, and which part is the base name?"
   ]
  },
  {
   "cell_type": "code",
   "execution_count": null,
   "id": "295976fd",
   "metadata": {},
   "outputs": [],
   "source": [
    "In the path C:\\bacon\\eggs\\spam.txt:\n",
    "\n",
    "The directory name is C:\\bacon\\eggs. This represents the path to the directory containing the file spam.txt.\n",
    "The base name is spam.txt. This is the name of the file itself, without the directory path.\n",
    "So, in this example:\n",
    "\n",
    "C:\\bacon\\eggs is the directory name.\n",
    "spam.txt is the base name of the file."
   ]
  },
  {
   "cell_type": "code",
   "execution_count": null,
   "id": "e851dbad",
   "metadata": {},
   "outputs": [],
   "source": [
    "6. What are the three “mode” arguments that can be passed to the open() function?"
   ]
  },
  {
   "cell_type": "code",
   "execution_count": null,
   "id": "3dcf2798",
   "metadata": {},
   "outputs": [],
   "source": [
    "The open() function in Python allows you to open files for various purposes, and you can specify the \n",
    "file mode using one of the following three mode arguments:\n",
    "\n",
    "1. Read Mode ('r'):\n",
    "\n",
    "This is the default mode when you open a file using open().\n",
    "It is used for reading the contents of a file.\n",
    "If the file doesn't exist or cannot be opened, it will raise a FileNotFoundError.\n",
    "Example: open('file.txt', 'r')\n",
    "    \n",
    "2. Write Mode ('w'):\n",
    "\n",
    "This mode is used for creating a new file or overwriting an existing file.\n",
    "If the file already exists, its previous contents will be erased.\n",
    "If the file doesn't exist, it will be created.\n",
    "Example: open('file.txt', 'w')\n",
    "    \n",
    "3. Append Mode ('a'):\n",
    "\n",
    "This mode is used for opening a file for writing, but it appends new data to the end of the file without\n",
    "erasing its existing contents.\n",
    "If the file doesn't exist, it will be created.\n",
    "Example: open('file.txt', 'a')\n",
    "    \n",
    "These mode arguments determine how the file will be treated when it's opened. In addition to these basic\n",
    "modes, you can also use combinations such as 'rb' for reading in binary mode, 'wb' for writing in binary\n",
    "mode, and so on, to specify additional options when working with files."
   ]
  },
  {
   "cell_type": "code",
   "execution_count": null,
   "id": "70d9f1a0",
   "metadata": {},
   "outputs": [],
   "source": [
    "7. What happens if an existing file is opened in write mode?"
   ]
  },
  {
   "cell_type": "code",
   "execution_count": null,
   "id": "386cf5eb",
   "metadata": {},
   "outputs": [],
   "source": [
    "If an existing file is opened in write mode ('w') using the open() function in Python, the following \n",
    "consequences typically occur:\n",
    "\n",
    "File Content Overwriting: The existing content of the file will be completely erased, and the file will \n",
    "be effectively emptied. It becomes a blank file.\n",
    "\n",
    "File Truncation: If the existing file is larger than the new data you write to it, the file will be\n",
    "truncated to the size of the new data. Any data in the file beyond that point will be lost.\n",
    "\n",
    "File Creation: If the file does not exist, a new empty file with the specified name will be created."
   ]
  },
  {
   "cell_type": "code",
   "execution_count": null,
   "id": "5b0c6718",
   "metadata": {},
   "outputs": [],
   "source": [
    "# Opening an existing file in write mode\n",
    "with open('existing_file.txt', 'w') as file:\n",
    "    file.write(\"This will overwrite the existing content.\")\n"
   ]
  },
  {
   "cell_type": "code",
   "execution_count": null,
   "id": "8de9c966",
   "metadata": {},
   "outputs": [],
   "source": [
    "In this example, if the file existing_file.txt already contained data, that data would be replaced with \n",
    "the new text specified in the write() method.\n",
    "\n",
    "Therefore, it's important to use write mode ('w') with caution, especially when working with existing \n",
    "files, as it can lead to data loss if you're not careful. If you want to add data to an existing file \n",
    "without overwriting it, you should use append mode ('a') instead."
   ]
  },
  {
   "cell_type": "code",
   "execution_count": null,
   "id": "31026238",
   "metadata": {},
   "outputs": [],
   "source": [
    "8. How do you tell the difference between read() and readlines()?"
   ]
  },
  {
   "cell_type": "code",
   "execution_count": null,
   "id": "d5476a48",
   "metadata": {},
   "outputs": [],
   "source": [
    "In Python, read() and readlines() are two methods used for reading data from a file, but they behave \n",
    "differently:\n",
    "\n",
    "1.read() Method:\n",
    "\n",
    "The read() method is used to read the entire contents of a file as a single string.\n",
    "It reads the entire content of the file from the current file position (where the file cursor is), or \n",
    "you can specify the number of characters to read as an argument.\n",
    "It returns a single string containing the file's contents."
   ]
  },
  {
   "cell_type": "code",
   "execution_count": null,
   "id": "282040f8",
   "metadata": {},
   "outputs": [],
   "source": [
    "with open('file.txt', 'r') as file:\n",
    "    content = file.read()\n"
   ]
  },
  {
   "cell_type": "code",
   "execution_count": null,
   "id": "80b3f088",
   "metadata": {},
   "outputs": [],
   "source": [
    "2. readlines() Method:\n",
    "\n",
    "The readlines() method is used to read the lines of a file and return them as a list of strings.\n",
    "It reads the file from the current file position (where the file cursor is) until the end of the file.\n",
    "It returns a list where each element is a line from the file."
   ]
  },
  {
   "cell_type": "code",
   "execution_count": null,
   "id": "bb37d75d",
   "metadata": {},
   "outputs": [],
   "source": [
    "with open('file.txt', 'r') as file:\n",
    "    lines = file.readlines()\n"
   ]
  },
  {
   "cell_type": "code",
   "execution_count": null,
   "id": "31b247fc",
   "metadata": {},
   "outputs": [],
   "source": [
    "To summarize, the key difference is that read() returns the entire file content as a single string, while \n",
    "readlines() returns the file's lines as a list of strings. The choice between them depends on your \n",
    "specific needs when reading data from a file."
   ]
  },
  {
   "cell_type": "code",
   "execution_count": null,
   "id": "0dec5850",
   "metadata": {},
   "outputs": [],
   "source": [
    "9. What data structure does a shelf value resemble?"
   ]
  },
  {
   "cell_type": "code",
   "execution_count": null,
   "id": "79b7084b",
   "metadata": {},
   "outputs": [],
   "source": [
    "A shelf value in Python, typically created using the shelve module, resembles a dictionary data structure. \n",
    "Shelves provide a way to store and retrieve key-value pairs persistently in a file on the disk. These \n",
    "key-value pairs can be accessed and modified similar to how you would work with a dictionary.\n",
    "\n",
    "Here are some key characteristics of shelf values:\n",
    "\n",
    "Key-Value Storage: Like dictionaries, shelves store data in key-value pairs, where each key is associated \n",
    "with a corresponding value.\n",
    "\n",
    "Persistence: Shelves are designed for persistent storage, which means the data is stored on the disk and \n",
    "can be accessed across different runs of a Python program.\n",
    "\n",
    "Mutable: You can add, modify, and delete key-value pairs in a shelf, just like you would with a dictionary.\n",
    "\n",
    "Indexed Access: Shelves allow you to access values using keys, similar to dictionary indexing."
   ]
  },
  {
   "cell_type": "code",
   "execution_count": null,
   "id": "88da89e6",
   "metadata": {},
   "outputs": [],
   "source": [
    "import shelve\n",
    "\n",
    "# Create or open a shelf file named 'mydata'\n",
    "with shelve.open('mydata') as shelf:\n",
    "    shelf['name'] = 'Alice'\n",
    "    shelf['age'] = 30\n",
    "\n",
    "    # Access values using keys\n",
    "    print(shelf['name'])  # Outputs: 'Alice'\n",
    "    print(shelf['age'])   # Outputs: 30\n",
    "\n",
    "    # Modify a value\n",
    "    shelf['age'] = 31\n",
    "\n",
    "    # Delete a key-value pair\n",
    "    del shelf['age']\n",
    "\n",
    "# The shelf file 'mydata' now contains the data even after the program exits\n"
   ]
  },
  {
   "cell_type": "code",
   "execution_count": null,
   "id": "f119e450",
   "metadata": {},
   "outputs": [],
   "source": [
    "In this example, the shelf object behaves similarly to a dictionary, allowing you to store and retrieve\n",
    "data with keys. The data is stored in a file named 'mydata' on the disk and remains available for future\n",
    "program runs."
   ]
  }
 ],
 "metadata": {
  "kernelspec": {
   "display_name": "Python 3 (ipykernel)",
   "language": "python",
   "name": "python3"
  },
  "language_info": {
   "codemirror_mode": {
    "name": "ipython",
    "version": 3
   },
   "file_extension": ".py",
   "mimetype": "text/x-python",
   "name": "python",
   "nbconvert_exporter": "python",
   "pygments_lexer": "ipython3",
   "version": "3.11.1"
  }
 },
 "nbformat": 4,
 "nbformat_minor": 5
}
