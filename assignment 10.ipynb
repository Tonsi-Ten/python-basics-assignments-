{
 "cells": [
  {
   "cell_type": "code",
   "execution_count": null,
   "id": "df92c3df",
   "metadata": {},
   "outputs": [],
   "source": [
    "1. How do you distinguish between shutil.copy() and shutil.copytree()?"
   ]
  },
  {
   "cell_type": "code",
   "execution_count": null,
   "id": "a4e671a7",
   "metadata": {},
   "outputs": [],
   "source": [
    "shutil.copy() and shutil.copytree() are both functions in Python's shutil module used for file and\n",
    "directory operations, but they serve different purposes and are used in distinct scenarios:\n",
    "\n",
    "1. shutil.copy(): This function is used to copy a single file from one location to another. It takes two\n",
    "   arguments: the source file path and the destination file path. It copies the source file to the \n",
    "   specified destination, overwriting the destination file if it already exists."
   ]
  },
  {
   "cell_type": "code",
   "execution_count": null,
   "id": "4b4cfc3a",
   "metadata": {},
   "outputs": [],
   "source": [
    "import shutil\n",
    "\n",
    "source_file = \"source_folder/source_file.txt\"\n",
    "destination_file = \"destination_folder/destination_file.txt\"\n",
    "\n",
    "shutil.copy(source_file, destination_file)"
   ]
  },
  {
   "cell_type": "code",
   "execution_count": null,
   "id": "b1bfcc6c",
   "metadata": {},
   "outputs": [],
   "source": [
    "In this example, the shutil.copy() function is used to copy the source_file.txt from the source_folder\n",
    "to the destination_folder, creating or overwriting destination_file.txt."
   ]
  },
  {
   "cell_type": "code",
   "execution_count": null,
   "id": "3ea174d2",
   "metadata": {},
   "outputs": [],
   "source": [
    "2. shutil.copytree(): This function is used to recursively copy an entire directory, including all its \n",
    "   contents (subdirectories and files), from one location to another. It takes two arguments: the \n",
    "   source directory path and the destination directory path. It creates a new directory at the \n",
    "   destination if it doesn't already exist and copies the entire structure and contents of the source \n",
    "   directory to the destination."
   ]
  },
  {
   "cell_type": "code",
   "execution_count": null,
   "id": "7bd550f7",
   "metadata": {},
   "outputs": [],
   "source": [
    "import shutil\n",
    "\n",
    "source_directory = \"source_folder\"\n",
    "destination_directory = \"destination_folder\"\n",
    "\n",
    "shutil.copytree(source_directory, destination_directory)\n"
   ]
  },
  {
   "cell_type": "code",
   "execution_count": null,
   "id": "bb11bae3",
   "metadata": {},
   "outputs": [],
   "source": [
    "In this example, the shutil.copytree() function is used to copy the entire source_folder and its\n",
    "contents to the destination_folder."
   ]
  },
  {
   "cell_type": "code",
   "execution_count": null,
   "id": "e9818e8b",
   "metadata": {},
   "outputs": [],
   "source": [
    "In summary, shutil.copy() is used for copying individual files, while shutil.copytree() is used for\n",
    "copying entire directories and their contents. The choice between them depends on the specific task\n",
    "you want to accomplish."
   ]
  },
  {
   "cell_type": "code",
   "execution_count": null,
   "id": "e41cb9ef",
   "metadata": {},
   "outputs": [],
   "source": [
    "2. What function is used to rename files?"
   ]
  },
  {
   "cell_type": "code",
   "execution_count": null,
   "id": "0cdc60cf",
   "metadata": {},
   "outputs": [],
   "source": [
    "To rename files in Python, you can use the os.rename() function from the os module. This function\n",
    "allows you to change the name of a file by specifying its current path and the new path (including the\n",
    "new name). Here's how you can use it:"
   ]
  },
  {
   "cell_type": "code",
   "execution_count": null,
   "id": "4832479c",
   "metadata": {},
   "outputs": [],
   "source": [
    "import os\n",
    "\n",
    "# Define the current and new file paths\n",
    "current_path = \"old_filename.txt\"\n",
    "new_path = \"new_filename.txt\"\n",
    "\n",
    "# Rename the file\n",
    "os.rename(current_path, new_path)\n"
   ]
  },
  {
   "cell_type": "code",
   "execution_count": null,
   "id": "ef42bf81",
   "metadata": {},
   "outputs": [],
   "source": [
    "In this example, the os.rename() function is used to rename the file from \"old_filename.txt\" to \n",
    "\"new_filename.txt\". Make sure that both the current and new paths are valid and that you have the \n",
    "necessary permissions to perform this operation. If the file you are trying to rename is in a different \n",
    "directory, you should provide the full paths to both the current and new locations."
   ]
  },
  {
   "cell_type": "code",
   "execution_count": null,
   "id": "d0b15bda",
   "metadata": {},
   "outputs": [],
   "source": [
    "3. What is the difference between the delete functions in the send2trash and shutil modules?"
   ]
  },
  {
   "cell_type": "code",
   "execution_count": null,
   "id": "326bb9c7",
   "metadata": {},
   "outputs": [],
   "source": [
    "Both the send2trash and shutil modules in Python provide functions to delete files and directories, but\n",
    "they differ in their approach and behavior:\n",
    "\n",
    "1. send2trash Module:\n",
    "\n",
    "* Purpose: The primary purpose of the send2trash module is to move files and directories to the system's \n",
    "  trash or recycle bin rather than permanently deleting them. This means that deleted items can usually\n",
    "  be restored from the trash if needed.\n",
    "\n",
    "* Function: The main function for deleting items using send2trash is send2trash.send2trash(). You pass \n",
    "  the path of the file or directory you want to delete as an argument to this function."
   ]
  },
  {
   "cell_type": "code",
   "execution_count": null,
   "id": "8ae55e30",
   "metadata": {},
   "outputs": [],
   "source": [
    "import send2trash\n",
    "\n",
    "file_to_delete = \"file_to_delete.txt\"\n",
    "send2trash.send2trash(file_to_delete)"
   ]
  },
  {
   "cell_type": "code",
   "execution_count": null,
   "id": "5868074c",
   "metadata": {},
   "outputs": [],
   "source": [
    "Note: This module is particularly useful when you want to give users the option to recover deleted items\n",
    "or when you want to avoid accidental permanent deletions."
   ]
  },
  {
   "cell_type": "code",
   "execution_count": 4,
   "id": "a7801ccb",
   "metadata": {},
   "outputs": [
    {
     "ename": "SyntaxError",
     "evalue": "invalid syntax (1301394342.py, line 1)",
     "output_type": "error",
     "traceback": [
      "\u001b[1;36m  Cell \u001b[1;32mIn[4], line 1\u001b[1;36m\u001b[0m\n\u001b[1;33m    2. shutil Module:\u001b[0m\n\u001b[1;37m       ^\u001b[0m\n\u001b[1;31mSyntaxError\u001b[0m\u001b[1;31m:\u001b[0m invalid syntax\n"
     ]
    }
   ],
   "source": [
    "2. shutil Module:\n",
    "\n",
    "* Purpose: The shutil module provides functions for file operations, including deleting files and\n",
    "  directories. When you use shutil to delete files or directories, they are permanently removed from \n",
    "  the file system, and they cannot be easily recovered from the trash or recycle bin.\n",
    "\n",
    "* Functions: The shutil module offers several functions for deleting items, including shutil.rmtree()\n",
    "  for deleting directories and os.remove() for deleting files."
   ]
  },
  {
   "cell_type": "code",
   "execution_count": null,
   "id": "f1cc3871",
   "metadata": {},
   "outputs": [],
   "source": [
    "import shutil\n",
    "\n",
    "file_to_delete = \"file_to_delete.txt\"\n",
    "shutil.rmtree(file_to_delete)  # For deleting a directory\n",
    "# or\n",
    "os.remove(file_to_delete)     # For deleting a file"
   ]
  },
  {
   "cell_type": "code",
   "execution_count": null,
   "id": "ed45b3d6",
   "metadata": {},
   "outputs": [],
   "source": [
    "Note: Be cautious when using shutil functions for deletion, as they permanently remove data, which may\n",
    "not be recoverable without a backup"
   ]
  },
  {
   "cell_type": "code",
   "execution_count": null,
   "id": "41581c4f",
   "metadata": {},
   "outputs": [],
   "source": [
    "4. ZipFile objects have a close() method just like File objects’ close() method. What ZipFile method is\n",
    "   equivalent to File objects’ open() method?"
   ]
  },
  {
   "cell_type": "code",
   "execution_count": null,
   "id": "42a0022e",
   "metadata": {},
   "outputs": [],
   "source": [
    "The equivalent method to a File object's open() method for ZipFile objects is zipfile.ZipFile().\n",
    "\n",
    "You use zipfile.ZipFile() to open or create a ZipFile object, just like you use open() to open or \n",
    "create a regular file object. Here's how you typically use it to work with ZIP files:"
   ]
  },
  {
   "cell_type": "code",
   "execution_count": null,
   "id": "564ee0e6",
   "metadata": {},
   "outputs": [],
   "source": [
    "import zipfile\n",
    "\n",
    "# To open an existing ZIP file for reading\n",
    "with zipfile.ZipFile('example.zip', 'r') as zipf:\n",
    "    # Perform operations on the ZIP file\n",
    "\n",
    "# To create a new ZIP file or open an existing one for writing\n",
    "with zipfile.ZipFile('new_file.zip', 'w') as zipf:\n",
    "    # Add files to the ZIP file or perform other operations\n"
   ]
  },
  {
   "cell_type": "code",
   "execution_count": null,
   "id": "14dc237a",
   "metadata": {},
   "outputs": [],
   "source": [
    "In the examples above, zipfile.ZipFile() is used to open both existing and new ZIP files for \n",
    "reading ('r') and writing ('w') operations, respectively."
   ]
  },
  {
   "cell_type": "code",
   "execution_count": null,
   "id": "890125dd",
   "metadata": {},
   "outputs": [],
   "source": [
    "5. Create a programme that searches a folder tree for files with a certain file extension (such as .pdf\n",
    "or .jpg). Copy these files from whatever location they are in to a new folder."
   ]
  },
  {
   "cell_type": "code",
   "execution_count": null,
   "id": "4c6e81fb",
   "metadata": {},
   "outputs": [],
   "source": [
    "To create a program that searches a folder tree for files with a certain file extension and copies \n",
    "them to a new folder, you can use Python along with the os and shutil modules. Here's a simple example \n",
    "of how you can do this:"
   ]
  },
  {
   "cell_type": "code",
   "execution_count": null,
   "id": "001240a7",
   "metadata": {},
   "outputs": [],
   "source": [
    "To create a program that searches a folder tree for files with a certain file extension and copies \n",
    "them to a new folder, you can use Python along with the os and shutil modules. Here's a simple example\n",
    "of how you can do this:"
   ]
  },
  {
   "cell_type": "code",
   "execution_count": null,
   "id": "94d82a09",
   "metadata": {},
   "outputs": [],
   "source": [
    "import os\n",
    "import shutil\n",
    "\n",
    "# Define the source folder (the folder where you want to search for files)\n",
    "source_folder = \"source_folder\"\n",
    "\n",
    "# Define the destination folder (the folder where you want to copy the matching files)\n",
    "destination_folder = \"destination_folder\"\n",
    "\n",
    "# Define the file extension you want to search for\n",
    "file_extension = \".pdf\"  # Change this to your desired file extension\n",
    "\n",
    "# Ensure the destination folder exists; create it if it doesn't\n",
    "if not os.path.exists(destination_folder):\n",
    "    os.makedirs(destination_folder)\n",
    "\n",
    "# Walk through the source folder and its subdirectories\n",
    "for foldername, subfolders, filenames in os.walk(source_folder):\n",
    "    for filename in filenames:\n",
    "        if filename.endswith(file_extension):\n",
    "            # Build the full paths for the source and destination files\n",
    "            source_file_path = os.path.join(foldername, filename)\n",
    "            destination_file_path = os.path.join(destination_folder, filename)\n",
    "            \n",
    "            # Copy the file to the destination folder\n",
    "            shutil.copy2(source_file_path, destination_file_path)\n",
    "            \n",
    "            # Optionally, print a message for each copied file\n",
    "            print(f\"Copied: {source_file_path} to {destination_file_path}\")\n",
    "\n",
    "print(\"Copying files completed.\")\n"
   ]
  },
  {
   "cell_type": "code",
   "execution_count": null,
   "id": "567afa13",
   "metadata": {},
   "outputs": [],
   "source": [
    "In this program:\n",
    "\n",
    "1. Set the source_folder to the directory where you want to start searching for files.\n",
    "\n",
    "2. Set the destination_folder to the directory where you want to copy the matching files.\n",
    "\n",
    "3. Set the file_extension to the extension of the files you want to search for (e.g., \".pdf\" or \".jpg\").\n",
    "\n",
    "4. The program then walks through the source folder and its subdirectories using os.walk(), which allows\n",
    "   it to search recursively.\n",
    "\n",
    "5. For each file it encounters, it checks whether the file's extension matches the specified file_extension.\n",
    "\n",
    "6. If a matching file is found, it uses shutil.copy2() to copy the file to the destination folder.\n",
    "\n",
    "7. Optionally, it prints a message indicating which file was copied.\n",
    "\n",
    "8. Finally, it prints a message when the copying process is completed.\n",
    "\n",
    "Make sure to modify the source_folder, destination_folder, and file_extension variables to match your\n",
    "specific requirements."
   ]
  }
 ],
 "metadata": {
  "kernelspec": {
   "display_name": "Python 3 (ipykernel)",
   "language": "python",
   "name": "python3"
  },
  "language_info": {
   "codemirror_mode": {
    "name": "ipython",
    "version": 3
   },
   "file_extension": ".py",
   "mimetype": "text/x-python",
   "name": "python",
   "nbconvert_exporter": "python",
   "pygments_lexer": "ipython3",
   "version": "3.11.1"
  }
 },
 "nbformat": 4,
 "nbformat_minor": 5
}
