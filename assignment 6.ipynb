{
 "cells": [
  {
   "cell_type": "code",
   "execution_count": null,
   "id": "4220e34f",
   "metadata": {},
   "outputs": [],
   "source": [
    "1. What are escape characters, and how do you use them?"
   ]
  },
  {
   "cell_type": "code",
   "execution_count": null,
   "id": "db9487dd",
   "metadata": {},
   "outputs": [],
   "source": [
    "Escape characters in Python are used to represent special characters or sequences of characters\n",
    "within strings. They are prefixed with a backslash () to indicate that the character following the\n",
    "backslash should be treated differently than its literal interpretation. Here are some common escape\n",
    "characters in Python and their usage."
   ]
  },
  {
   "cell_type": "code",
   "execution_count": null,
   "id": "56b47c5b",
   "metadata": {},
   "outputs": [],
   "source": [
    "I. \\n: Represents a newline character, used for creating line breaks in text."
   ]
  },
  {
   "cell_type": "code",
   "execution_count": 1,
   "id": "68949b93",
   "metadata": {},
   "outputs": [
    {
     "name": "stdout",
     "output_type": "stream",
     "text": [
      "Hello,\n",
      "World!\n"
     ]
    }
   ],
   "source": [
    "print(\"Hello,\\nWorld!\")"
   ]
  },
  {
   "cell_type": "code",
   "execution_count": null,
   "id": "3eeae1b6",
   "metadata": {},
   "outputs": [],
   "source": [
    "II. \\t: Represents a tab character, used for creating horizontal indentation."
   ]
  },
  {
   "cell_type": "code",
   "execution_count": 2,
   "id": "1f1f2fb4",
   "metadata": {},
   "outputs": [
    {
     "name": "stdout",
     "output_type": "stream",
     "text": [
      "Name:\tJohn\n"
     ]
    }
   ],
   "source": [
    "print(\"Name:\\tJohn\")"
   ]
  },
  {
   "cell_type": "code",
   "execution_count": null,
   "id": "50d38691",
   "metadata": {},
   "outputs": [],
   "source": [
    "III. \\r: Represents a carriage return character, used to move the cursor to the beginning of the line."
   ]
  },
  {
   "cell_type": "code",
   "execution_count": 3,
   "id": "0eef4e22",
   "metadata": {},
   "outputs": [
    {
     "name": "stdout",
     "output_type": "stream",
     "text": [
      "Hello,\r",
      "World!\n"
     ]
    }
   ],
   "source": [
    "print(\"Hello,\\rWorld!\")"
   ]
  },
  {
   "cell_type": "code",
   "execution_count": null,
   "id": "d48e1b6e",
   "metadata": {},
   "outputs": [],
   "source": [
    "IV. \\: Represents a literal backslash character within a string."
   ]
  },
  {
   "cell_type": "code",
   "execution_count": 4,
   "id": "da69e284",
   "metadata": {},
   "outputs": [
    {
     "name": "stdout",
     "output_type": "stream",
     "text": [
      "C:\\Windows\\System32\n"
     ]
    }
   ],
   "source": [
    "print(\"C:\\\\Windows\\\\System32\")"
   ]
  },
  {
   "cell_type": "code",
   "execution_count": null,
   "id": "c5ab0803",
   "metadata": {},
   "outputs": [],
   "source": [
    "V. ' and \": Represent single and double quotation marks within strings enclosed in single or\n",
    "double quotes, respectively."
   ]
  },
  {
   "cell_type": "code",
   "execution_count": 5,
   "id": "8c3cdfbb",
   "metadata": {},
   "outputs": [
    {
     "name": "stdout",
     "output_type": "stream",
     "text": [
      "She said, \"Hello!\"\n"
     ]
    }
   ],
   "source": [
    "print('She said, \"Hello!\"')"
   ]
  },
  {
   "cell_type": "code",
   "execution_count": null,
   "id": "92e94c18",
   "metadata": {},
   "outputs": [],
   "source": [
    "6. \\b: Represents a backspace character, which moves the cursor one position to the left."
   ]
  },
  {
   "cell_type": "code",
   "execution_count": 6,
   "id": "c7e9000b",
   "metadata": {},
   "outputs": [
    {
     "name": "stdout",
     "output_type": "stream",
     "text": [
      "Hello\bWorld!\n"
     ]
    }
   ],
   "source": [
    "print(\"Hello\\bWorld!\")"
   ]
  },
  {
   "cell_type": "code",
   "execution_count": null,
   "id": "3d98a14b",
   "metadata": {},
   "outputs": [],
   "source": [
    "2. What do the escape characters n and t stand for?"
   ]
  },
  {
   "cell_type": "code",
   "execution_count": null,
   "id": "e7dea57d",
   "metadata": {},
   "outputs": [],
   "source": [
    "\\n: This escape sequence stands for \"newline.\" When you include \\n within a string, it signifies\n",
    "    a line break or a new line character. It is used to move the cursor to the beginning of the next\n",
    "    line, creating a line break in the text."
   ]
  },
  {
   "cell_type": "code",
   "execution_count": 7,
   "id": "eff87392",
   "metadata": {},
   "outputs": [
    {
     "name": "stdout",
     "output_type": "stream",
     "text": [
      "Hello,\n",
      "World!\n"
     ]
    }
   ],
   "source": [
    "print(\"Hello,\\nWorld!\")"
   ]
  },
  {
   "cell_type": "code",
   "execution_count": null,
   "id": "9278e828",
   "metadata": {},
   "outputs": [],
   "source": [
    "\\t: This escape sequence stands for \"tab.\" When you include \\t within a string, it represents a\n",
    "    tab character. It is used to create horizontal indentation or spacing, typically equivalent \n",
    "    to a certain number of spaces."
   ]
  },
  {
   "cell_type": "code",
   "execution_count": 9,
   "id": "b2cc0cbe",
   "metadata": {},
   "outputs": [
    {
     "name": "stdout",
     "output_type": "stream",
     "text": [
      "Name:\tJohn\n"
     ]
    }
   ],
   "source": [
    "print(\"Name:\\tJohn\")"
   ]
  },
  {
   "cell_type": "code",
   "execution_count": null,
   "id": "f5184957",
   "metadata": {},
   "outputs": [],
   "source": [
    "3. What is the way to include backslash characters in a string?"
   ]
  },
  {
   "cell_type": "code",
   "execution_count": null,
   "id": "e03a8baa",
   "metadata": {},
   "outputs": [],
   "source": [
    "To include a backslash character (\\) itself within a string in Python, you need to use a double\n",
    "backslash (\\\\). This is because a single backslash is an escape character in Python, and using it\n",
    "directly in a string may result in unintended behavior or errors. The double backslash \\\\ is treated\n",
    "as a single backslash within the string."
   ]
  },
  {
   "cell_type": "code",
   "execution_count": 10,
   "id": "c948cf54",
   "metadata": {},
   "outputs": [
    {
     "name": "stdout",
     "output_type": "stream",
     "text": [
      "This is a backslash: \\\n"
     ]
    }
   ],
   "source": [
    "a = \"This is a backslash: \\\\\"\n",
    "print(a)"
   ]
  },
  {
   "cell_type": "code",
   "execution_count": null,
   "id": "4dbcbee4",
   "metadata": {},
   "outputs": [],
   "source": [
    "4. The string \"Howl's Moving Castle\" is a correct value. Why isn't the single quote character in the\n",
    "word Howl's not escaped a problem?"
   ]
  },
  {
   "cell_type": "code",
   "execution_count": null,
   "id": "c701a328",
   "metadata": {},
   "outputs": [],
   "source": [
    "The string \"Howl's Moving Castle\" is a correct value because the single quote character in the word\n",
    "Howl's is not being used to mark the beginning or end of the string. In Python, strings can be enclosed \n",
    "in either single quotes or double quotes. If you use single quotes to enclose a string, then any single \n",
    "quotes inside the string must be escaped with a backslash (\\). For example, the following string is not\n",
    "a valid string because the single quote inside the word is is not escaped:\n",
    "    \n",
    "    \"This is a string.\"\n",
    "    To make this string valid, we need to escape the single quote:\n",
    "    \"This is a string\\.\"\n",
    "    \n",
    "    The backslash tells the Python interpreter that the following character is not to be interpreted\n",
    "    literally, but rather as an escape character. In this case, the escape character tells the interpreter\n",
    "    to insert a single quote character into the string.\n",
    "    \n",
    "    In the string \"Howl's Moving Castle\", the single quote character is not being used to mark the \n",
    "    beginning or end of the string, so it does not need to be escaped. The Python interpreter will \n",
    "    simply interpret it as a regular character.\n",
    "\n",
    "Here is a breakdown of the string \"Howl's Moving Castle\":\n",
    "\n",
    "The first double quote (\") marks the beginning of the string.\n",
    "The word Howl's does not contain any special characters that need to be escaped.\n",
    "The word Moving does not contain any special characters that need to be escaped.\n",
    "The word Castle does not contain any special characters that need to be escaped.\n",
    "The last double quote (\") marks the end of the string.\n",
    "Therefore, the string \"Howl's Moving Castle\" is a valid string in Python.\n",
    "    "
   ]
  },
  {
   "cell_type": "code",
   "execution_count": null,
   "id": "6e3215d9",
   "metadata": {},
   "outputs": [],
   "source": [
    "5. How do you write a string of newlines if you don't want to use the n character?"
   ]
  },
  {
   "cell_type": "code",
   "execution_count": null,
   "id": "2062ae78",
   "metadata": {},
   "outputs": [],
   "source": [
    "There are a few ways to write a string of newlines in Python without using the n character.\n",
    "\n",
    "One way is to use the \\n escape sequence. The \\n escape sequence represents a newline character. So, \n",
    "to write a string of two newlines, you could use the following code:\n",
    "    \n",
    "    string = \"This is a string\\n\\nThis is another string\"\n",
    "    \n",
    "    This code will create a string with two lines. The first line will contain the text \"This is a \n",
    "    string\". The second line will contain the text \"This is another string\".\n",
    "    \n",
    "    Another way to write a string of newlines is to use the print() function with the end argument.\n",
    "    The end argument specifies the character that should be printed at the end of the output. By default,\n",
    "    the end argument is set to the newline character (\\n). However, you can set the end argument to any \n",
    "    character you want. So, to write a string of two newlines, you could use the following code:\n",
    "        \n",
    "        print(\"This is a string\", end=\"\\n\")\n",
    "        print(\"This is another string\")\n",
    "         \n",
    " This code will also create a string with two lines. The first line will contain the text \"This is a \n",
    " string\". The second line will contain the text \"This is another string\".\n",
    "\n",
    "Finally, you can also use the multiline strings in Python. Multiline strings are strings that can be \n",
    "spread across multiple lines. To create a multiline string, you can enclose the string in triple quotes \n",
    "(either single or double quotes). For example, the following code creates a multiline string with two \n",
    "lines:    \n",
    "    string = \"\"\"This is a string\n",
    "             on multiple lines\"\"\"\n",
    "    \n",
    "This code will create a string with two lines. The first line will contain the text \"This is a \n",
    "string\". The second line will contain the text \"on multiple lines\"."
   ]
  },
  {
   "cell_type": "code",
   "execution_count": null,
   "id": "da552b09",
   "metadata": {},
   "outputs": [],
   "source": [
    "6. What are the values of the given expressions?"
   ]
  },
  {
   "cell_type": "code",
   "execution_count": 2,
   "id": "1b7b4f36",
   "metadata": {},
   "outputs": [
    {
     "data": {
      "text/plain": [
       "'l'"
      ]
     },
     "execution_count": 2,
     "metadata": {},
     "output_type": "execute_result"
    }
   ],
   "source": [
    "1. 'Hello, world!'[1]"
   ]
  },
  {
   "cell_type": "code",
   "execution_count": null,
   "id": "3f16ac6f",
   "metadata": {},
   "outputs": [],
   "source": [
    "The expression 'Hello, world!'[1] refers to the first character of the string 'Hello, world!'. In Python,\n",
    "strings are indexed starting from 0, so the first character has an index of 0. Therefore, the value of the\n",
    "expression is 'e'.\n",
    "\n",
    "Here is an example of how to use this expression in Python:\n",
    "    \n",
    "    >>> 'Hello, world!'[1]\n",
    "        'e'\n",
    "This code will print the character e       "
   ]
  },
  {
   "cell_type": "code",
   "execution_count": 3,
   "id": "e6386a0e",
   "metadata": {},
   "outputs": [
    {
     "data": {
      "text/plain": [
       "'Hello'"
      ]
     },
     "execution_count": 3,
     "metadata": {},
     "output_type": "execute_result"
    }
   ],
   "source": [
    "2. 'Hello, world!'[0:5]"
   ]
  },
  {
   "cell_type": "code",
   "execution_count": null,
   "id": "1360ef0e",
   "metadata": {},
   "outputs": [],
   "source": [
    "The expression 'Hello, world!'[0:5] is a slice operation on the string 'Hello, world!'. In Python and \n",
    "many other programming languages, string indexing starts at 0, so the expression [0:5] will return a\n",
    "substring that includes characters at indices 0 through 4 (5 is excluded).\n",
    "\n",
    "So, for the string 'Hello, world!', 'Hello' corresponds to the characters at indices 0 through 4, and\n",
    "that's what the expression 'Hello, world!'[0:5] will yield.\n",
    "\n",
    "The value of 'Hello, world!'[0:5] is the string 'Hello'."
   ]
  },
  {
   "cell_type": "code",
   "execution_count": 1,
   "id": "ddae54ea",
   "metadata": {},
   "outputs": [
    {
     "data": {
      "text/plain": [
       "'Hello'"
      ]
     },
     "execution_count": 1,
     "metadata": {},
     "output_type": "execute_result"
    }
   ],
   "source": [
    "3. 'Hello, world!'[:5]"
   ]
  },
  {
   "cell_type": "code",
   "execution_count": null,
   "id": "0614baca",
   "metadata": {},
   "outputs": [],
   "source": [
    "In Python, when you use the slicing notation [:5] on a string, it means you are extracting a\n",
    "substring starting from the beginning (index 0) up to, but not including, the character at index 5.\n",
    "Here's the result for the expression 'Hello, world!'[:5]:\n",
    "\n",
    "So, the value of the expression 'Hello, world!'[:5] is the string 'Hello'. It includes the characters \n",
    "at indices 0, 1, 2, 3, and 4."
   ]
  },
  {
   "cell_type": "code",
   "execution_count": 2,
   "id": "8eef29b0",
   "metadata": {},
   "outputs": [
    {
     "data": {
      "text/plain": [
       "'lo, world!'"
      ]
     },
     "execution_count": 2,
     "metadata": {},
     "output_type": "execute_result"
    }
   ],
   "source": [
    " 4. 'Hello, world!'[3:]"
   ]
  },
  {
   "cell_type": "code",
   "execution_count": null,
   "id": "7668b484",
   "metadata": {},
   "outputs": [],
   "source": [
    "In Python, when you use slicing notation [3:] on a string, it means you are extracting a substring\n",
    "starting from the character at index 3 (inclusive) to the end of the string. Here's the result for the\n",
    "expression 'Hello, world!'[3:]:\n",
    "    \n",
    "So, the value of the expression 'Hello, world!'[3:] is the string 'lo, world!'. It starts at\n",
    "index 3 ('l') and includes all the characters until the end of the string."
   ]
  },
  {
   "cell_type": "code",
   "execution_count": null,
   "id": "f0ac35e0",
   "metadata": {},
   "outputs": [],
   "source": [
    "7. What are the values of the following expressions?"
   ]
  },
  {
   "cell_type": "code",
   "execution_count": 4,
   "id": "ab7d53a0",
   "metadata": {},
   "outputs": [
    {
     "data": {
      "text/plain": [
       "'HELLO'"
      ]
     },
     "execution_count": 4,
     "metadata": {},
     "output_type": "execute_result"
    }
   ],
   "source": [
    " 1. 'Hello'.upper()"
   ]
  },
  {
   "cell_type": "code",
   "execution_count": null,
   "id": "2aee7de8",
   "metadata": {},
   "outputs": [],
   "source": [
    "The value of the expression 'Hello'.upper() in Python is the string 'HELLO'.\n",
    "The upper() method is used to convert all the characters in a string to uppercase. In this case, it \n",
    "converts the string 'Hello' to all uppercase letters, resulting in 'HELLO'."
   ]
  },
  {
   "cell_type": "code",
   "execution_count": 5,
   "id": "b40b540c",
   "metadata": {},
   "outputs": [
    {
     "data": {
      "text/plain": [
       "True"
      ]
     },
     "execution_count": 5,
     "metadata": {},
     "output_type": "execute_result"
    }
   ],
   "source": [
    "2. 'hello'.upper().isupper()"
   ]
  },
  {
   "cell_type": "code",
   "execution_count": null,
   "id": "429eb1f3",
   "metadata": {},
   "outputs": [],
   "source": [
    "The value of the expression 'hello'.upper().isupper() in Python is True.\n",
    "\n",
    "Here's what happens step by step:\n",
    "\n",
    "1. 'hello'.upper() is used to convert the string 'hello' to all uppercase letters, resulting in 'HELLO'.\n",
    "\n",
    "2. .isupper() is a string method that checks if all the characters in the string are uppercase. In this\n",
    "   case, since 'HELLO' consists of all uppercase letters, isupper() returns True."
   ]
  },
  {
   "cell_type": "code",
   "execution_count": 6,
   "id": "b10386ac",
   "metadata": {},
   "outputs": [
    {
     "data": {
      "text/plain": [
       "'hello'"
      ]
     },
     "execution_count": 6,
     "metadata": {},
     "output_type": "execute_result"
    }
   ],
   "source": [
    "3. 'hello'.upper().lower()"
   ]
  },
  {
   "cell_type": "code",
   "execution_count": null,
   "id": "553ecd87",
   "metadata": {},
   "outputs": [],
   "source": [
    "The value of the expression 'hello'.upper().lower() in Python is 'hello'.\n",
    "\n",
    "Here's what happens step by step:\n",
    "\n",
    "1. 'hello' is initially a lowercase string.\n",
    "\n",
    "2. .upper() is used to convert the string to all uppercase, resulting in 'HELLO'.\n",
    "\n",
    "3. .lower() is then used to convert the uppercase string 'HELLO' back to lowercase, resulting in 'hello'."
   ]
  },
  {
   "cell_type": "code",
   "execution_count": null,
   "id": "5d5e37f8",
   "metadata": {},
   "outputs": [],
   "source": [
    "8. What are the values of the following expressions?"
   ]
  },
  {
   "cell_type": "code",
   "execution_count": 7,
   "id": "26db2562",
   "metadata": {},
   "outputs": [
    {
     "data": {
      "text/plain": [
       "['Remember,', 'remember,', 'the', 'fifth', 'of', 'July.']"
      ]
     },
     "execution_count": 7,
     "metadata": {},
     "output_type": "execute_result"
    }
   ],
   "source": [
    "1. 'Remember, remember, the fifth of July.'.split()"
   ]
  },
  {
   "cell_type": "code",
   "execution_count": null,
   "id": "7430dcff",
   "metadata": {},
   "outputs": [],
   "source": [
    "The value of the expression 'Remember, remember, the fifth of July.'.split() in Python is a list\n",
    "of words obtained by splitting the input string by whitespace characters (spaces, tabs, and newlines). \n",
    "Each word in the original string has been separated into elements of the list based on the whitespace."
   ]
  },
  {
   "cell_type": "code",
   "execution_count": 8,
   "id": "3fcff7db",
   "metadata": {},
   "outputs": [
    {
     "data": {
      "text/plain": [
       "'There-can-only-one.'"
      ]
     },
     "execution_count": 8,
     "metadata": {},
     "output_type": "execute_result"
    }
   ],
   "source": [
    "2. '-'.join('There can only one.'.split())"
   ]
  },
  {
   "cell_type": "code",
   "execution_count": null,
   "id": "fc52ac9c",
   "metadata": {},
   "outputs": [],
   "source": [
    "The value of the expression '-'.join('There can only one.'.split()) in Python is the string \n",
    "'There-can-only-one.'.\n",
    "\n",
    "Here's what happens step by step:\n",
    "\n",
    "'There can only one.'.split() splits the input string into a list of words based on whitespace \n",
    "characters, resulting in ['There', 'can', 'only', 'one.'].\n",
    "\n",
    "'-'.join(...) is used to join the elements of the list back together into a single string, \n",
    "with '-' as the separator. So, the elements are joined together with '-' in between, resulting \n",
    "in 'There-can-only-one.'."
   ]
  },
  {
   "cell_type": "code",
   "execution_count": null,
   "id": "43624c69",
   "metadata": {},
   "outputs": [],
   "source": [
    "9. What are the methods for right-justifying, left-justifying, and centering a string?"
   ]
  },
  {
   "cell_type": "code",
   "execution_count": null,
   "id": "87ff30e0",
   "metadata": {},
   "outputs": [],
   "source": [
    "In Python, you can use the following string methods to format a string by right-justifying,\n",
    "left-justifying, or centering it:\n",
    "    \n",
    "    1. Right-Justifying: To right-justify a string within a specified width, you can use the \n",
    "       str.rjust(width, fillchar) method. This method adds characters (specified by fillchar) to\n",
    "       the left of the string until it reaches the specified width. If fillchar is not provided, \n",
    "       it defaults to a space."
   ]
  },
  {
   "cell_type": "code",
   "execution_count": 9,
   "id": "3ddb17c6",
   "metadata": {},
   "outputs": [
    {
     "name": "stdout",
     "output_type": "stream",
     "text": [
      "-----Hello\n"
     ]
    }
   ],
   "source": [
    "original_string = 'Hello'\n",
    "right_justified = original_string.rjust(10, '-')\n",
    "print(right_justified)"
   ]
  },
  {
   "cell_type": "code",
   "execution_count": null,
   "id": "5fc70ec1",
   "metadata": {},
   "outputs": [],
   "source": [
    "2. Left-Justifying: To left-justify a string within a specified width, you can use the\n",
    "    str.ljust(width, fillchar) method. This method adds characters (specified by fillchar) \n",
    "    to the right of the string until it reaches the specified width. If fillchar is not provided,\n",
    "    it defaults to a space."
   ]
  },
  {
   "cell_type": "code",
   "execution_count": 10,
   "id": "90211541",
   "metadata": {},
   "outputs": [
    {
     "name": "stdout",
     "output_type": "stream",
     "text": [
      "Hello-----\n"
     ]
    }
   ],
   "source": [
    "original_string = 'Hello'\n",
    "left_justified = original_string.ljust(10, '-')\n",
    "print(left_justified)"
   ]
  },
  {
   "cell_type": "code",
   "execution_count": null,
   "id": "ed2b3e13",
   "metadata": {},
   "outputs": [],
   "source": [
    "3. Centering: To center a string within a specified width, you can use the str.center(width, fillchar)\n",
    "   method. This method adds characters (specified by fillchar) to both the left and right sides of the\n",
    "   string until it reaches the specified width. If fillchar is not provided, it defaults to a space."
   ]
  },
  {
   "cell_type": "code",
   "execution_count": 12,
   "id": "f6de0bf6",
   "metadata": {},
   "outputs": [
    {
     "name": "stdout",
     "output_type": "stream",
     "text": [
      "--Hello---\n"
     ]
    }
   ],
   "source": [
    "original_string = 'Hello'\n",
    "centered = original_string.center(10, '-')\n",
    "print(centered)"
   ]
  },
  {
   "cell_type": "code",
   "execution_count": null,
   "id": "23656f47",
   "metadata": {},
   "outputs": [],
   "source": [
    "10. What is the best way to remove whitespace characters from the start or end?"
   ]
  },
  {
   "cell_type": "code",
   "execution_count": 13,
   "id": "891bf986",
   "metadata": {},
   "outputs": [
    {
     "ename": "SyntaxError",
     "evalue": "invalid syntax (4220603159.py, line 1)",
     "output_type": "error",
     "traceback": [
      "\u001b[1;36m  Cell \u001b[1;32mIn[13], line 1\u001b[1;36m\u001b[0m\n\u001b[1;33m    The best way to remove whitespace characters from the start or end of a string in Python is to use\u001b[0m\n\u001b[1;37m        ^\u001b[0m\n\u001b[1;31mSyntaxError\u001b[0m\u001b[1;31m:\u001b[0m invalid syntax\n"
     ]
    }
   ],
   "source": [
    "The best way to remove whitespace characters from the start or end of a string in Python is to use \n",
    "the str.strip() method. This method removes leading (start) and trailing (end) whitespace characters,\n",
    "including spaces, tabs, and newlines, from the string."
   ]
  },
  {
   "cell_type": "code",
   "execution_count": 14,
   "id": "3d9c6f1f",
   "metadata": {},
   "outputs": [
    {
     "name": "stdout",
     "output_type": "stream",
     "text": [
      "Hello, world!\n"
     ]
    }
   ],
   "source": [
    "original_string = \"   Hello, world!   \"\n",
    "trimmed_string = original_string.strip()\n",
    "\n",
    "print(trimmed_string)"
   ]
  },
  {
   "cell_type": "code",
   "execution_count": 15,
   "id": "04820c55",
   "metadata": {},
   "outputs": [
    {
     "ename": "SyntaxError",
     "evalue": "invalid syntax (1383526368.py, line 1)",
     "output_type": "error",
     "traceback": [
      "\u001b[1;36m  Cell \u001b[1;32mIn[15], line 1\u001b[1;36m\u001b[0m\n\u001b[1;33m    As you can see, the strip() method removes the leading and trailing spaces, resulting in a clean and\u001b[0m\n\u001b[1;37m       ^\u001b[0m\n\u001b[1;31mSyntaxError\u001b[0m\u001b[1;31m:\u001b[0m invalid syntax\n"
     ]
    }
   ],
   "source": [
    "As you can see, the strip() method removes the leading and trailing spaces, resulting in a clean and \n",
    "trimmed string.\n",
    "\n",
    "If you want to remove whitespace characters only from the start (leading) or end (trailing) of the\n",
    "string, you can use the str.lstrip() method to remove leading whitespace or str.rstrip() method to \n",
    "remove trailing whitespace, respectively. Here are examples:"
   ]
  },
  {
   "cell_type": "code",
   "execution_count": 16,
   "id": "544e6010",
   "metadata": {},
   "outputs": [
    {
     "name": "stdout",
     "output_type": "stream",
     "text": [
      "Hello, world!   \n",
      "   Hello, world!\n"
     ]
    }
   ],
   "source": [
    "original_string = \"   Hello, world!   \"\n",
    "\n",
    "# Removing leading whitespace\n",
    "leading_trimmed_string = original_string.lstrip()\n",
    "print(leading_trimmed_string)  \n",
    "\n",
    "# Removing trailing whitespace\n",
    "trailing_trimmed_string = original_string.rstrip()\n",
    "print(trailing_trimmed_string)   "
   ]
  },
  {
   "cell_type": "code",
   "execution_count": null,
   "id": "845239f0",
   "metadata": {},
   "outputs": [],
   "source": []
  }
 ],
 "metadata": {
  "kernelspec": {
   "display_name": "Python 3 (ipykernel)",
   "language": "python",
   "name": "python3"
  },
  "language_info": {
   "codemirror_mode": {
    "name": "ipython",
    "version": 3
   },
   "file_extension": ".py",
   "mimetype": "text/x-python",
   "name": "python",
   "nbconvert_exporter": "python",
   "pygments_lexer": "ipython3",
   "version": "3.11.1"
  }
 },
 "nbformat": 4,
 "nbformat_minor": 5
}
