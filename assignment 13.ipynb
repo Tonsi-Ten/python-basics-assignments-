{
 "cells": [
  {
   "cell_type": "code",
   "execution_count": null,
   "id": "e236dafa",
   "metadata": {},
   "outputs": [],
   "source": [
    "1. What advantages do Excel spreadsheets have over CSV spreadsheets?"
   ]
  },
  {
   "cell_type": "code",
   "execution_count": null,
   "id": "1a681686",
   "metadata": {},
   "outputs": [],
   "source": [
    "\n",
    "Excel spreadsheets offer several advantages over CSV (Comma-Separated Values) spreadsheets:\n",
    "\n",
    "1. Formatting: Excel allows for complex formatting options, including fonts, colors, cell styles, and\n",
    "    borders. This makes it more suitable for creating visually appealing and structured documents.\n",
    "\n",
    "2. Formulas and Functions: Excel provides a wide range of built-in formulas and functions for performing\n",
    "    calculations, data analysis, and automation. You can create complex calculations and automate tasks\n",
    "    easily.\n",
    "\n",
    "3. Charts and Graphs: Excel offers extensive charting and graphing capabilities, allowing you to create \n",
    "    visually compelling charts to represent your data.\n",
    "\n",
    "4. Data Validation: Excel allows you to set rules for data entry, ensuring that data is accurate and\n",
    "    consistent. You can define drop-down lists, restrict data input, and apply validation rules.\n",
    "\n",
    "5. Data Filtering and Sorting: Excel provides powerful filtering and sorting options that make it easier\n",
    "    to analyze and manipulate data.\n",
    "\n",
    "6. Multiple Sheets: Excel workbooks can contain multiple sheets, making it convenient for organizing\n",
    "    related data and calculations in one file.\n",
    "\n",
    "7. Data Protection: You can protect Excel sheets with passwords to prevent unauthorized access or\n",
    "    modification of data.\n",
    "\n",
    "8. Macros: Excel supports VBA (Visual Basic for Applications), which allows you to create custom macros\n",
    "    and automate repetitive tasks.\n",
    "\n",
    "9. Data Visualization: Excel offers features like PivotTables and PivotCharts that enable users to quickly\n",
    "    summarize and visualize large datasets.\n",
    "\n",
    "10. Collaboration: Excel Online and Excel for Office 365 provide collaborative features, allowing multiple\n",
    "    users to work on the same spreadsheet simultaneously.\n",
    "\n",
    "11. a Analysis Add-Ins: Excel supports various add-ins and extensions for advanced data analysis and\n",
    "    reporting.\n",
    "\n",
    "While Excel offers these advantages, CSV files are simpler and more lightweight. They are widely supported\n",
    "across different platforms and programming languages and are typically used when data interchange is th\n",
    "e primary goal. The choice between Excel and CSV depends on the specific needs of your project, with Excel\n",
    "being more suitable for tasks requiring data manipulation, complex calculations, and data presentation,\n",
    "while CSV is better for data portability and compatibility."
   ]
  },
  {
   "cell_type": "code",
   "execution_count": null,
   "id": "8d090bc3",
   "metadata": {},
   "outputs": [],
   "source": [
    "2.What do you pass to csv.reader() and csv.writer() to create reader and writer objects?"
   ]
  },
  {
   "cell_type": "code",
   "execution_count": null,
   "id": "b07be016",
   "metadata": {},
   "outputs": [],
   "source": [
    "To create reader and writer objects in Python using the csv module, you need to pass a file object to the\n",
    "csv.reader() and csv.writer() functions. Here's how you can do it:\n",
    "\n",
    "1. Creating a CSV Reader Object (csv.reader()):\n",
    "\n",
    "To read data from a CSV file, you first need to open the file in read mode ('r') and pass the file object\n",
    "to csv.reader(). For example:"
   ]
  },
  {
   "cell_type": "code",
   "execution_count": null,
   "id": "b877bb10",
   "metadata": {},
   "outputs": [],
   "source": [
    "import csv\n",
    "\n",
    "with open('example.csv', 'r') as csv_file:\n",
    "    csv_reader = csv.reader(csv_file)\n",
    "\n",
    "    # Now, you can iterate through the rows in the CSV file using the csv_reader object.\n",
    "    for row in csv_reader:\n",
    "        print(row)\n"
   ]
  },
  {
   "cell_type": "code",
   "execution_count": null,
   "id": "58361d9e",
   "metadata": {},
   "outputs": [],
   "source": [
    "In this example, 'example.csv' is the name of the CSV file you want to read."
   ]
  },
  {
   "cell_type": "code",
   "execution_count": null,
   "id": "118564bf",
   "metadata": {},
   "outputs": [],
   "source": [
    "2. Creating a CSV Writer Object (csv.writer()):\n",
    "\n",
    "To write data to a CSV file, you first need to open the file in write mode ('w') and pass the file\n",
    "object to csv.writer(). For example:"
   ]
  },
  {
   "cell_type": "code",
   "execution_count": null,
   "id": "46cb896a",
   "metadata": {},
   "outputs": [],
   "source": [
    "import csv\n",
    "\n",
    "with open('output.csv', 'w', newline='') as csv_file:\n",
    "    csv_writer = csv.writer(csv_file)\n",
    "\n",
    "    # Now, you can use the csv_writer object to write rows to the CSV file.\n",
    "    csv_writer.writerow(['Name', 'Age', 'City'])\n",
    "    csv_writer.writerow(['Alice', 25, 'New York'])\n",
    "    csv_writer.writerow(['Bob', 30, 'San Francisco'])"
   ]
  },
  {
   "cell_type": "code",
   "execution_count": null,
   "id": "053f22d4",
   "metadata": {},
   "outputs": [],
   "source": [
    "In this example, 'output.csv' is the name of the CSV file you want to create or overwrite.\n",
    "\n",
    "Note that in both cases, it's a good practice to use the with statement (context manager) to ensure that\n",
    "the file is properly closed after reading or writing operations are completed. Additionally, when opening\n",
    "the file for writing, you should specify newline='' as an argument to the open() function to ensure\n",
    "consistent line endings across different platforms"
   ]
  },
  {
   "cell_type": "code",
   "execution_count": null,
   "id": "9910b250",
   "metadata": {},
   "outputs": [],
   "source": [
    "3. What modes do File objects for reader and writer objects need to be opened in?"
   ]
  },
  {
   "cell_type": "code",
   "execution_count": null,
   "id": "280bde54",
   "metadata": {},
   "outputs": [],
   "source": [
    "When working with file objects for reader and writer objects in Python's csv module, you need to open the\n",
    "file with specific modes:\n",
    "\n",
    "1. File Mode for Reader (csv.reader()):\n",
    "\n",
    "For creating a CSV reader object using csv.reader(), you should open the file in read mode ('r'). This\n",
    "mode is used to read data from the file.\n",
    "You can open the file for reading using open() like this:"
   ]
  },
  {
   "cell_type": "code",
   "execution_count": null,
   "id": "d7159100",
   "metadata": {},
   "outputs": [],
   "source": [
    "with open('example.csv', 'r') as csv_file:\n",
    "    csv_reader = csv.reader(csv_file)\n",
    "    # Now you can read data from 'csv_file'."
   ]
  },
  {
   "cell_type": "code",
   "execution_count": null,
   "id": "eb9c0c6e",
   "metadata": {},
   "outputs": [],
   "source": [
    "2. File Mode for Writer (csv.writer()):\n",
    "\n",
    "For creating a CSV writer object using csv.writer(), you should open the file in write mode ('w'). This\n",
    "mode is used to write data to the file. You can open the file for writing using open() like this:"
   ]
  },
  {
   "cell_type": "code",
   "execution_count": null,
   "id": "b08a9235",
   "metadata": {},
   "outputs": [],
   "source": [
    "with open('output.csv', 'w', newline='') as csv_file:\n",
    "    csv_writer = csv.writer(csv_file)\n",
    "    # Now you can write data to 'csv_file'."
   ]
  },
  {
   "cell_type": "code",
   "execution_count": null,
   "id": "b8077bb5",
   "metadata": {},
   "outputs": [],
   "source": [
    "In this example, 'output.csv' is the name of the CSV file you want to create or overwrite. It's a good\n",
    "practice to specify newline='' when opening the file for writing to ensure consistent line endings across\n",
    "different platforms.\n",
    "\n",
    "In summary, use 'r' mode for reading CSV files with csv.reader() and 'w' mode for writing CSV files with \n",
    "csv.writer(). Additionally, always use the with statement to ensure proper file handling and automatic\n",
    "file closure when you are done reading or writing da"
   ]
  },
  {
   "cell_type": "code",
   "execution_count": null,
   "id": "7f03eaf1",
   "metadata": {},
   "outputs": [],
   "source": [
    "4. What method takes a list argument and writes it to a CSV file?"
   ]
  },
  {
   "cell_type": "code",
   "execution_count": null,
   "id": "ef2d68b9",
   "metadata": {},
   "outputs": [],
   "source": [
    "The method that takes a list argument and writes it to a CSV file using the csv module in Python is the\n",
    "writerow() method of a csv.writer object.\n",
    "\n",
    "Here's how you can use it:\n",
    "\n",
    "1. First, create a csv.writer object by opening a CSV file in write mode ('w') and passing the file object\n",
    "   to csv.writer().\n",
    "\n",
    "2. Then, use the writerow() method to write a list of values as a row in the CSV file. Each element of the\n",
    "   list corresponds to a column in the CSV.\n",
    "\n",
    "Here's an example:"
   ]
  },
  {
   "cell_type": "code",
   "execution_count": null,
   "id": "0a68e650",
   "metadata": {},
   "outputs": [],
   "source": [
    "import csv\n",
    "\n",
    "# Open the CSV file for writing\n",
    "with open('output.csv', 'w', newline='') as csv_file:\n",
    "    csv_writer = csv.writer(csv_file)\n",
    "\n",
    "    # Write a list as a row in the CSV file\n",
    "    csv_writer.writerow(['Name', 'Age', 'City'])\n",
    "\n",
    "    # Write more rows\n",
    "    csv_writer.writerow(['Alice', 25, 'New York'])\n",
    "    csv_writer.writerow(['Bob', 30, 'San Francisco'])\n"
   ]
  },
  {
   "cell_type": "code",
   "execution_count": null,
   "id": "861efa91",
   "metadata": {},
   "outputs": [],
   "source": [
    "In this example, the writerow() method is used to write rows to the 'output.csv' file. Each call to\n",
    "writerow() writes a new row to the CSV file, with the values provided in the list as the row's data.\n",
    "\n",
    "You can call writerow() multiple times to write successive rows to the CSV file, making it easy to write\n",
    "data from lists, tuples, or other iterable data structures to a CSV file."
   ]
  },
  {
   "cell_type": "code",
   "execution_count": null,
   "id": "6af142dd",
   "metadata": {},
   "outputs": [],
   "source": [
    "5. What do the keyword arguments delimiter and line terminator do?"
   ]
  },
  {
   "cell_type": "code",
   "execution_count": null,
   "id": "5d2eb211",
   "metadata": {},
   "outputs": [],
   "source": [
    "In the context of the csv module in Python, the delimiter and line terminator are optional keyword \n",
    "arguments that you can use when creating a csv.writer object to customize the formatting of your CSV \n",
    "file:\n",
    "\n",
    "1. delimiter (also known as dialect.delimiter): This keyword argument specifies the character that separates\n",
    "    fields (columns) within a CSV row. By default, the delimiter is a comma (,), which is why CSV stands\n",
    "    for \"Comma-Separated Values.\" However, you can change the delimiter to another character or string if\n",
    "    needed. For example, you might use a semicolon (;) or a tab character (\\t) as a delimiter. Here's how\n",
    "    to set the delimiter when creating a csv.writer object:\n"
   ]
  },
  {
   "cell_type": "code",
   "execution_count": null,
   "id": "b6c4cb8b",
   "metadata": {},
   "outputs": [],
   "source": [
    "import csv\n",
    "\n",
    "with open('output.csv', 'w', newline='') as csv_file:\n",
    "    csv_writer = csv.writer(csv_file, delimiter=';')\n",
    "    # Now, the CSV rows will use a semicolon as the delimiter.\n"
   ]
  },
  {
   "cell_type": "code",
   "execution_count": null,
   "id": "0c9dadd6",
   "metadata": {},
   "outputs": [],
   "source": [
    "2. lineterminator (also known as dialect.lineterminator): This keyword argument specifies the character or \n",
    " string that should be used as the line terminator when writing rows to the CSV file. The line\n",
    " terminator is the sequence of characters that separates rows in the file. By default, it is set to\n",
    " '\\n' (newline character), which is the standard line terminator on most platforms. However, you can\n",
    "  change it to another character or sequence if needed. For example, you might use '\\r\\n' as the line\n",
    "  terminator for compatibility with Windows-based text files. Here's how to set the line terminator\n",
    " when creating a csv.writer object:"
   ]
  },
  {
   "cell_type": "code",
   "execution_count": null,
   "id": "754ccff8",
   "metadata": {},
   "outputs": [],
   "source": [
    "import csv\n",
    "\n",
    "with open('output.csv', 'w', newline='') as csv_file:\n",
    "    csv_writer = csv.writer(csv_file, lineterminator='\\r\\n')\n",
    "    # Now, the CSV rows will use '\\r\\n' as the line terminator.\n"
   ]
  },
  {
   "cell_type": "code",
   "execution_count": null,
   "id": "0e2db684",
   "metadata": {},
   "outputs": [],
   "source": [
    "Customizing the delimiter and line terminator can be useful when you need to generate CSV files that\n",
    "adhere to specific formatting requirements or when you want to ensure compatibility with software that\n",
    "expects a particular format."
   ]
  },
  {
   "cell_type": "code",
   "execution_count": null,
   "id": "1310c805",
   "metadata": {},
   "outputs": [],
   "source": [
    "6. What function takes a string of JSON data and returns a Python data structure?"
   ]
  },
  {
   "cell_type": "code",
   "execution_count": null,
   "id": "3d48d9f9",
   "metadata": {},
   "outputs": [],
   "source": [
    "To convert a string of JSON data into a Python data structure, you can use the json.loads() function.\n",
    "This function is part of Python's built-in json module and is used for parsing JSON strings into Python\n",
    "objects. Here's how you can use it:"
   ]
  },
  {
   "cell_type": "code",
   "execution_count": null,
   "id": "1b140d28",
   "metadata": {},
   "outputs": [],
   "source": [
    "import json\n",
    "\n",
    "# A JSON string\n",
    "json_string = '{\"name\": \"John\", \"age\": 30, \"city\": \"New York\"}'\n",
    "\n",
    "# Parse the JSON string into a Python data structure (usually a dictionary)\n",
    "python_data = json.loads(json_string)\n",
    "\n",
    "# Now, 'python_data' contains a Python dictionary\n",
    "print(python_data)\n"
   ]
  },
  {
   "cell_type": "code",
   "execution_count": null,
   "id": "f4d067a0",
   "metadata": {},
   "outputs": [],
   "source": [
    "In this example, json_string is a JSON string, and json.loads() is used to convert it into a Python\n",
    "dictionary. The resulting python_data variable holds the Python data structure, and you can access its\n",
    "elements as you would with any Python dictionary.\n",
    "\n",
    "It's important to note that `json.loads"
   ]
  },
  {
   "cell_type": "code",
   "execution_count": null,
   "id": "3de73025",
   "metadata": {},
   "outputs": [],
   "source": [
    "7. What function takes a Python data structure and returns a string of JSON data?"
   ]
  },
  {
   "cell_type": "code",
   "execution_count": null,
   "id": "1a6faff7",
   "metadata": {},
   "outputs": [],
   "source": [
    "The function that takes a Python data structure and returns a string of JSON data is the json.dumps()\n",
    "function. This function converts Python objects such as dictionaries, lists, tuples, and strings to their\n",
    "equivalent JSON objects.\n",
    "\n",
    "To use the json.dumps() function, you simply pass the Python data structure that you want to convert to\n",
    "JSON as the argument to the function. The function will then return a string of JSON data that represents\n",
    "the Python data structure.\n",
    "\n",
    "Here is an example of how to use the json.dumps() function:"
   ]
  },
  {
   "cell_type": "code",
   "execution_count": null,
   "id": "673988a0",
   "metadata": {},
   "outputs": [],
   "source": [
    "import json\n",
    "\n",
    "# Create a Python data structure\n",
    "data = {\n",
    "  \"name\": \"Bard\",\n",
    "  \"age\": 1,\n",
    "  \"occupation\": \"Large language model\"\n",
    "}\n",
    "\n",
    "# Convert the Python data structure to JSON\n",
    "json_data = json.dumps(data)\n",
    "\n",
    "# Print the JSON data\n",
    "print(json_data)\n"
   ]
  },
  {
   "cell_type": "code",
   "execution_count": null,
   "id": "82943e1b",
   "metadata": {},
   "outputs": [],
   "source": []
  },
  {
   "cell_type": "code",
   "execution_count": null,
   "id": "f857870c",
   "metadata": {},
   "outputs": [],
   "source": []
  }
 ],
 "metadata": {
  "kernelspec": {
   "display_name": "Python 3 (ipykernel)",
   "language": "python",
   "name": "python3"
  },
  "language_info": {
   "codemirror_mode": {
    "name": "ipython",
    "version": 3
   },
   "file_extension": ".py",
   "mimetype": "text/x-python",
   "name": "python",
   "nbconvert_exporter": "python",
   "pygments_lexer": "ipython3",
   "version": "3.11.1"
  }
 },
 "nbformat": 4,
 "nbformat_minor": 5
}
