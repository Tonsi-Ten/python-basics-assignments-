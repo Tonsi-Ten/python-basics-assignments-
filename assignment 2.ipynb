{
 "cells": [
  {
   "cell_type": "code",
   "execution_count": null,
   "id": "dde24708",
   "metadata": {},
   "outputs": [],
   "source": [
    "1.What are the two values of the Boolean data type? How do you write them?"
   ]
  },
  {
   "cell_type": "code",
   "execution_count": null,
   "id": "dcb57598",
   "metadata": {},
   "outputs": [],
   "source": [
    "Boolean is a data type which represents two values True or false. it is used to represent the truthiness\n",
    "of expression and conditions.\n",
    "for example.\n",
    "A = True   # Represents a true or valid condition.\n",
    "B = False  # Represents a false or invalid condition."
   ]
  },
  {
   "cell_type": "code",
   "execution_count": null,
   "id": "3e2bedac",
   "metadata": {},
   "outputs": [],
   "source": [
    "2. What are the three different types of Boolean operators?"
   ]
  },
  {
   "cell_type": "code",
   "execution_count": null,
   "id": "fb9e6c35",
   "metadata": {},
   "outputs": [],
   "source": [
    "Boolean operators in Python are used to combine or manipulate boolean values there are three primary\n",
    "boolean operators.\n",
    "I. AND Operator ---> The 'and' operator returns 'true' if both operators are ture otherwise \n",
    "it returns 'False'."
   ]
  },
  {
   "cell_type": "code",
   "execution_count": 5,
   "id": "a9a0cc30",
   "metadata": {},
   "outputs": [],
   "source": [
    "a = True\n",
    "b = False\n",
    "result = a and b"
   ]
  },
  {
   "cell_type": "code",
   "execution_count": 6,
   "id": "a91146e8",
   "metadata": {},
   "outputs": [
    {
     "name": "stdout",
     "output_type": "stream",
     "text": [
      "False\n"
     ]
    }
   ],
   "source": [
    "print(result)"
   ]
  },
  {
   "cell_type": "code",
   "execution_count": null,
   "id": "b270fc0d",
   "metadata": {},
   "outputs": [],
   "source": [
    "II. OR Operator ---> The or operator returns 'True' if at least one operator is\n",
    "is 'True' otherwise it returns 'False'"
   ]
  },
  {
   "cell_type": "code",
   "execution_count": 10,
   "id": "f73860c0",
   "metadata": {},
   "outputs": [],
   "source": [
    "a = True\n",
    "b = False \n",
    "result = a or b"
   ]
  },
  {
   "cell_type": "code",
   "execution_count": 13,
   "id": "5305490c",
   "metadata": {},
   "outputs": [
    {
     "name": "stdout",
     "output_type": "stream",
     "text": [
      "True\n"
     ]
    }
   ],
   "source": [
    "print(result)"
   ]
  },
  {
   "cell_type": "code",
   "execution_count": null,
   "id": "483312e5",
   "metadata": {},
   "outputs": [],
   "source": [
    "III. NOT Operator ---> The 'not' operator returns The opposite of the operand's value. \n",
    "it returns 'True' if the operand is 'False', and vice versa."
   ]
  },
  {
   "cell_type": "code",
   "execution_count": 16,
   "id": "d7c2aa60",
   "metadata": {},
   "outputs": [],
   "source": [
    "a = True\n",
    "result = not a"
   ]
  },
  {
   "cell_type": "code",
   "execution_count": 17,
   "id": "da7e24c8",
   "metadata": {},
   "outputs": [
    {
     "name": "stdout",
     "output_type": "stream",
     "text": [
      "False\n"
     ]
    }
   ],
   "source": [
    "print(result)"
   ]
  },
  {
   "cell_type": "code",
   "execution_count": 18,
   "id": "36b6f010",
   "metadata": {},
   "outputs": [],
   "source": [
    "b = False\n",
    "result = not b"
   ]
  },
  {
   "cell_type": "code",
   "execution_count": 19,
   "id": "4f28ff4c",
   "metadata": {},
   "outputs": [
    {
     "name": "stdout",
     "output_type": "stream",
     "text": [
      "True\n"
     ]
    }
   ],
   "source": [
    "print(result)"
   ]
  },
  {
   "cell_type": "code",
   "execution_count": null,
   "id": "097f6842",
   "metadata": {},
   "outputs": [],
   "source": [
    "3. Make a list of each Boolean operators truth tables (i.e. every possible combination of Boolean\n",
    "values for the operator and what it evaluate)."
   ]
  },
  {
   "cell_type": "code",
   "execution_count": null,
   "id": "6462dae9",
   "metadata": {},
   "outputs": [],
   "source": [
    "AND Operator truth table.\n",
    "Operand 1         Operand 2\t       Result\n",
    "True   --->       True      --->     True\n",
    "True   --->       False     --->     False\n",
    "False  --->       True      --->     False\n",
    "False  --->       False     --->     False\n"
   ]
  },
  {
   "cell_type": "code",
   "execution_count": null,
   "id": "54ebc6dd",
   "metadata": {},
   "outputs": [],
   "source": [
    "OR Operator truth table.\n",
    "Operand 1           Operand 2        Result\n",
    "True    --->        True      --->   True\n",
    "True    --->        False     --->   True\n",
    "False   --->        True      --->   True\n",
    "False   --->        False     --->   False"
   ]
  },
  {
   "cell_type": "code",
   "execution_count": null,
   "id": "ab19af89",
   "metadata": {},
   "outputs": [],
   "source": [
    "NOT Operator truth table.\n",
    "Operand\t           Result\n",
    "True    --->       False\n",
    "False   --->       True"
   ]
  },
  {
   "cell_type": "code",
   "execution_count": null,
   "id": "a36e8804",
   "metadata": {},
   "outputs": [],
   "source": [
    "4. What are the values of the following expressions?\n",
    "(5 > 4) and (3 == 5)                   ----->  False\n",
    "\n",
    "not (5 > 4)                            ----->  False\n",
    "\n",
    "(5 > 4) or (3 == 5)                    ----->  True\n",
    "\n",
    "not ((5 > 4) or (3 == 5))              ----->  False \n",
    "\n",
    "(True and True) and (True == False)    ----->  False\n",
    "\n",
    "(not False) or (not True)              ----->  True "
   ]
  },
  {
   "cell_type": "code",
   "execution_count": 23,
   "id": "ae1fb702",
   "metadata": {},
   "outputs": [
    {
     "data": {
      "text/plain": [
       "False"
      ]
     },
     "execution_count": 23,
     "metadata": {},
     "output_type": "execute_result"
    }
   ],
   "source": [
    "(5 > 4) and (3 == 5)  "
   ]
  },
  {
   "cell_type": "code",
   "execution_count": 26,
   "id": "c2d1e733",
   "metadata": {},
   "outputs": [
    {
     "data": {
      "text/plain": [
       "False"
      ]
     },
     "execution_count": 26,
     "metadata": {},
     "output_type": "execute_result"
    }
   ],
   "source": [
    "not (5 > 4)  "
   ]
  },
  {
   "cell_type": "code",
   "execution_count": 25,
   "id": "c6cf2490",
   "metadata": {},
   "outputs": [
    {
     "data": {
      "text/plain": [
       "True"
      ]
     },
     "execution_count": 25,
     "metadata": {},
     "output_type": "execute_result"
    }
   ],
   "source": [
    "(5 > 4) or (3 == 5)  "
   ]
  },
  {
   "cell_type": "code",
   "execution_count": 27,
   "id": "c3b22e83",
   "metadata": {},
   "outputs": [
    {
     "data": {
      "text/plain": [
       "False"
      ]
     },
     "execution_count": 27,
     "metadata": {},
     "output_type": "execute_result"
    }
   ],
   "source": [
    "not ((5 > 4) or (3 == 5))"
   ]
  },
  {
   "cell_type": "code",
   "execution_count": 28,
   "id": "fc1329aa",
   "metadata": {},
   "outputs": [
    {
     "data": {
      "text/plain": [
       "False"
      ]
     },
     "execution_count": 28,
     "metadata": {},
     "output_type": "execute_result"
    }
   ],
   "source": [
    "(True and True) and (True == False)"
   ]
  },
  {
   "cell_type": "code",
   "execution_count": 29,
   "id": "b4ff4de8",
   "metadata": {},
   "outputs": [
    {
     "data": {
      "text/plain": [
       "True"
      ]
     },
     "execution_count": 29,
     "metadata": {},
     "output_type": "execute_result"
    }
   ],
   "source": [
    "(not False) or (not True)"
   ]
  },
  {
   "cell_type": "code",
   "execution_count": null,
   "id": "59b34286",
   "metadata": {},
   "outputs": [],
   "source": [
    "5. What are the six comparison operators?"
   ]
  },
  {
   "cell_type": "code",
   "execution_count": null,
   "id": "bcd441a4",
   "metadata": {},
   "outputs": [],
   "source": [
    "1. Equal To (==):\n",
    "   Checks if two values are equal. Returns True if the values are equal, otherwise False.\n",
    "\n",
    "2. Not Equal To (!=):\n",
    "   Checks if two values are not equal. Returns True if the values are not equal, otherwise False.\n",
    "\n",
    "3. Greater Than (>):\n",
    "   Checks if the left value is greater than the right value. Returns True if the left value is greater,    otherwise False.\n",
    "\n",
    "4. Less Than (<):\n",
    "   Checks if the left value is less than the right value. Returns True if the left value is less,          otherwise False.\n",
    "\n",
    "5. Greater Than or Equal To (>=):\n",
    "   Checks if the left value is greater than or equal to the right value. Returns True if the left value    is greater or equal, otherwise False.\n",
    "\n",
    "6. Less Than or Equal To (<=):\n",
    "   Checks if the left value is less than or equal to the right value. Returns True if the left value is    less or equal, otherwise False."
   ]
  },
  {
   "cell_type": "code",
   "execution_count": null,
   "id": "84a08857",
   "metadata": {},
   "outputs": [],
   "source": [
    "6. How do you tell the difference between the equal to and assignment operators? Describe a\n",
    "condition and when you would use one."
   ]
  },
  {
   "cell_type": "code",
   "execution_count": null,
   "id": "48d6932a",
   "metadata": {},
   "outputs": [],
   "source": [
    "The equal to (==) operator and assignment operator (=) serve different purposs in python.\n",
    "\n",
    "* Equal To Operator (==): is used to compare two value for equity. it rturns Ture if the value on both\n",
    "  sides  are equal. otherwise it returns False.\n",
    " x = 4\n",
    " y = 6\n",
    " result = x == y   # result will be False.\n",
    "\n",
    "* Assignment Operator (=): The assignment operator is used to assign a value to a variable.\n",
    "  It takes the value on the right side and assigns it to the variable on the left side.\n",
    "\n",
    "x = 10   # Assigns the value 10 to the variable x\n",
    "y = x   # Assigns the value of x (which is 10) to the variable y"
   ]
  },
  {
   "cell_type": "code",
   "execution_count": 31,
   "id": "c3ebf87d",
   "metadata": {},
   "outputs": [
    {
     "name": "stdout",
     "output_type": "stream",
     "text": [
      "x and y are not equal\n"
     ]
    }
   ],
   "source": [
    "x = 6      # Assigns the value 6 to the variable x  \n",
    "y = 2      # Assigns the value 2 to the variable y \n",
    "\n",
    "if x == y:   # ccomparing the values of x and y.        \n",
    "    print(\"x and y are equal\")\n",
    "else:\n",
    "    print(\"x and y are not equal\")"
   ]
  },
  {
   "cell_type": "code",
   "execution_count": 35,
   "id": "fbcfcb1f",
   "metadata": {},
   "outputs": [
    {
     "ename": "SyntaxError",
     "evalue": "invalid syntax (3984896424.py, line 1)",
     "output_type": "error",
     "traceback": [
      "\u001b[1;36m  Cell \u001b[1;32mIn[35], line 1\u001b[1;36m\u001b[0m\n\u001b[1;33m    7. Identify the three blocks in this code:\u001b[0m\n\u001b[1;37m       ^\u001b[0m\n\u001b[1;31mSyntaxError\u001b[0m\u001b[1;31m:\u001b[0m invalid syntax\n"
     ]
    }
   ],
   "source": [
    "7. Identify the three blocks in this code:\n",
    "spam = 0\n",
    "if spam == 10:\n",
    "    print('eggs')  # Block 1: Inside the if statement\n",
    "if spam > 5:\n",
    "    print('bacon')  # Block 2: Inside the if statement\n",
    "else:\n",
    "    print('ham')    # Block 3: Inside the else statement\n",
    "print('spam')      \n",
    "print('spam')     \n"
   ]
  },
  {
   "cell_type": "code",
   "execution_count": null,
   "id": "e6f22d3d",
   "metadata": {},
   "outputs": [],
   "source": [
    "8. Write code that prints Hello if 1 is stored in spam, prints Howdy if 2 is stored in spam, and prints\n",
    "Greetings! if anything else is stored in spam."
   ]
  },
  {
   "cell_type": "code",
   "execution_count": 36,
   "id": "153c52c8",
   "metadata": {},
   "outputs": [
    {
     "name": "stdout",
     "output_type": "stream",
     "text": [
      "Enter the value 5\n",
      "Good morning\n"
     ]
    }
   ],
   "source": [
    "spam = int(input(\"Enter the value \"))  \n",
    "\n",
    "if spam == 1:\n",
    "    print(\"Hello\")\n",
    "elif spam == 2:\n",
    "    print(\"Howdy\")\n",
    "else:\n",
    "    print(\"Good morning\")"
   ]
  },
  {
   "cell_type": "code",
   "execution_count": null,
   "id": "f98cabd6",
   "metadata": {},
   "outputs": [],
   "source": [
    "9.If your programme is stuck in an endless loop, what keys you’ll press?"
   ]
  },
  {
   "cell_type": "code",
   "execution_count": null,
   "id": "e16c70e9",
   "metadata": {},
   "outputs": [],
   "source": [
    "If your program is stuck in an endless loop and you want to stop its execution pressing Ctrl+C will\n",
    "send an interrupt signal to the program, causing it to terminate the loop."
   ]
  },
  {
   "cell_type": "code",
   "execution_count": null,
   "id": "0f8cb25a",
   "metadata": {},
   "outputs": [],
   "source": [
    "10. How can you tell the difference between break and continue?"
   ]
  },
  {
   "cell_type": "code",
   "execution_count": null,
   "id": "aeddabda",
   "metadata": {},
   "outputs": [],
   "source": [
    "break Statement:\n",
    "The break statement is used to exit the current loop prematurely regardless of whether the loop's \n",
    "condition is still satisfied. When encountered the loop immediately terminates and the program \n",
    "continues with the next statement after the loop. It is often used to stop the loop when a specific \n",
    "condition is met."
   ]
  },
  {
   "cell_type": "code",
   "execution_count": 38,
   "id": "d2987223",
   "metadata": {},
   "outputs": [
    {
     "name": "stdout",
     "output_type": "stream",
     "text": [
      "0\n",
      "1\n",
      "2\n",
      "3\n",
      "4\n",
      "5\n",
      "6\n",
      "7\n"
     ]
    }
   ],
   "source": [
    "for i in range(10):\n",
    "    if i == 8:\n",
    "        break\n",
    "    print(i)"
   ]
  },
  {
   "cell_type": "code",
   "execution_count": null,
   "id": "1c2631c6",
   "metadata": {},
   "outputs": [],
   "source": [
    "continue Statement:\n",
    "The continue statement is used to skip the rest of the current iteration of the loop and move on \n",
    "to the next iteration. When encountered, the loop immediately proceeds with the next iteration\n",
    "skipping the remaining code in the current iteration. It is often used to bypass specific iterations\n",
    "based on certain conditions."
   ]
  },
  {
   "cell_type": "code",
   "execution_count": 40,
   "id": "8ff6dbbb",
   "metadata": {},
   "outputs": [
    {
     "name": "stdout",
     "output_type": "stream",
     "text": [
      "0\n",
      "1\n",
      "2\n",
      "3\n",
      "4\n",
      "6\n",
      "7\n",
      "8\n",
      "9\n"
     ]
    }
   ],
   "source": [
    "for i in range(10):\n",
    "    if i == 5:\n",
    "        continue\n",
    "    print(i)"
   ]
  },
  {
   "cell_type": "code",
   "execution_count": null,
   "id": "0fcf1421",
   "metadata": {},
   "outputs": [],
   "source": [
    "11. In a for loop, what is the difference between range(10), range(0, 10), and range(0, 10, 1)?"
   ]
  },
  {
   "cell_type": "code",
   "execution_count": null,
   "id": "bb3ca9da",
   "metadata": {},
   "outputs": [],
   "source": [
    "range(10):\n",
    "This function generates a sequence of numbers starting from 0 (default start value) up to 9 and\n",
    "not include the specified end value (10 in this case)."
   ]
  },
  {
   "cell_type": "code",
   "execution_count": 41,
   "id": "9df48e2e",
   "metadata": {},
   "outputs": [
    {
     "name": "stdout",
     "output_type": "stream",
     "text": [
      "0\n",
      "1\n",
      "2\n",
      "3\n",
      "4\n",
      "5\n",
      "6\n",
      "7\n",
      "8\n",
      "9\n"
     ]
    }
   ],
   "source": [
    "#example\n",
    "for i in range(10):\n",
    "    print(i)"
   ]
  },
  {
   "cell_type": "code",
   "execution_count": null,
   "id": "74ff6141",
   "metadata": {},
   "outputs": [],
   "source": [
    "range(0, 10):\n",
    "This function specifies both the start and end values of the sequence. It generates\n",
    "numbers from the specified start value (0 in this case) up to, but not including, the specified \n",
    "end value (10 in this case)."
   ]
  },
  {
   "cell_type": "code",
   "execution_count": 45,
   "id": "b8a1d46f",
   "metadata": {},
   "outputs": [
    {
     "name": "stdout",
     "output_type": "stream",
     "text": [
      "4\n",
      "5\n",
      "6\n",
      "7\n",
      "8\n",
      "9\n"
     ]
    }
   ],
   "source": [
    "#example\n",
    "for i in range(4, 10):\n",
    "    print(i)"
   ]
  },
  {
   "cell_type": "code",
   "execution_count": null,
   "id": "aa13e91f",
   "metadata": {},
   "outputs": [],
   "source": [
    "range(0, 10, 1):\n",
    "This function specifies both the start and end values, as well as the step value. It generates\n",
    "numbers from the specified start value 0 up to, but not including, the specified end value 10."
   ]
  },
  {
   "cell_type": "code",
   "execution_count": 47,
   "id": "fa784ad3",
   "metadata": {},
   "outputs": [
    {
     "name": "stdout",
     "output_type": "stream",
     "text": [
      "0\n",
      "2\n",
      "4\n",
      "6\n",
      "8\n"
     ]
    }
   ],
   "source": [
    "#example\n",
    "for i in range(0, 10, 2):\n",
    "    print(i)"
   ]
  },
  {
   "cell_type": "code",
   "execution_count": null,
   "id": "15afa0ea",
   "metadata": {},
   "outputs": [],
   "source": [
    "12. Write a short program that prints the numbers 1 to 10 using a for loop. Then write an equivalent\n",
    "program that prints the numbers 1 to 10 using a while loop."
   ]
  },
  {
   "cell_type": "code",
   "execution_count": 48,
   "id": "c0b1a7cc",
   "metadata": {},
   "outputs": [
    {
     "name": "stdout",
     "output_type": "stream",
     "text": [
      "1\n",
      "2\n",
      "3\n",
      "4\n",
      "5\n",
      "6\n",
      "7\n",
      "8\n",
      "9\n",
      "10\n"
     ]
    }
   ],
   "source": [
    "for i in range(1, 11):\n",
    "    print(i)"
   ]
  },
  {
   "cell_type": "code",
   "execution_count": 51,
   "id": "8c047e3e",
   "metadata": {},
   "outputs": [
    {
     "name": "stdout",
     "output_type": "stream",
     "text": [
      "1\n",
      "2\n",
      "3\n",
      "4\n",
      "5\n",
      "6\n",
      "7\n",
      "8\n",
      "9\n",
      "10\n"
     ]
    }
   ],
   "source": [
    "i = 1\n",
    "while i <= 10:\n",
    "    print(i)\n",
    "    i = i+1"
   ]
  },
  {
   "cell_type": "code",
   "execution_count": null,
   "id": "a2b6ff4c",
   "metadata": {},
   "outputs": [],
   "source": [
    "13. If you had a function named bacon() inside a module named spam, how would you call it after\n",
    "importing spam?"
   ]
  },
  {
   "cell_type": "code",
   "execution_count": null,
   "id": "0c99a6a4",
   "metadata": {},
   "outputs": [],
   "source": [
    "import spam\n",
    "spam.bacon()\n"
   ]
  }
 ],
 "metadata": {
  "kernelspec": {
   "display_name": "Python 3 (ipykernel)",
   "language": "python",
   "name": "python3"
  },
  "language_info": {
   "codemirror_mode": {
    "name": "ipython",
    "version": 3
   },
   "file_extension": ".py",
   "mimetype": "text/x-python",
   "name": "python",
   "nbconvert_exporter": "python",
   "pygments_lexer": "ipython3",
   "version": "3.11.1"
  }
 },
 "nbformat": 4,
 "nbformat_minor": 5
}
