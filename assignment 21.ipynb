{
 "cells": [
  {
   "cell_type": "code",
   "execution_count": null,
   "id": "4b9c0bf6",
   "metadata": {},
   "outputs": [],
   "source": [
    "1. Add the current date to the text file today.txt as a string."
   ]
  },
  {
   "cell_type": "code",
   "execution_count": 5,
   "id": "c128eed0",
   "metadata": {},
   "outputs": [
    {
     "name": "stdout",
     "output_type": "stream",
     "text": [
      "The current date (2023-11-15 15:09:03) has been added to 'today.txt'.\n"
     ]
    }
   ],
   "source": [
    "from datetime import datetime\n",
    "\n",
    "# Get the current date as a string\n",
    "current_date = datetime.now().strftime('%Y-%m-%d %H:%M:%S')\n",
    "\n",
    "# Write the current date to the text file\n",
    "with open('today.txt', 'a') as file:\n",
    "    file.write(current_date + '\\n')\n",
    "\n",
    "print(f\"The current date ({current_date}) has been added to 'today.txt'.\")\n"
   ]
  },
  {
   "cell_type": "code",
   "execution_count": null,
   "id": "2bde29ba",
   "metadata": {},
   "outputs": [],
   "source": [
    "2. Read the text file today.txt into the string today_string"
   ]
  },
  {
   "cell_type": "code",
   "execution_count": 6,
   "id": "8a9ec740",
   "metadata": {},
   "outputs": [
    {
     "name": "stdout",
     "output_type": "stream",
     "text": [
      "Contents of 'today.txt' have been read into today_string.\n",
      "2023-11-15 15:07:28\n",
      "2023-11-15 15:07:46\n",
      "2023-11-15 15:08:01\n",
      "2023-11-15 15:09:03\n",
      "\n"
     ]
    }
   ],
   "source": [
    "# Read the contents of the file 'today.txt' into the string 'today_string'\n",
    "with open('today.txt', 'r') as file:\n",
    "    today_string = file.read()\n",
    "\n",
    "print(\"Contents of 'today.txt' have been read into today_string.\")\n",
    "print(today_string)\n"
   ]
  },
  {
   "cell_type": "code",
   "execution_count": null,
   "id": "3b6bc906",
   "metadata": {},
   "outputs": [],
   "source": [
    ". Opens the 'today.txt' file in read mode ('r').\n",
    ". Reads the content of the file into the string today_string.\n",
    ". Prints a message indicating that the contents have been read into today_string.\n",
    ". Prints the contents of today_string."
   ]
  },
  {
   "cell_type": "code",
   "execution_count": null,
   "id": "90289991",
   "metadata": {},
   "outputs": [],
   "source": [
    "3. Parse the date from today_string."
   ]
  },
  {
   "cell_type": "code",
   "execution_count": null,
   "id": "fd1363fa",
   "metadata": {},
   "outputs": [],
   "source": [
    "To parse the date from the today_string, you can use the datetime module in Python. Since we added the\n",
    "date in the format 'YYYY-MM-DD HH:MM:SS', we can use the strptime method to parse it. Here's the code:"
   ]
  },
  {
   "cell_type": "code",
   "execution_count": 7,
   "id": "86ce173b",
   "metadata": {},
   "outputs": [
    {
     "name": "stdout",
     "output_type": "stream",
     "text": [
      "Parsed Date: 2023-11-15 15:30:00\n"
     ]
    }
   ],
   "source": [
    "from datetime import datetime\n",
    "\n",
    "# Assuming today_string contains the date in the format 'YYYY-MM-DD HH:MM:SS'\n",
    "today_string = \"2023-11-15 15:30:00\"  # Replace this with the actual content of today_string\n",
    "\n",
    "# Parse the date from today_string\n",
    "parsed_date = datetime.strptime(today_string, '%Y-%m-%d %H:%M:%S')\n",
    "\n",
    "print(\"Parsed Date:\", parsed_date)\n"
   ]
  },
  {
   "cell_type": "code",
   "execution_count": null,
   "id": "fc622420",
   "metadata": {},
   "outputs": [],
   "source": [
    "4. List the files in your current directory"
   ]
  },
  {
   "cell_type": "code",
   "execution_count": 8,
   "id": "23183052",
   "metadata": {},
   "outputs": [
    {
     "name": "stdout",
     "output_type": "stream",
     "text": [
      "Files in the current directory:\n",
      ".ipynb_checkpoints\n",
      "assignment  7.ipynb\n",
      "assignment 1.txt\n",
      "assignment 10.ipynb\n",
      "assignment 11.ipynb\n",
      "assignment 12.ipynb\n",
      "assignment 13.ipynb\n",
      "assignment 14.ipynb\n",
      "assignment 15.ipynb\n",
      "assignment 16.ipynb\n",
      "assignment 17.ipynb\n",
      "assignment 18.ipynb\n",
      "assignment 19.ipynb\n",
      "assignment 2.ipynb\n",
      "assignment 20.ipynb\n",
      "assignment 21.ipynb\n",
      "assignment 3.ipynb\n",
      "assignment 4.ipynb\n",
      "assignment 5.ipynb\n",
      "assignment 6.ipynb\n",
      "assignment 8.ipynb\n",
      "assignment 9.ipynb\n",
      "books.csv\n",
      "books.db\n",
      "test.txt\n",
      "today.txt\n",
      "zoo.py\n",
      "__pycache__\n"
     ]
    }
   ],
   "source": [
    "import os\n",
    "\n",
    "# Get the list of files in the current directory\n",
    "files_in_current_directory = os.listdir()\n",
    "\n",
    "# Print the list of files\n",
    "print(\"Files in the current directory:\")\n",
    "for file in files_in_current_directory:\n",
    "    print(file)\n"
   ]
  },
  {
   "cell_type": "code",
   "execution_count": null,
   "id": "dba5ecfd",
   "metadata": {},
   "outputs": [],
   "source": [
    "5. Create a list of all of the files in your parent directory (minimum five files should be available)."
   ]
  },
  {
   "cell_type": "code",
   "execution_count": null,
   "id": "8f844670",
   "metadata": {},
   "outputs": [],
   "source": [
    "To create a list of all the files in the parent directory, you can use the os module in Python. Here's\n",
    "an example code snippet:"
   ]
  },
  {
   "cell_type": "code",
   "execution_count": 10,
   "id": "0ec72dc2",
   "metadata": {},
   "outputs": [
    {
     "name": "stdout",
     "output_type": "stream",
     "text": [
      "Files in the parent directory:\n",
      "desktop.ini\n",
      "python\n",
      "python basice assignment\n",
      "python+ mongodb oop\n"
     ]
    }
   ],
   "source": [
    "import os\n",
    "\n",
    "# Get the current working directory\n",
    "current_directory = os.getcwd()\n",
    "\n",
    "# Get the parent directory\n",
    "parent_directory = os.path.dirname(current_directory)\n",
    "\n",
    "# Get the list of files in the parent directory\n",
    "files_in_parent_directory = os.listdir(parent_directory)\n",
    "\n",
    "# Print the list of files\n",
    "print(\"Files in the parent directory:\")\n",
    "for file in files_in_parent_directory:\n",
    "    print(file)\n"
   ]
  },
  {
   "cell_type": "code",
   "execution_count": null,
   "id": "e0387929",
   "metadata": {},
   "outputs": [],
   "source": [
    "6. Use multiprocessing to create three separate processes. Make each one wait a random number of\n",
    "seconds between one and five, print the current time, and then exit."
   ]
  },
  {
   "cell_type": "code",
   "execution_count": null,
   "id": "75a4d702",
   "metadata": {},
   "outputs": [],
   "source": [
    " You can use the multiprocessing module in Python to create three separate processes, each of which waits\n",
    "    for a random number of seconds between one and five, prints the current time, and then exits. Here's\n",
    "    an example code snippet"
   ]
  },
  {
   "cell_type": "code",
   "execution_count": 11,
   "id": "152d4adc",
   "metadata": {},
   "outputs": [
    {
     "name": "stdout",
     "output_type": "stream",
     "text": [
      "All processes have completed.\n"
     ]
    }
   ],
   "source": [
    "import multiprocessing\n",
    "import time\n",
    "import random\n",
    "from datetime import datetime\n",
    "\n",
    "def print_current_time(process_name):\n",
    "    # Generate a random sleep time between 1 and 5 seconds\n",
    "    sleep_time = random.randint(1, 5)\n",
    "    \n",
    "    # Sleep for the randomly generated time\n",
    "    time.sleep(sleep_time)\n",
    "    \n",
    "    # Print the current time\n",
    "    current_time = datetime.now().strftime('%Y-%m-%d %H:%M:%S')\n",
    "    print(f\"{process_name} - Current Time: {current_time}\")\n",
    "\n",
    "if __name__ == \"__main__\":\n",
    "    # Create three separate processes\n",
    "    processes = []\n",
    "\n",
    "    for i in range(3):\n",
    "        process_name = f\"Process-{i + 1}\"\n",
    "        process = multiprocessing.Process(target=print_current_time, args=(process_name,))\n",
    "        processes.append(process)\n",
    "        process.start()\n",
    "\n",
    "    # Wait for all processes to finish\n",
    "    for process in processes:\n",
    "        process.join()\n",
    "\n",
    "    print(\"All processes have completed.\")\n"
   ]
  },
  {
   "cell_type": "code",
   "execution_count": null,
   "id": "514f4742",
   "metadata": {},
   "outputs": [],
   "source": [
    ". Defines a function print_current_time that generates a random sleep time, sleeps for that time, and then\n",
    "  prints the current time.\n",
    ". Creates three separate processes, each calling the print_current_time function with a unique process\n",
    "  name.\n",
    ". Starts all processes.\n",
    ". Waits for all processes to finish using the join method.\n",
    ". Prints a message indicating that all processes have completed."
   ]
  },
  {
   "cell_type": "code",
   "execution_count": null,
   "id": "4835b21d",
   "metadata": {},
   "outputs": [],
   "source": [
    "7. Create a date object of your day of birth."
   ]
  },
  {
   "cell_type": "code",
   "execution_count": 13,
   "id": "c5df69a1",
   "metadata": {},
   "outputs": [
    {
     "name": "stdout",
     "output_type": "stream",
     "text": [
      "Date of Birth: 2002-05-03\n"
     ]
    }
   ],
   "source": [
    "from datetime import datetime\n",
    "\n",
    "# Replace these values with your actual day of birth\n",
    "birth_year = 2002\n",
    "birth_month = 5\n",
    "birth_day = 3\n",
    "\n",
    "# Create a date object for your day of birth\n",
    "dob = datetime(birth_year, birth_month, birth_day).date()\n",
    "\n",
    "print(\"Date of Birth:\", dob)\n"
   ]
  },
  {
   "cell_type": "code",
   "execution_count": null,
   "id": "978ffb43",
   "metadata": {},
   "outputs": [],
   "source": [
    "8. What day of the week was your day of birth?"
   ]
  },
  {
   "cell_type": "code",
   "execution_count": 15,
   "id": "6fe6231d",
   "metadata": {},
   "outputs": [
    {
     "name": "stdout",
     "output_type": "stream",
     "text": [
      "Day of the Week of Birth: Friday\n"
     ]
    }
   ],
   "source": [
    "from datetime import datetime\n",
    "\n",
    "# Replace these values with your actual day of birth\n",
    "birth_year = 2002\n",
    "birth_month = 5\n",
    "birth_day = 3\n",
    "\n",
    "# Create a datetime object for your day of birth\n",
    "dob_datetime = datetime(birth_year, birth_month, birth_day)\n",
    "\n",
    "# Get the day of the week as a string\n",
    "day_of_week = dob_datetime.strftime('%A')\n",
    "\n",
    "print(\"Day of the Week of Birth:\", day_of_week)\n"
   ]
  },
  {
   "cell_type": "code",
   "execution_count": null,
   "id": "6e8d12e5",
   "metadata": {},
   "outputs": [],
   "source": [
    "9. When will you be (or when were you) 10000 days old?"
   ]
  },
  {
   "cell_type": "code",
   "execution_count": 16,
   "id": "1ebcd39c",
   "metadata": {},
   "outputs": [
    {
     "name": "stdout",
     "output_type": "stream",
     "text": [
      "When you will be (or were) 10,000 days old: 2029-09-18\n"
     ]
    }
   ],
   "source": [
    "from datetime import datetime, timedelta\n",
    "\n",
    "# Replace these values with your actual day of birth\n",
    "birth_year = 2002\n",
    "birth_month = 5\n",
    "birth_day = 3\n",
    "\n",
    "# Replace this value with the number of days (10,000 in this case)\n",
    "days_to_add = 10000\n",
    "\n",
    "# Create a datetime object for your day of birth\n",
    "dob_datetime = datetime(birth_year, birth_month, birth_day)\n",
    "\n",
    "# Calculate the date when you will be (or were) 10,000 days old\n",
    "target_date = dob_datetime + timedelta(days=days_to_add)\n",
    "\n",
    "print(f\"When you will be (or were) 10,000 days old:\", target_date.date())\n"
   ]
  },
  {
   "cell_type": "code",
   "execution_count": null,
   "id": "bb67f09a",
   "metadata": {},
   "outputs": [],
   "source": [
    "Replace the values of birth_year, birth_month, and birth_day with your actual date of birth, and set\n",
    "days_to_add to 10000 or any other desired number of days.\n",
    "\n",
    "This code snippet does the following:\n",
    "\n",
    ". Creates a datetime object for the specified year, month, and day of birth.\n",
    ". Calculates the target date by adding a timedelta of 10000 days to the birth date.\n",
    ". Prints the date when you will be (or were) 10000 days old."
   ]
  },
  {
   "cell_type": "code",
   "execution_count": null,
   "id": "5b03a812",
   "metadata": {},
   "outputs": [],
   "source": []
  }
 ],
 "metadata": {
  "kernelspec": {
   "display_name": "Python 3 (ipykernel)",
   "language": "python",
   "name": "python3"
  },
  "language_info": {
   "codemirror_mode": {
    "name": "ipython",
    "version": 3
   },
   "file_extension": ".py",
   "mimetype": "text/x-python",
   "name": "python",
   "nbconvert_exporter": "python",
   "pygments_lexer": "ipython3",
   "version": "3.11.1"
  }
 },
 "nbformat": 4,
 "nbformat_minor": 5
}
