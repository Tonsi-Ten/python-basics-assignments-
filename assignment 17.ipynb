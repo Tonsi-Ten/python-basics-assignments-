{
 "cells": [
  {
   "cell_type": "code",
   "execution_count": null,
   "id": "a0700a36",
   "metadata": {},
   "outputs": [],
   "source": [
    "1. Assign the value 7 to the variable guess_me. Then, write the conditional tests (if, else, and elif) to\n",
    "print the string 'too low' if guess_me is less than 7,'too high' if greater than 7, and 'just right' if equal\n",
    "to 7."
   ]
  },
  {
   "cell_type": "code",
   "execution_count": 3,
   "id": "aa77070f",
   "metadata": {},
   "outputs": [
    {
     "name": "stdout",
     "output_type": "stream",
     "text": [
      "enter the number12\n",
      "too high\n"
     ]
    }
   ],
   "source": [
    "guess_me = int(input(\"enter the number\"))\n",
    "\n",
    "if guess_me < 7:\n",
    "    print('too low')\n",
    "elif guess_me > 7:\n",
    "    print('too high')\n",
    "else:\n",
    "    print('just right')\n"
   ]
  },
  {
   "cell_type": "code",
   "execution_count": null,
   "id": "b3ff0a30",
   "metadata": {},
   "outputs": [],
   "source": [
    "2. Assign the value 7 to the variable guess_me and the value 1 to the variable start. Write a while\n",
    "loop that compares start with guess_me. Print too low if start is less than guess me. If start equals\n",
    "guess_me, 'print found it' and exit the loop. If start is greater than guess_me, print 'oops' and exit\n",
    "the loop. Increment start at the end of the loop."
   ]
  },
  {
   "cell_type": "code",
   "execution_count": 24,
   "id": "2a415bec",
   "metadata": {},
   "outputs": [
    {
     "name": "stdout",
     "output_type": "stream",
     "text": [
      "too low\n",
      "too low\n",
      "too low\n",
      "too low\n",
      "too low\n",
      "too low\n",
      "found it!\n"
     ]
    }
   ],
   "source": [
    "guess_me = 7\n",
    "start = 1\n",
    "\n",
    "while start <= guess_me:\n",
    "    if start < guess_me:\n",
    "        print('too low')\n",
    "    elif start == guess_me:\n",
    "        print('found it!')\n",
    "        break  # Exit the loop when the value is found\n",
    "    else:\n",
    "        print('oops')\n",
    "        break  # Exit the loop if start is greater than guess_me\n",
    "    start += 1  # Increment start at the end of each iteration"
   ]
  },
  {
   "cell_type": "code",
   "execution_count": null,
   "id": "c34b8bac",
   "metadata": {},
   "outputs": [],
   "source": [
    "3. Print the following values of the list [3, 2, 1, 0] using a for loop."
   ]
  },
  {
   "cell_type": "code",
   "execution_count": 25,
   "id": "8f867f4c",
   "metadata": {},
   "outputs": [
    {
     "name": "stdout",
     "output_type": "stream",
     "text": [
      "3\n",
      "2\n",
      "1\n",
      "0\n"
     ]
    }
   ],
   "source": [
    "list1 = [3, 2, 1, 0]\n",
    "\n",
    "for value in list1:\n",
    "    print(value)\n"
   ]
  },
  {
   "cell_type": "code",
   "execution_count": null,
   "id": "a9c4414c",
   "metadata": {},
   "outputs": [],
   "source": [
    "4. Use a list comprehension to make a list of the even numbers in range(10)"
   ]
  },
  {
   "cell_type": "code",
   "execution_count": null,
   "id": "441b5b5e",
   "metadata": {},
   "outputs": [],
   "source": [
    "You can use a list comprehension to create a list of even numbers in the range from 0 to 9 (which is \n",
    "equivalent to range(10)). Here's how you can do it:"
   ]
  },
  {
   "cell_type": "code",
   "execution_count": 68,
   "id": "ca2fed21",
   "metadata": {},
   "outputs": [
    {
     "name": "stdout",
     "output_type": "stream",
     "text": [
      "[0, 2, 4, 6, 8]\n"
     ]
    }
   ],
   "source": [
    "even_numbers = [x for x in range(10) if x % 2 == 0]\n",
    "print(even_numbers)"
   ]
  },
  {
   "cell_type": "code",
   "execution_count": null,
   "id": "8c9338b1",
   "metadata": {},
   "outputs": [],
   "source": [
    "This list comprehension generates a list of even numbers by iterating through the numbers in the range \n",
    "and only including those where the remainder (%) when divided by 2 is equal to 0. The result will be a \n",
    "list containing even numbers from 0 to 8:"
   ]
  },
  {
   "cell_type": "code",
   "execution_count": null,
   "id": "141b2a64",
   "metadata": {},
   "outputs": [],
   "source": [
    "5. Use a dictionary comprehension to create the dictionary squares. Use range(10) to return the\n",
    "keys, and use the square of each key as its value."
   ]
  },
  {
   "cell_type": "code",
   "execution_count": null,
   "id": "30291580",
   "metadata": {},
   "outputs": [],
   "source": [
    "You can create a dictionary called squares using a dictionary comprehension to have the keys as numbers\n",
    "from range(10) and their corresponding values as the squares of those numbers. Here's how to do it:"
   ]
  },
  {
   "cell_type": "code",
   "execution_count": 70,
   "id": "647969f5",
   "metadata": {},
   "outputs": [
    {
     "name": "stdout",
     "output_type": "stream",
     "text": [
      "{0: 0, 1: 1, 2: 4, 3: 9, 4: 16, 5: 25, 6: 36, 7: 49, 8: 64, 9: 81}\n"
     ]
    }
   ],
   "source": [
    "squares = {x: x ** 2 for x in range(10)}\n",
    "print(squares)"
   ]
  },
  {
   "cell_type": "code",
   "execution_count": null,
   "id": "0ab75ef1",
   "metadata": {},
   "outputs": [],
   "source": [
    "This dictionary comprehension generates a dictionary where each key is a number from 0 to 9 \n",
    "(as provided by range(10)) and the corresponding value is the square of that number. The resulting \n",
    "squares dictionary will look like this:"
   ]
  },
  {
   "cell_type": "code",
   "execution_count": null,
   "id": "ed805060",
   "metadata": {},
   "outputs": [],
   "source": [
    "6. Construct the set odd from the odd numbers in the range using a set comprehension (10)."
   ]
  },
  {
   "cell_type": "code",
   "execution_count": null,
   "id": "a838eebd",
   "metadata": {},
   "outputs": [],
   "source": [
    "You can construct a set of odd numbers in a specified range using a set comprehension in Python. Here's\n",
    "an example of how to create a set of odd numbers in the range from 1 to 10"
   ]
  },
  {
   "cell_type": "code",
   "execution_count": 1,
   "id": "0529bed5",
   "metadata": {},
   "outputs": [
    {
     "name": "stdout",
     "output_type": "stream",
     "text": [
      "{1, 3, 5, 7, 9}\n"
     ]
    }
   ],
   "source": [
    "odd_numbers = {x for x in range(1, 11) if x % 2 != 0}\n",
    "print(odd_numbers)\n"
   ]
  },
  {
   "cell_type": "code",
   "execution_count": null,
   "id": "961a817b",
   "metadata": {},
   "outputs": [],
   "source": [
    "This code will create a set odd_numbers containing the odd numbers from 1 to 10. When you print\n",
    "odd_numbers, it will display: {1, 3, 5, 7, 9}"
   ]
  },
  {
   "cell_type": "code",
   "execution_count": null,
   "id": "ea352a2b",
   "metadata": {},
   "outputs": [],
   "source": [
    "7. Use a generator comprehension to return the string 'Got' and a number for the numbers in\n",
    "range(10). Iterate through this by using a for loop."
   ]
  },
  {
   "cell_type": "code",
   "execution_count": null,
   "id": "beb6d631",
   "metadata": {},
   "outputs": [],
   "source": [
    "You can use a generator comprehension to generate the string 'Got ' followed by numbers from the \n",
    "range(10) and then iterate through it using a for loop. Here's an example in Python:"
   ]
  },
  {
   "cell_type": "code",
   "execution_count": 2,
   "id": "3d06a403",
   "metadata": {},
   "outputs": [
    {
     "name": "stdout",
     "output_type": "stream",
     "text": [
      "Got 0\n",
      "Got 1\n",
      "Got 2\n",
      "Got 3\n",
      "Got 4\n",
      "Got 5\n",
      "Got 6\n",
      "Got 7\n",
      "Got 8\n",
      "Got 9\n"
     ]
    }
   ],
   "source": [
    "generator = ('Got ' + str(num) for num in range(10))\n",
    "\n",
    "for item in generator:\n",
    "    print(item)"
   ]
  },
  {
   "cell_type": "code",
   "execution_count": null,
   "id": "f0102b3c",
   "metadata": {},
   "outputs": [],
   "source": [
    "8. Define a function called good that returns the list ['Harry', 'Ron', 'Hermione']."
   ]
  },
  {
   "cell_type": "code",
   "execution_count": 3,
   "id": "17b971a0",
   "metadata": {},
   "outputs": [
    {
     "name": "stdout",
     "output_type": "stream",
     "text": [
      "['Harry', 'Ron', 'Hermione']\n"
     ]
    }
   ],
   "source": [
    "def good():\n",
    "    return ['Harry', 'Ron', 'Hermione']\n",
    "\n",
    "# Call the function to get the list\n",
    "characters = good()\n",
    "print(characters) "
   ]
  },
  {
   "cell_type": "code",
   "execution_count": null,
   "id": "8d38f31e",
   "metadata": {},
   "outputs": [],
   "source": [
    "9. Define a generator function called get_odds that returns the odd numbers from range(10). Use a\n",
    "for loop to find and print the third value returned."
   ]
  },
  {
   "cell_type": "code",
   "execution_count": null,
   "id": "0be99b73",
   "metadata": {},
   "outputs": [],
   "source": [
    "You can define a generator function called get_odds that returns the odd numbers from range(10) and\n",
    "then use a for loop to find and print the third value returned. Here's how you can do it"
   ]
  },
  {
   "cell_type": "code",
   "execution_count": 4,
   "id": "f167811e",
   "metadata": {},
   "outputs": [
    {
     "name": "stdout",
     "output_type": "stream",
     "text": [
      "The third odd number is: 5\n"
     ]
    }
   ],
   "source": [
    "def get_odds():\n",
    "    for num in range(10):\n",
    "        if num % 2 != 0:\n",
    "            yield num\n",
    "\n",
    "# Use a for loop to find and print the third value returned\n",
    "count = 0\n",
    "for odd_number in get_odds():\n",
    "    count += 1\n",
    "    if count == 3:\n",
    "        print(\"The third odd number is:\", odd_number)\n",
    "        break\n"
   ]
  },
  {
   "cell_type": "code",
   "execution_count": null,
   "id": "beb2bd33",
   "metadata": {},
   "outputs": [],
   "source": [
    "10. Define an exception called OopsException. Raise this exception to see what happens. Then write\n",
    "the code to catch this exception and print 'Caught an oops'."
   ]
  },
  {
   "cell_type": "code",
   "execution_count": null,
   "id": "5c77fbd0",
   "metadata": {},
   "outputs": [],
   "source": [
    "You can define an exception called OopsException by creating a custom exception class in Python. You\n",
    "can then raise this exception to see what happens and write code to catch and handle it. Here's how you\n",
    "can do it:"
   ]
  },
  {
   "cell_type": "code",
   "execution_count": 1,
   "id": "43904627",
   "metadata": {},
   "outputs": [
    {
     "name": "stdout",
     "output_type": "stream",
     "text": [
      "Caught an oops: Something went wrong\n"
     ]
    }
   ],
   "source": [
    "# Define the custom OopsException class\n",
    "class OopsException(Exception):\n",
    "    pass\n",
    "\n",
    "try:\n",
    "    # Raise the OopsException\n",
    "    raise OopsException(\"Something went wrong\")\n",
    "except OopsException as e:\n",
    "    # Catch the OopsException and print a message\n",
    "    print(\"Caught an oops:\", e)\n"
   ]
  },
  {
   "cell_type": "code",
   "execution_count": null,
   "id": "bb514c60",
   "metadata": {},
   "outputs": [],
   "source": [
    "\n",
    "We define a custom exception class OopsException that inherits from the built-in Exception class.\n",
    "We use a try block to encapsulate the code that may raise the OopsException.\n",
    "Inside the try block, we raise the OopsException with an optional error message.\n",
    "In the except block, we catch the OopsException and handle it by printing the message \"Caught an oops\"\n",
    "along with the exception information.\n",
    "When you run this code, it will raise the OopsException and then catch it, resulting in the \"Caught an \n",
    "oops\" message being printed."
   ]
  }
 ],
 "metadata": {
  "kernelspec": {
   "display_name": "Python 3 (ipykernel)",
   "language": "python",
   "name": "python3"
  },
  "language_info": {
   "codemirror_mode": {
    "name": "ipython",
    "version": 3
   },
   "file_extension": ".py",
   "mimetype": "text/x-python",
   "name": "python",
   "nbconvert_exporter": "python",
   "pygments_lexer": "ipython3",
   "version": "3.11.1"
  }
 },
 "nbformat": 4,
 "nbformat_minor": 5
}
