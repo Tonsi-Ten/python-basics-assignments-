{
 "cells": [
  {
   "cell_type": "code",
   "execution_count": null,
   "id": "19263bd6",
   "metadata": {},
   "outputs": [],
   "source": [
    "1. What does RGBA stand for?"
   ]
  },
  {
   "cell_type": "code",
   "execution_count": null,
   "id": "ac9deef2",
   "metadata": {},
   "outputs": [],
   "source": [
    "In Python, RGBA typically stands for the color representation used in images and graphics. It follows \n",
    "the same principles as mentioned earlier:\n",
    "\n",
    "\"R\" stands for red, and its value can range from 0 to 255.\n",
    "\"G\" stands for green, and its value can also range from 0 to 255.\n",
    "\"B\" stands for blue, and, like the others, its value can range from 0 to 255.\n",
    "\"A\" stands for alpha, representing the transparency of the color, with values from 0 (completely\n",
    "transparent) to 255 (completely opaque).\n",
    "Python often uses RGBA color representation when working with images, graphics libraries like Pillow\n",
    "(PIL), or in other contexts where specifying color with transparency is important."
   ]
  },
  {
   "cell_type": "code",
   "execution_count": null,
   "id": "6fd9b038",
   "metadata": {},
   "outputs": [],
   "source": [
    "2. From the Pillow module, how do you get the RGBA value of any images?"
   ]
  },
  {
   "cell_type": "code",
   "execution_count": null,
   "id": "c3a03c31",
   "metadata": {},
   "outputs": [],
   "source": [
    "To get the RGBA value of pixels in an image using the Pillow module (PIL), you can use the getdata()\n",
    "method followed by a loop to iterate through the pixels. Here's an example of how to do this:"
   ]
  },
  {
   "cell_type": "code",
   "execution_count": null,
   "id": "1a8a24b8",
   "metadata": {},
   "outputs": [],
   "source": [
    "from PIL import Image\n",
    "\n",
    "# Open an image\n",
    "image = Image.open(\"your_image.png\")\n",
    "\n",
    "# Get pixel data as a sequence of RGBA tuples\n",
    "pixel_data = list(image.getdata())\n",
    "\n",
    "# Iterate through the pixels and print RGBA values\n",
    "for pixel in pixel_data:\n",
    "    r, g, b, a = pixel\n",
    "    print(f\"RGBA: ({r}, {g}, {b}, {a})\")\n"
   ]
  },
  {
   "cell_type": "code",
   "execution_count": null,
   "id": "4a60fbd2",
   "metadata": {},
   "outputs": [],
   "source": [
    "You first open an image using Image.open(\"your_image.png\"), where \"your_image.png\" is the path to your\n",
    "image file.\n",
    "Then, you use image.getdata() to retrieve the pixel data as a sequence of RGBA tuples.\n",
    "You iterate through the pixel_data list, and for each pixel, you extract the individual RGBA values.\n",
    "\n",
    "This code will print the RGBA values for each pixel in the image. You can replace \"your_image.png\" with \n",
    "the path to your own image file."
   ]
  },
  {
   "cell_type": "code",
   "execution_count": null,
   "id": "d30f7654",
   "metadata": {},
   "outputs": [],
   "source": [
    "3. What is a box tuple, and how does it work?"
   ]
  },
  {
   "cell_type": "code",
   "execution_count": null,
   "id": "459dee9e",
   "metadata": {},
   "outputs": [],
   "source": [
    "A \"box tuple\" is a term commonly used in the context of the Python Imaging Library (PIL) or its successor,\n",
    "the Pillow library, to represent a bounding box or a rectangular region within an image. It's essentially \n",
    "a tuple that contains four values, typically representing the coordinates of a rectangle in the form of\n",
    "(left, upper, right, lower).\n",
    "\n",
    "Here's what each component of the box tuple represents:\n",
    "\n",
    "1. left: The x-coordinate of the left edge of the rectangle.\n",
    "2. upper: The y-coordinate of the upper edge of the rectangle.\n",
    "3. right: The x-coordinate of the right edge of the rectangle.\n",
    "4. lower: The y-coordinate of the lower edge of the rectangle.\n",
    "    \n",
    "The box tuple defines a rectangular region by specifying the coordinates of its top-left corner (left,\n",
    "upper) and its bottom-right corner (right, lower). You can use this tuple to crop, copy, or perform\n",
    "various operations on a specific region within an image.\n",
    "\n",
    "Here's an example of how you might use a box tuple to crop a region from an image using the Pillow\n",
    "library"
   ]
  },
  {
   "cell_type": "code",
   "execution_count": null,
   "id": "23280f15",
   "metadata": {},
   "outputs": [],
   "source": [
    "from PIL import Image\n",
    "\n",
    "# Open an image\n",
    "image = Image.open(\"your_image.png\")\n",
    "\n",
    "# Define a box tuple for cropping (left, upper, right, lower)\n",
    "box = (100, 100, 300, 300)\n",
    "\n",
    "# Crop the image to the specified region\n",
    "cropped_image = image.crop(box)\n",
    "\n",
    "# Save or display the cropped image\n",
    "cropped_image.save(\"cropped_image.png\")\n"
   ]
  },
  {
   "cell_type": "code",
   "execution_count": null,
   "id": "9f353403",
   "metadata": {},
   "outputs": [],
   "source": [
    "In this example, the box tuple (100, 100, 300, 300) specifies a rectangular region to be cropped from \n",
    "the image, starting at coordinates (100, 100) and ending at coordinates (300, 300). You can adjust the\n",
    "values in the box tuple to select different regions of the image for cropping or other operations."
   ]
  },
  {
   "cell_type": "code",
   "execution_count": null,
   "id": "38e4739f",
   "metadata": {},
   "outputs": [],
   "source": [
    "4. Use your image and load in notebook then, How can you find out the width and height of an\n",
    "Image object?"
   ]
  },
  {
   "cell_type": "code",
   "execution_count": null,
   "id": "9677392d",
   "metadata": {},
   "outputs": [],
   "source": [
    "I can't directly load and manipulate images in a notebook, but I can guide you on how to find out the\n",
    "width and height of an image using Python and the Pillow library in a Jupyter Notebook.\n",
    "\n",
    "First, make sure you have the Pillow library installed. You can install it using pip if you haven't\n",
    "already:"
   ]
  },
  {
   "cell_type": "code",
   "execution_count": null,
   "id": "4936bb3d",
   "metadata": {},
   "outputs": [],
   "source": [
    "pip install Pillow"
   ]
  },
  {
   "cell_type": "code",
   "execution_count": null,
   "id": "d3f38b56",
   "metadata": {},
   "outputs": [],
   "source": [
    "Then, you can use the following code in a Jupyter Notebook to load an image and find out its width and\n",
    "height:"
   ]
  },
  {
   "cell_type": "code",
   "execution_count": null,
   "id": "f0ed1b06",
   "metadata": {},
   "outputs": [],
   "source": [
    "from PIL import Image\n",
    "\n",
    "# Open an image\n",
    "image = Image.open(\"your_image.png\")  # Replace \"your_image.png\" with the path to your image file\n",
    "\n",
    "# Get the width and height of the image\n",
    "width, height = image.size\n",
    "\n",
    "# Print the width and height\n",
    "print(f\"Width: {width}px\")\n",
    "print(f\"Height: {height}px\")\n"
   ]
  },
  {
   "cell_type": "code",
   "execution_count": null,
   "id": "6d5227c5",
   "metadata": {},
   "outputs": [],
   "source": [
    "Replace \"your_image.png\" with the path to the image you want to analyze. When you run this code in a \n",
    "Jupyter Notebook, it will open the image, retrieve its width and height using the size attribute, and \n",
    "then print these values."
   ]
  },
  {
   "cell_type": "code",
   "execution_count": null,
   "id": "ef104ddd",
   "metadata": {},
   "outputs": [],
   "source": [
    "5. What method would you call to get Image object for a 100×100 image, excluding the lower-left\n",
    "quarter of it?"
   ]
  },
  {
   "cell_type": "code",
   "execution_count": null,
   "id": "fc11e547",
   "metadata": {},
   "outputs": [],
   "source": [
    "\n",
    "To get an Image object for a 100x100 image, excluding the lower-left quarter of it, you can use the\n",
    "Pillow library in Python. You can achieve this by cropping the original image to the desired region.\n",
    "Here's how you can do it:"
   ]
  },
  {
   "cell_type": "code",
   "execution_count": null,
   "id": "f884d07a",
   "metadata": {},
   "outputs": [],
   "source": [
    "from PIL import Image\n",
    "\n",
    "# Open the original image\n",
    "original_image = Image.open(\"your_image.png\")  # Replace \"your_image.png\" with the path to your image file\n",
    "\n",
    "# Define the box tuple to exclude the lower-left quarter\n",
    "# The box is defined as (left, upper, right, lower)\n",
    "box = (0, 0, 50, 50)  # Excludes the lower-left quarter\n",
    "\n",
    "# Crop the image to the specified region\n",
    "cropped_image = original_image.crop(box)\n",
    "\n",
    "# Save or display the cropped image\n",
    "cropped_image.save(\"cropped_image.png\")  # Save the cropped image to a file\n"
   ]
  },
  {
   "cell_type": "code",
   "execution_count": null,
   "id": "625420f1",
   "metadata": {},
   "outputs": [],
   "source": [
    "In this code:\n",
    "\n",
    "1. Open the original image using Image.open().\n",
    "2. Define a box tuple (0, 0, 50, 50) to exclude the lower-left quarter. This box specifies that you\n",
    "3. want to keep the region from the top-left corner (0, 0) to a point (50, 50) which creates a 100x100\n",
    "   pixel square.\n",
    "4. Use the crop() method to crop the original image based on the box.\n",
    "5. You can then save or display the cropped image as needed."
   ]
  },
  {
   "cell_type": "code",
   "execution_count": null,
   "id": "649484c7",
   "metadata": {},
   "outputs": [],
   "source": [
    "6. After making changes to an Image object, how could you save it as an image file?"
   ]
  },
  {
   "cell_type": "code",
   "execution_count": null,
   "id": "6b2bd91e",
   "metadata": {},
   "outputs": [],
   "source": [
    "\n",
    "After making changes to an Image object using the Pillow library in Python, you can save it as an image\n",
    "file using the save() method. Here's how you can do it:"
   ]
  },
  {
   "cell_type": "code",
   "execution_count": null,
   "id": "2d04d331",
   "metadata": {},
   "outputs": [],
   "source": [
    "from PIL import Image\n",
    "\n",
    "# Open the image you want to modify\n",
    "image = Image.open(\"your_image.png\")  # Replace \"your_image.png\" with the path to your image file\n",
    "\n",
    "# Perform your modifications here, if any\n",
    "# For example: image = image.rotate(90)  # Rotate the image by 90 degrees\n",
    "\n",
    "# Save the modified image as a new file\n",
    "image.save(\"modified_image.png\")  # Replace \"modified_image.png\" with the desired file name and format\n"
   ]
  },
  {
   "cell_type": "code",
   "execution_count": null,
   "id": "0461612c",
   "metadata": {},
   "outputs": [],
   "source": [
    "In this code:\n",
    "\n",
    "1. You open the image you want to modify using Image.open(), replacing \"your_image.png\" with the path to\n",
    "   your image file.\n",
    "\n",
    "2. Perform any modifications you want on the image object. In the example, there is a comment showing how\n",
    "   to rotate the image by 90 degrees, but you can apply any Pillow operations you need.\n",
    "\n",
    "3. Finally, use the save() method to save the modified image as a new file. Replace \"modified_image.png\"\n",
    "   with the desired file name and format (e.g., \"output.jpg\" for a JPEG image). Pillow will automatically\n",
    "   detect the file format based on the file extension you provide."
   ]
  },
  {
   "cell_type": "code",
   "execution_count": null,
   "id": "ef7138d8",
   "metadata": {},
   "outputs": [],
   "source": [
    "7. What module contains Pillow’s shape-drawing code?"
   ]
  },
  {
   "cell_type": "code",
   "execution_count": null,
   "id": "3b697e8a",
   "metadata": {},
   "outputs": [],
   "source": [
    "\n",
    "Pillow's shape-drawing code is contained within the Pillow.ImageDraw module. This module provides\n",
    "functionality to draw various shapes such as lines, rectangles, ellipses, and polygons on an Image\n",
    "object. You can use the methods and functions from Pillow.ImageDraw to annotate or manipulate images\n",
    "by adding shapes and text.\n",
    "\n",
    "Here's an example of how you can use Pillow.ImageDraw to draw a rectangle on an image:"
   ]
  },
  {
   "cell_type": "code",
   "execution_count": null,
   "id": "12e2b47b",
   "metadata": {},
   "outputs": [],
   "source": [
    "from PIL import Image, ImageDraw\n",
    "\n",
    "# Open an image\n",
    "image = Image.open(\"your_image.png\")\n",
    "\n",
    "# Create a drawing context\n",
    "draw = ImageDraw.Draw(image)\n",
    "\n",
    "# Define the coordinates for the rectangle (left, upper, right, lower)\n",
    "rectangle_coords = (50, 50, 150, 150)\n",
    "\n",
    "# Draw a rectangle on the image\n",
    "draw.rectangle(rectangle_coords, outline=\"red\", width=2)\n",
    "\n",
    "# Save or display the modified image\n",
    "image.save(\"image_with_rectangle.png\")\n"
   ]
  },
  {
   "cell_type": "code",
   "execution_count": null,
   "id": "0a95efce",
   "metadata": {},
   "outputs": [],
   "source": [
    "In this example, we import ImageDraw from Pillow and use it to draw a red rectangle on the image. You \n",
    "can similarly use ImageDraw to draw other shapes and text on your images as needed."
   ]
  },
  {
   "cell_type": "code",
   "execution_count": null,
   "id": "466833d0",
   "metadata": {},
   "outputs": [],
   "source": [
    "8. Image objects do not have drawing methods. What kind of object does? How do you get this kind\n",
    "of object?"
   ]
  },
  {
   "cell_type": "code",
   "execution_count": null,
   "id": "69cbf3f6",
   "metadata": {},
   "outputs": [],
   "source": [
    "\n",
    "My previous response contained an incorrect statement. Image objects in the Pillow library do indeed\n",
    "have drawing methods. You can use the drawing methods directly on an Image object to add shapes and\n",
    "annotations to the image. There is no need to obtain a separate object for drawing.\n",
    "\n",
    "Here's a corrected example of how to draw a rectangle on an Image object using Pillow:"
   ]
  },
  {
   "cell_type": "code",
   "execution_count": null,
   "id": "ec5a562d",
   "metadata": {},
   "outputs": [],
   "source": [
    "from PIL import Image, ImageDraw\n",
    "\n",
    "# Open an image\n",
    "image = Image.open(\"your_image.png\")\n",
    "\n",
    "# Create a drawing context\n",
    "draw = ImageDraw.Draw(image)\n",
    "\n",
    "# Define the coordinates for the rectangle (left, upper, right, lower)\n",
    "rectangle_coords = (50, 50, 150, 150)\n",
    "\n",
    "# Draw a rectangle on the image\n",
    "draw.rectangle(rectangle_coords, outline=\"red\", width=2)\n",
    "\n",
    "# Save or display the modified image\n",
    "image.save(\"image_with_rectangle.png\")\n"
   ]
  },
  {
   "cell_type": "code",
   "execution_count": null,
   "id": "019a06ce",
   "metadata": {},
   "outputs": [],
   "source": [
    "In this corrected code, we use the ImageDraw.Draw(image) method to create a drawing context that can be\n",
    "used to draw shapes and text directly on the Image object image. Then, we use the draw.rectangle() method\n",
    "to draw a red rectangle on the image. Pillow provides a variety of drawing methods for different shapes\n",
    "and annotations, and you can use them on the Image object itself."
   ]
  },
  {
   "cell_type": "code",
   "execution_count": null,
   "id": "d6aa4e40",
   "metadata": {},
   "outputs": [],
   "source": []
  }
 ],
 "metadata": {
  "kernelspec": {
   "display_name": "Python 3 (ipykernel)",
   "language": "python",
   "name": "python3"
  },
  "language_info": {
   "codemirror_mode": {
    "name": "ipython",
    "version": 3
   },
   "file_extension": ".py",
   "mimetype": "text/x-python",
   "name": "python",
   "nbconvert_exporter": "python",
   "pygments_lexer": "ipython3",
   "version": "3.11.1"
  }
 },
 "nbformat": 4,
 "nbformat_minor": 5
}
