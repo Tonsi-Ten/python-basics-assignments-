{
 "cells": [
  {
   "cell_type": "code",
   "execution_count": null,
   "id": "561adbee",
   "metadata": {},
   "outputs": [],
   "source": [
    "1. What is the relationship between def statements and lambda expressions ?"
   ]
  },
  {
   "cell_type": "code",
   "execution_count": null,
   "id": "00466f32",
   "metadata": {},
   "outputs": [],
   "source": [
    "In Python, both def statements and lambda expressions are used to define functions, but they have some\n",
    "key differences in terms of syntax and use cases.\n",
    "1. Syntax:\n",
    "The def statement is used for creating regular, named functions. It follows the syntax def\n",
    "function_name(parameters): and includes a block of code under the function definition.\n",
    "\n",
    "Example:"
   ]
  },
  {
   "cell_type": "code",
   "execution_count": null,
   "id": "087db4c5",
   "metadata": {},
   "outputs": [],
   "source": [
    "def square(x):\n",
    "    return x ** 2\n"
   ]
  },
  {
   "cell_type": "code",
   "execution_count": null,
   "id": "c4c6b3dd",
   "metadata": {},
   "outputs": [],
   "source": [
    "The lambda expression is used to create anonymous functions (functions without a name). It follows \n",
    "the syntax lambda parameters: expression and returns the result of the expression. Lambda functions\n",
    "are often used for short, simple operations.\n",
    "\n",
    "Example:"
   ]
  },
  {
   "cell_type": "code",
   "execution_count": null,
   "id": "d5887709",
   "metadata": {},
   "outputs": [],
   "source": [
    "square = lambda x: x ** 2"
   ]
  },
  {
   "cell_type": "code",
   "execution_count": null,
   "id": "36906e90",
   "metadata": {},
   "outputs": [],
   "source": [
    "2. Naming:\n",
    "\n",
    "Functions defined with def have a name associated with them, making them more suitable for complex and \n",
    "reusable code.\n",
    "Lambda functions are anonymous, meaning they are usually used for short-term, one-time operations.\n",
    "\n",
    "3. Use Cases:\n",
    ". Use def when you need to create a more complex function with multiple statements, additional logic, \n",
    "  or when you want to reuse the function in multiple places.\n",
    ". Use lambda when you need a quick function for a short operation, especially when passing a function as \n",
    "  an argument to higher-order functions like map, filter, or sorted.\n",
    "\n",
    "4. Return:\n",
    "Functions defined with def can include multiple statements and have an explicit return statement to \n",
    "specify the return value.\n",
    "Lambda functions implicitly return the result of a single expression."
   ]
  },
  {
   "cell_type": "code",
   "execution_count": 4,
   "id": "7cdd258f",
   "metadata": {},
   "outputs": [],
   "source": [
    "# Using def\n",
    "def add(x, y):\n",
    "    return x + y\n",
    "\n",
    "# Using lambda\n",
    "add_lambda = lambda x, y: x + y\n"
   ]
  },
  {
   "cell_type": "code",
   "execution_count": null,
   "id": "4d27a453",
   "metadata": {},
   "outputs": [],
   "source": [
    "2. What is the benefit of lambda?"
   ]
  },
  {
   "cell_type": "code",
   "execution_count": null,
   "id": "b9758262",
   "metadata": {},
   "outputs": [],
   "source": [
    "The primary benefits of using lambda expressions in Python are:\n",
    "\n",
    "1. Conciseness: Lambda expressions allow you to write short, one-line functions without the need for a \n",
    "    full def statement. This can make the code more concise and readable, especially when the function \n",
    "    is simple and used in a specific context.\n",
    "Example:\n",
    "\n",
    "\n",
    "# Using def\n",
    "def square(x):\n",
    "    return x ** 2\n",
    "\n",
    "# Using lambda\n",
    "square_lambda = lambda x: x ** 2\n",
    "\n",
    "\n",
    "2. Anonymous Functions: Lambda functions are anonymous, meaning they don't require a name. This is useful\n",
    "  when you need a small, throwaway function for a specific task and don't want to define a full function\n",
    "  using def.\n",
    "Example:\n",
    "\n",
    "\n",
    "# Using def\n",
    "def add(x, y):\n",
    "    return x + y\n",
    "\n",
    "# Using lambda\n",
    "add_lambda = lambda x, y: x + y\n",
    "\n",
    "\n",
    "3. Functional Programming: Lambda expressions are often used in functional programming constructs such\n",
    "   as map, filter, and sorted. They provide a concise way to define simple functions on the fly.\n",
    "   Example:\n",
    "\n",
    "\n",
    "numbers = [1, 2, 3, 4, 5]\n",
    "\n",
    "# Using lambda with map\n",
    "squared_numbers = list(map(lambda x: x ** 2, numbers))\n",
    "\n",
    "# Using lambda with filter\n",
    "even_numbers = list(filter(lambda x: x % 2 == 0, numbers))\n",
    "\n",
    "\n",
    "4. Readability in Higher-Order Functions: When using higher-order functions that accept functions as \n",
    "    arguments, such as map or sorted, a lambda expression can be more readable than defining a separate \n",
    "    function using def.\n",
    "Example:\n",
    "\n",
    "\n",
    "words = ['apple', 'banana', 'cherry']\n",
    "\n",
    "# Using lambda with sorted\n",
    "sorted_words = sorted(words, key=lambda x: len(x))\n",
    "While lambda expressions are powerful and convenient in certain situations, it's important to note that\n",
    "they are limited to single expressions and don't support multiple statements or complex logic. In such\n",
    "cases, a named function defined with def is more appropriate."
   ]
  },
  {
   "cell_type": "code",
   "execution_count": null,
   "id": "acec5047",
   "metadata": {},
   "outputs": [],
   "source": [
    "3. Compare and contrast map, filter, and reduce."
   ]
  },
  {
   "cell_type": "code",
   "execution_count": null,
   "id": "7cc9329d",
   "metadata": {},
   "outputs": [],
   "source": [
    "map, filter, and reduce are higher-order functions in Python that operate on sequences (like lists, \n",
    "tuples, etc.) and apply a given function to each element of the sequence. Each of these functions serves \n",
    "a different purpose:\n",
    "\n",
    "1. map Function:\n",
    ". Purpose: Applies a given function to all items in an input sequence (or sequences) and returns an\n",
    "  iterable of the results.\n",
    ". Syntax: map(function, iterable, ...)\n",
    ". Example:\n",
    "\n",
    "numbers = [1, 2, 3, 4]\n",
    "squared_numbers = map(lambda x: x ** 2, numbers)\n",
    "# Output: [1, 4, 9, 16]\n",
    "\n",
    "\n",
    "2.filter Function:\n",
    "Purpose: Filters elements from an iterable based on a given function (predicate) and returns an iterable\n",
    "of the elements that satisfy the condition.\n",
    "Syntax: filter(function, iterable)\n",
    "Example:\n",
    "\n",
    "numbers = [1, 2, 3, 4, 5, 6]\n",
    "even_numbers = filter(lambda x: x % 2 == 0, numbers)\n",
    "# Output: [2, 4, 6]\n",
    "\n",
    "\n",
    "3. reduce Function:\n",
    "Purpose: Applies a rolling computation to sequential pairs of values in an iterable, reducing the sequence\n",
    "to a single accumulated result.\n",
    "Syntax: functools.reduce(function, iterable[, initializer])\n",
    "Example:\n",
    "\n",
    "from functools import reduce\n",
    "numbers = [1, 2, 3, 4]\n",
    "product = reduce(lambda x, y: x * y, numbers)\n",
    "# Output: 24 (1 * 2 * 3 * 4)\n",
    "\n",
    "\n",
    "Comparison:\n",
    "\n",
    "Input: map and filter take an iterable as input, while reduce takes an iterable and an optional initializer.\n",
    "Output: map produces an iterable of the same length as the input, filter produces an iterable with fewer\n",
    "or equal elements than the input, and reduce produces a single accumulated result.\n",
    "Function: All three functions take a function as their first argument, but the nature of the function\n",
    "differs:\n",
    "map: Applies the function to each element independently.\n",
    "filter: Applies the function as a predicate to filter elements based on a condition.\n",
    "reduce: Applies the function cumulatively to the elements, reducing the sequence to a single result.\n",
    "Complexity: map and filter are simpler and more direct, while reduce involves a rolling computation and\n",
    "can be more complex.\n",
    "In summary, map, filter, and reduce are versatile tools for processing and transforming data in Python, \n",
    "each serving a distinct purpose. map is for element-wise transformations, filter is for element-wise\n",
    "filtering, and reduce is for cumulative computations"
   ]
  },
  {
   "cell_type": "code",
   "execution_count": null,
   "id": "778d1dd3",
   "metadata": {},
   "outputs": [],
   "source": [
    "4. What are function annotations, and how are they used?"
   ]
  },
  {
   "cell_type": "code",
   "execution_count": null,
   "id": "bc17506c",
   "metadata": {},
   "outputs": [],
   "source": [
    "\n",
    "Function annotations in Python are a way to attach metadata, specifically information about the types\n",
    "of function parameters and the return type, to the function's parameters and return value. Function\n",
    "annotations are optional and do not affect the runtime behavior of the function. They are primarily \n",
    "used for documentation purposes, providing additional information about the expected types.\n",
    "\n",
    "The syntax for function annotations involves using colons and arrows (->). Annotations can be added to\n",
    "parameters and the return value. Here's a simple example"
   ]
  },
  {
   "cell_type": "code",
   "execution_count": 5,
   "id": "61239a25",
   "metadata": {},
   "outputs": [],
   "source": [
    "def add(x: int, y: int) -> int:\n",
    "    return x + y"
   ]
  },
  {
   "cell_type": "code",
   "execution_count": null,
   "id": "306a1ceb",
   "metadata": {},
   "outputs": [],
   "source": [
    "In this example:\n",
    "\n",
    "x: int and y: int are annotations specifying that x and y should be of type int.\n",
    "-> int specifies that the function is expected to return an int.\n",
    "Function annotations can be used with various types, including built-in types, custom classes, or even\n",
    "module types. It's important to note that these annotations are not enforced by the interpreter and do\n",
    "not result in type checking or runtime validation. They are primarily intended as a form of documentation\n",
    "to help developers understand the expected types.\n",
    "\n",
    "Here's another example with different types and a more complex return type:"
   ]
  },
  {
   "cell_type": "code",
   "execution_count": null,
   "id": "f3dbdf46",
   "metadata": {},
   "outputs": [],
   "source": [
    "from typing import List, Tuple\n",
    "\n",
    "def process_data(data: List[int]) -> Tuple[int, List[int]]:\n",
    "    sum_data = sum(data)\n",
    "    squared_data = [x ** 2 for x in data]\n",
    "    return sum_data, squared_data"
   ]
  },
  {
   "cell_type": "code",
   "execution_count": null,
   "id": "65d95c3d",
   "metadata": {},
   "outputs": [],
   "source": [
    "In this example:\n",
    "\n",
    "data: List[int] indicates that data should be a list of integers.\n",
    "-> Tuple[int, List[int]] indicates that the function is expected to return a tuple where the first\n",
    "element is an integer and the second element is a list of integers.\n",
    "To access function annotations, you can use the __annotations__ attribute of the function. For example:"
   ]
  },
  {
   "cell_type": "code",
   "execution_count": null,
   "id": "a6b9086e",
   "metadata": {},
   "outputs": [],
   "source": [
    "print(add.__annotations__)\n",
    "# Output: {'x': <class 'int'>, 'y': <class 'int'>, 'return': <class 'int'>}"
   ]
  },
  {
   "cell_type": "code",
   "execution_count": null,
   "id": "4792e296",
   "metadata": {},
   "outputs": [],
   "source": [
    "Function annotations are a helpful tool for conveying information about the expected types of function\n",
    "parameters and return values, enhancing the readability and clarity of code, especially in the context\n",
    "of larger projects or team collaborations."
   ]
  },
  {
   "cell_type": "code",
   "execution_count": null,
   "id": "a6550915",
   "metadata": {},
   "outputs": [],
   "source": [
    "5. What are recursive functions, and how are they used?"
   ]
  },
  {
   "cell_type": "code",
   "execution_count": null,
   "id": "bffbe98f",
   "metadata": {},
   "outputs": [],
   "source": [
    "\n",
    "A recursive function is a function that calls itself during its execution. Recursive functions are \n",
    "often used to solve problems that can be broken down into smaller, similar subproblems. In a recursive \n",
    "solution, the function calls itself with modified arguments, gradually approaching a base case where \n",
    "the function does not make a recursive call. Recursive functions are characterized by the presence of \n",
    "a base case and a recursive case."
   ]
  },
  {
   "cell_type": "code",
   "execution_count": 6,
   "id": "a130e054",
   "metadata": {},
   "outputs": [
    {
     "name": "stdout",
     "output_type": "stream",
     "text": [
      "120\n"
     ]
    }
   ],
   "source": [
    "def factorial(n):\n",
    "    # Base case: factorial of 0 or 1 is 1\n",
    "    if n == 0 or n == 1:\n",
    "        return 1\n",
    "    # Recursive case: n! = n * (n-1)!\n",
    "    else:\n",
    "        return n * factorial(n - 1)\n",
    "\n",
    "# Example usage\n",
    "result = factorial(5)\n",
    "print(result)  "
   ]
  },
  {
   "cell_type": "code",
   "execution_count": null,
   "id": "089070bf",
   "metadata": {},
   "outputs": [],
   "source": [
    "In this example:\n",
    "\n",
    "The base case is n == 0 or n == 1, where the factorial is 1.\n",
    "The recursive case calculates the factorial using the formula n! = n * (n-1)!.\n",
    "Key components of a recursive function:\n",
    "\n",
    "Base Case:\n",
    "\n",
    "The base case defines the simplest scenario where the function returns a result without making a recursive\n",
    "call. It prevents the function from calling itself indefinitely and establishes a termination condition.\n",
    "Recursive Case:\n",
    "\n",
    "The recursive case defines how the function calls itself with modified arguments, making progress toward\n",
    "the base case. Each recursive call should move the function closer to the base case.\n",
    "Termination:\n",
    "\n",
    "Recursive functions must have a mechanism that ensures the recursive calls eventually reach the base\n",
    "case. Without proper termination conditions, the function could lead to infinite recursion.\n",
    "\n",
    "\n",
    "Recursive functions are commonly used in various algorithms, such as tree traversal, searching, sorting\n",
    "(e.g., quicksort), and mathematical computations. When designing a recursive function, it's crucial to\n",
    "carefully consider the base case and ensure that the problem is effectively divided into smaller \n",
    "subproblems.\n",
    "\n",
    "While recursion is a powerful technique, it's essential to be mindful of potential performance \n",
    "implications and stack overflow errors, especially for large input sizes. In some cases, iterative\n",
    "solutions may be more efficient."
   ]
  },
  {
   "cell_type": "code",
   "execution_count": null,
   "id": "cbd16787",
   "metadata": {},
   "outputs": [],
   "source": [
    "6. What are some general design guidelines for coding functions?"
   ]
  },
  {
   "cell_type": "code",
   "execution_count": null,
   "id": "5c4eca27",
   "metadata": {},
   "outputs": [],
   "source": [
    "Effective and well-designed functions are crucial for writing maintainable, readable, and efficient code. \n",
    "Here are some general design guidelines for coding functions:\n",
    "\n",
    "1.Function Naming:\n",
    "Choose descriptive and meaningful names for functions that convey their purpose.\n",
    "Follow a consistent naming convention (e.g., snake_case for functions in Python).\n",
    "\n",
    "2.Function Length:\n",
    "Keep functions short and focused on a single responsibility (following the Single Responsibility Principle).\n",
    "Aim for functions that are easy to understand at a glance.\n",
    "\n",
    "3.Function Parameters:\n",
    "Limit the number of parameters to avoid complexity.\n",
    "Group related parameters into objects or use default values for optional parameters.\n",
    "Avoid using global variables inside functions.\n",
    "\n",
    "4.Return Values:\n",
    "Clearly define the expected return type of the function.\n",
    "Use meaningful return values or consider using multiple return values (e.g., tuples) for complex functions.\n",
    "\n",
    "5.Error Handling:\n",
    "Clearly document error conditions and how the function handles them.\n",
    "Use exceptions for exceptional cases rather than returning special values.\n",
    "\n",
    "6.Comments and Documentation:\n",
    "Provide clear and concise comments to explain the purpose of the function, its parameters, and any complex\n",
    "algorithms or logic.\n",
    "Use docstrings to document the function's behavior, parameters, and return values.\n",
    "\n",
    "7.Consistency:\n",
    "Follow consistent coding conventions and style guidelines within your codebase.\n",
    "Maintain a consistent style for naming, indentation, and formatting.\n",
    "\n",
    "8.Modularity:\n",
    "Design functions to be modular and reusable.\n",
    "Break down complex tasks into smaller, more manageable functions.\n",
    "Encapsulate functionality into well-defined modules and classes when appropriate.\n",
    "\n",
    "9.Avoid Side Effects:\n",
    "Minimize side effects within functions (modifying global state, I/O operations, etc.).\n",
    "Functions should ideally be \"pure,\" meaning they produce the same output for the same input and don't\n",
    "have observable side effects.\n",
    "\n",
    "10.Testing:\n",
    "Write unit tests for your functions to ensure they behave as expected.\n",
    "Consider edge cases and boundary conditions in your tests.\n",
    "\n",
    "11.Parameter Types and Type Hints:\n",
    "Use type hints to indicate the expected types of parameters and return values (if applicable).\n",
    "Clearly document any assumptions about the types of parameters.\n",
    "\n",
    "12.Avoid Magic Numbers:\n",
    "Avoid using literal constants (magic numbers) directly in your code. Instead, define them as named\n",
    "constants or variables with descriptive names.\n",
    "Performance Considerations:\n",
    "\n",
    "Optimize for readability first, and then consider performance if necessary.\n",
    "Profile and optimize specific bottlenecks rather than premature optimization.\n",
    "\n",
    "13.Version Control:\n",
    "Make frequent commits, and use version control effectively to track changes and collaborate withothers."
   ]
  },
  {
   "cell_type": "code",
   "execution_count": null,
   "id": "70f08d39",
   "metadata": {},
   "outputs": [],
   "source": [
    "7. Name three or more ways that functions can communicate results to a caller."
   ]
  },
  {
   "cell_type": "code",
   "execution_count": null,
   "id": "ed7c9d84",
   "metadata": {},
   "outputs": [],
   "source": [
    "Functions in programming languages can communicate results to a caller in various ways. Here are three\n",
    "common ways:"
   ]
  },
  {
   "cell_type": "code",
   "execution_count": null,
   "id": "3ae4d6d6",
   "metadata": {},
   "outputs": [],
   "source": [
    "1. Return Values:\n",
    "\n",
    "The most straightforward way for a function to communicate results is through return values. The\n",
    "function calculates or processes data and then returns the result to the caller"
   ]
  },
  {
   "cell_type": "code",
   "execution_count": null,
   "id": "d039b3ef",
   "metadata": {},
   "outputs": [],
   "source": [
    "def add(x, y):\n",
    "    return x + y\n",
    "\n",
    "result = add(3, 5)\n"
   ]
  },
  {
   "cell_type": "code",
   "execution_count": null,
   "id": "d3eab169",
   "metadata": {},
   "outputs": [],
   "source": [
    "2. Modifying Mutable Objects:\n",
    "\n",
    "Functions can modify mutable objects (like lists or dictionaries) passed as arguments. In this case, the\n",
    "changes made to the object inside the function are visible to the caller"
   ]
  },
  {
   "cell_type": "code",
   "execution_count": 9,
   "id": "97c966ae",
   "metadata": {},
   "outputs": [],
   "source": [
    "def modify_list(my_list):\n",
    "    my_list.append(4)\n",
    "\n",
    "numbers = [1, 2, 3]\n",
    "modify_list(numbers)\n",
    "# The 'numbers' list is now [1, 2, 3, 4]"
   ]
  },
  {
   "cell_type": "code",
   "execution_count": null,
   "id": "92736e0a",
   "metadata": {},
   "outputs": [],
   "source": [
    "3. Global Variables:\n",
    "\n",
    "Functions can communicate results by modifying or accessing global variables. However, this approach is\n",
    "generally discouraged because it can lead to less modular and more error-prone code."
   ]
  },
  {
   "cell_type": "code",
   "execution_count": 8,
   "id": "c4d166f0",
   "metadata": {},
   "outputs": [],
   "source": [
    "global_variable = 10\n",
    "\n",
    "def modify_global():\n",
    "    global global_variable\n",
    "    global_variable += 5\n",
    "\n",
    "modify_global()\n",
    "# The 'global_variable' is now 15"
   ]
  }
 ],
 "metadata": {
  "kernelspec": {
   "display_name": "Python 3 (ipykernel)",
   "language": "python",
   "name": "python3"
  },
  "language_info": {
   "codemirror_mode": {
    "name": "ipython",
    "version": 3
   },
   "file_extension": ".py",
   "mimetype": "text/x-python",
   "name": "python",
   "nbconvert_exporter": "python",
   "pygments_lexer": "ipython3",
   "version": "3.11.1"
  }
 },
 "nbformat": 4,
 "nbformat_minor": 5
}
