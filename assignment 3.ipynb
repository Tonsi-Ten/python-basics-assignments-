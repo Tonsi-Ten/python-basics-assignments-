{
 "cells": [
  {
   "cell_type": "code",
   "execution_count": null,
   "id": "d85772ad",
   "metadata": {},
   "outputs": [],
   "source": [
    "1. Why are functions advantageous to have in your programs?"
   ]
  },
  {
   "cell_type": "code",
   "execution_count": null,
   "id": "8a1071b6",
   "metadata": {},
   "outputs": [],
   "source": [
    "Functions offer several advantages in programming. Functions enhance code organization, reusability,\n",
    "readability, and maintainability. They make your code more modular, flexible, and efficient while \n",
    "promoting good programming practices."
   ]
  },
  {
   "cell_type": "code",
   "execution_count": null,
   "id": "8f4f1c64",
   "metadata": {},
   "outputs": [],
   "source": [
    "2. When does the code in a function run: when it's specified or when it's called?"
   ]
  },
  {
   "cell_type": "markdown",
   "id": "5d528374",
   "metadata": {},
   "source": [
    "The code in a function only runs when it is called. When you define a function, you are\n",
    "essentially creating a blueprint for the function. The code in the function is not actually \n",
    "executed until the function is called."
   ]
  },
  {
   "cell_type": "code",
   "execution_count": null,
   "id": "4581ba42",
   "metadata": {},
   "outputs": [],
   "source": []
  },
  {
   "cell_type": "markdown",
   "id": "74d9c49d",
   "metadata": {},
   "source": [
    "3. What statement creates a function?"
   ]
  },
  {
   "cell_type": "code",
   "execution_count": null,
   "id": "377448e1",
   "metadata": {},
   "outputs": [],
   "source": [
    "The def statement creates a function in Python. The syntax for the def statement is as follows:\n",
    "\n",
    "    def function_name(parameters):\n",
    "    statements\n",
    "def is the keyword that indicates that a function is being defined.\n",
    "function_name is the name of the function.\n",
    "parameters is a list of variables that can be passed to the function.\n",
    "statements is the body of the function. This is the code that will be executed when the function is called."
   ]
  },
  {
   "cell_type": "code",
   "execution_count": null,
   "id": "fb0d990f",
   "metadata": {},
   "outputs": [],
   "source": [
    "4. What is the difference between a function and a function call?"
   ]
  },
  {
   "cell_type": "code",
   "execution_count": null,
   "id": "140d4f36",
   "metadata": {},
   "outputs": [],
   "source": [
    "\n",
    "A function is a block of code that performs a specific task. It is defined with a name, a set of\n",
    "parameters, and a body. The parameters are the values that the function needs to perform its task.\n",
    "The body is the code that the function executes.\n",
    "\n",
    "A function call is the act of invoking a function. It is done by specifying the function's name and\n",
    "the values of its parameters. The function call will cause the function's body to be executed, and the\n",
    "function will return a value."
   ]
  },
  {
   "cell_type": "code",
   "execution_count": 1,
   "id": "97cb6b72",
   "metadata": {},
   "outputs": [],
   "source": [
    "#example of a function. \n",
    "def factorial(n):\n",
    "    if n == 0:\n",
    "        return 1\n",
    "    else:\n",
    "        return n * factorial(n - 1)"
   ]
  },
  {
   "cell_type": "code",
   "execution_count": 2,
   "id": "1f53b798",
   "metadata": {},
   "outputs": [
    {
     "name": "stdout",
     "output_type": "stream",
     "text": [
      "3628800\n"
     ]
    }
   ],
   "source": [
    "#example of function call.\n",
    "print(factorial(10))"
   ]
  },
  {
   "cell_type": "code",
   "execution_count": null,
   "id": "d355cdf4",
   "metadata": {},
   "outputs": [],
   "source": [
    "5. How many global scopes are there in a Python program? How many local scopes?"
   ]
  },
  {
   "cell_type": "code",
   "execution_count": null,
   "id": "bd7e007a",
   "metadata": {},
   "outputs": [],
   "source": [
    "In a Python program, there is only one global scope, but multiple local scopes can be created\n",
    "within that global scope.\n",
    "\n",
    "1. Global Scope:\n",
    "There is one global scope in a Python program, which represents the outermost level of the program.\n",
    "Variables defined in the global scope are accessible throughout the entire program.\n",
    "\n",
    "2. Local Scopes:\n",
    "A local scope is created whenever a function is called. Each function call creates its own local scope.\n",
    "Variables defined within a function's local scope are only accessible within that function.\n",
    "When the function call completes, its local scope is destroyed, and the variables within it are no \n",
    "longer accessible.\n",
    "\n",
    "def outer_function():\n",
    "    x = 10\n",
    "    def inner_function():\n",
    "        y = 20\n",
    "        print(x)\n",
    "        print(y)\n",
    "\n",
    "    inner_function()\n",
    "    outer_function()\n",
    "\n",
    "In this program, the variables x and y are defined in the global scope. The variable x is also\n",
    "defined in the local scope of the outer_function function. The variable y is only defined in the\n",
    "local scope of the inner_function function."
   ]
  },
  {
   "cell_type": "code",
   "execution_count": null,
   "id": "8ab60e38",
   "metadata": {},
   "outputs": [],
   "source": [
    "6. What happens to variables in a local scope when the function call returns?"
   ]
  },
  {
   "cell_type": "code",
   "execution_count": null,
   "id": "21818908",
   "metadata": {},
   "outputs": [],
   "source": [
    "When a function call returns, the local variables in the function's scope are destroyed. This is\n",
    "because local variables are only allocated memory while the function is executing. Once the function\n",
    "returns, the memory for the local variables is freed up."
   ]
  },
  {
   "cell_type": "code",
   "execution_count": null,
   "id": "7e94b954",
   "metadata": {},
   "outputs": [],
   "source": [
    "7. What is the concept of a return value? Is it possible to have a return value in an expression?"
   ]
  },
  {
   "cell_type": "code",
   "execution_count": null,
   "id": "d5676d80",
   "metadata": {},
   "outputs": [],
   "source": [
    "In Python, a return value is the value that a function returns to the caller. It can be any type\n",
    "of data, including numbers, strings, lists, dictionaries, and objects. The return value of a function \n",
    "is specified using the return statement. The return statement can have one or more expressions,\n",
    "and the value of the last expression is the return value of the function.\n",
    "\n",
    "def sum_numbers(x, y):\n",
    "    return x + y\n",
    "\n",
    "The sum_numbers function has two parameters, x and y. The return statement in the sum_numbers\n",
    "function returns the sum of the values of x and y.\n",
    "\n",
    "The return value of a function can be used in an expression. For example, the following code \n",
    "calculates the average of two numbers:\n",
    "    \n",
    "    def average_numbers(x, y):\n",
    "    return (x + y) / 2         #expression \n",
    "\n",
    "average = average_numbers(10, 20)\n",
    "print(average)"
   ]
  },
  {
   "cell_type": "code",
   "execution_count": null,
   "id": "4b79a9f6",
   "metadata": {},
   "outputs": [],
   "source": [
    "8. If a function does not have a return statement, what is the return value of a call to that function?"
   ]
  },
  {
   "cell_type": "code",
   "execution_count": null,
   "id": "e1a7a19f",
   "metadata": {},
   "outputs": [],
   "source": [
    "If a function does not have a return statement, the return value of a call to that function is\n",
    "None. None is a special built-in constant in Python that represents the absence of a value. \n",
    "When a function call doesn't explicitly return a value using the return statement, Python\n",
    "automatically returns None as the default return value.\n",
    "\n",
    "def no_return():\n",
    "    print(\"This function doesn't have a return statement\")\n",
    "\n",
    "result = no_return()\n",
    "print(\"Return value:\", result)  # Output: Return value: None"
   ]
  },
  {
   "cell_type": "code",
   "execution_count": null,
   "id": "57df5177",
   "metadata": {},
   "outputs": [],
   "source": [
    "9. How do you make a function variable refer to the global variable?"
   ]
  },
  {
   "cell_type": "code",
   "execution_count": null,
   "id": "4955d3ac",
   "metadata": {},
   "outputs": [],
   "source": [
    "To make a function variable refer to a global variable, you can use the global keyword within \n",
    "the function. This indicates that the variable you're using inside the function is the same as\n",
    "the global variable with the same name. Here's how you can do it:"
   ]
  },
  {
   "cell_type": "code",
   "execution_count": null,
   "id": "f7702daa",
   "metadata": {},
   "outputs": [],
   "source": [
    "10. What is the data type of None?\n",
    "The data type of None in Python is called NoneType. It's a special data type that represents \n",
    "the absence of a value or a null value. In many programming languages, this concept is often \n",
    "referred to as \"null.\""
   ]
  },
  {
   "cell_type": "code",
   "execution_count": 3,
   "id": "a30bb43d",
   "metadata": {},
   "outputs": [
    {
     "name": "stdout",
     "output_type": "stream",
     "text": [
      "<class 'NoneType'>\n"
     ]
    }
   ],
   "source": [
    "value = None\n",
    "print(type(value)) "
   ]
  },
  {
   "cell_type": "code",
   "execution_count": null,
   "id": "6771a62a",
   "metadata": {},
   "outputs": [],
   "source": [
    "11. What does the sentence import areallyourpetsnamederic do?"
   ]
  },
  {
   "cell_type": "code",
   "execution_count": null,
   "id": "657a82b0",
   "metadata": {},
   "outputs": [],
   "source": [
    "The sentence import areallyourpetsnamederic imports a module named areallyourpetsnamederic. A \n",
    "module is a file that contains Python code. You can import modules into your code to use the\n",
    "functions and variables that they define.\n",
    "\n",
    "For example, if there were a Python module named \"areallyourpetsnamederic.py\" with some \n",
    "functions defined in it:\n",
    "    def function1():\n",
    "    print(\"Function 1 from areallyourpetsnamederic\")"
   ]
  },
  {
   "cell_type": "code",
   "execution_count": null,
   "id": "15a01715",
   "metadata": {},
   "outputs": [],
   "source": [
    "import areallyourpetsnamederic\n",
    "areallyourpetsnamederic.function()"
   ]
  },
  {
   "cell_type": "code",
   "execution_count": null,
   "id": "80c26302",
   "metadata": {},
   "outputs": [],
   "source": [
    "12. If you had a bacon() feature in a spam module, what would you call it after importing spam?"
   ]
  },
  {
   "cell_type": "code",
   "execution_count": null,
   "id": "03c83216",
   "metadata": {},
   "outputs": [],
   "source": [
    "import spam\n",
    "\n",
    "spam.bacon()"
   ]
  },
  {
   "cell_type": "code",
   "execution_count": null,
   "id": "9b49e5fb",
   "metadata": {},
   "outputs": [],
   "source": [
    "13. What can you do to save a programme from crashing if it encounters an error?"
   ]
  },
  {
   "cell_type": "code",
   "execution_count": null,
   "id": "2875eb9c",
   "metadata": {},
   "outputs": [],
   "source": [
    "There are a few things you can do to save a program from crashing if it encounters an error:\n",
    "    \n",
    "    1. Use exception handling. Exception handling is a built-in mechanism in Python that allows you \n",
    "    to handle errors gracefully. When an error occurs, the Python interpreter will look for an\n",
    "    exception handler that can handle the specific type of error. If an exception handler is found, \n",
    "    the program will not crash. Instead, the exception handler will execute some code to handle the\n",
    "    error.\n",
    "    \n",
    "    2. Use assertions. Assertions are statements that test a condition. If the condition is not met,\n",
    "    an assertion error will be raised. Assertions can be used to check for errors in your code. If an\n",
    "    assertion error is raised, the program will not crash. Instead, the program will print an error\n",
    "    message and stop executing.\n",
    "    \n",
    "    3. Use logging. Logging is a way to record information about what is happening in your program.\n",
    "    You can use logging to record errors that occur in your program. If an error occurs, the logging \n",
    "    module will print an error message to the console or to a file. This can help you to track down the\n",
    "    source of the error."
   ]
  },
  {
   "cell_type": "code",
   "execution_count": null,
   "id": "8ada5529",
   "metadata": {},
   "outputs": [],
   "source": [
    "14. What is the purpose of the try clause? What is the purpose of the except clause?"
   ]
  },
  {
   "cell_type": "code",
   "execution_count": null,
   "id": "8f9d3461",
   "metadata": {},
   "outputs": [],
   "source": [
    "\n",
    "The try clause is used to execute a block of code that may contain errors. The except clause is\n",
    "used to handle errors that occur in the try clause.\n",
    "The try and except statements are used together to implement exception handling in Python. Exception \n",
    "handling is a way to gracefully handle errors that occur in your program. When an error occurs, the\n",
    "Python interpreter will look for an exception handler that can handle the specific type of error. If\n",
    "an exception handler is found, the program will not crash. Instead, the exception handler will execute \n",
    "some code to handle the error.\n",
    "\n",
    "Here is an example of how to use the try and except statements to handle errors:"
   ]
  },
  {
   "cell_type": "code",
   "execution_count": 4,
   "id": "15624db4",
   "metadata": {},
   "outputs": [
    {
     "name": "stdout",
     "output_type": "stream",
     "text": [
      "n must be non-negative\n"
     ]
    }
   ],
   "source": [
    "def factorial(n):\n",
    "    if n < 0:\n",
    "        raise ValueError(\"n must be non-negative\")\n",
    "\n",
    "    if n == 0:\n",
    "        return 1\n",
    "\n",
    "    return n * factorial(n - 1)\n",
    "\n",
    "try:\n",
    "    print(factorial(-1))\n",
    "except ValueError as e:\n",
    "    print(e)"
   ]
  },
  {
   "cell_type": "code",
   "execution_count": null,
   "id": "d4d9334a",
   "metadata": {},
   "outputs": [],
   "source": []
  },
  {
   "cell_type": "code",
   "execution_count": null,
   "id": "dcc28ea2",
   "metadata": {},
   "outputs": [],
   "source": []
  },
  {
   "cell_type": "code",
   "execution_count": null,
   "id": "98cd1efa",
   "metadata": {},
   "outputs": [],
   "source": []
  },
  {
   "cell_type": "code",
   "execution_count": null,
   "id": "eddd06f8",
   "metadata": {},
   "outputs": [],
   "source": []
  },
  {
   "cell_type": "code",
   "execution_count": null,
   "id": "21b116b3",
   "metadata": {},
   "outputs": [],
   "source": []
  },
  {
   "cell_type": "code",
   "execution_count": null,
   "id": "62d1c58a",
   "metadata": {},
   "outputs": [],
   "source": []
  },
  {
   "cell_type": "code",
   "execution_count": null,
   "id": "95c53a48",
   "metadata": {},
   "outputs": [],
   "source": []
  }
 ],
 "metadata": {
  "kernelspec": {
   "display_name": "Python 3 (ipykernel)",
   "language": "python",
   "name": "python3"
  },
  "language_info": {
   "codemirror_mode": {
    "name": "ipython",
    "version": 3
   },
   "file_extension": ".py",
   "mimetype": "text/x-python",
   "name": "python",
   "nbconvert_exporter": "python",
   "pygments_lexer": "ipython3",
   "version": "3.11.1"
  }
 },
 "nbformat": 4,
 "nbformat_minor": 5
}
