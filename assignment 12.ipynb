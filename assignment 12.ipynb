{
 "cells": [
  {
   "cell_type": "code",
   "execution_count": null,
   "id": "7a0d842a",
   "metadata": {},
   "outputs": [],
   "source": [
    "1. In what modes should the PdfFileReader() and PdfFileWriter() File objects will be opened?"
   ]
  },
  {
   "cell_type": "code",
   "execution_count": null,
   "id": "1f0b8cef",
   "metadata": {},
   "outputs": [],
   "source": [
    "In the PyPDF2 library (commonly used for working with PDF files in Python), the PdfFileReader() and\n",
    "PdfFileWriter() objects do not require you to specify modes for opening PDF files like you would with\n",
    "regular file objects in Python (e.g., 'r' for reading, 'w' for writing). Instead, you typically open PDF files in binary mode ('rb' for reading and 'wb' for writing) when working with PdfFileReader() and PdfFileWriter().\n",
    "\n",
    "Here's how you would commonly use these objects:"
   ]
  },
  {
   "cell_type": "code",
   "execution_count": null,
   "id": "3b69092c",
   "metadata": {},
   "outputs": [],
   "source": [
    "1. PdfFileReader:\n",
    "\n",
    "To open an existing PDF file for reading, you should use 'rb' (read binary) mode:"
   ]
  },
  {
   "cell_type": "code",
   "execution_count": null,
   "id": "93970eb3",
   "metadata": {},
   "outputs": [],
   "source": [
    "from PyPDF2 import PdfFileReader\n",
    "\n",
    "with open('example.pdf', 'rb') as pdf_file:\n",
    "    pdf_reader = PdfFileReader(pdf_file)\n",
    "    # You can now use pdf_reader to read and manipulate the PDF content."
   ]
  },
  {
   "cell_type": "code",
   "execution_count": null,
   "id": "c74c7af1",
   "metadata": {},
   "outputs": [],
   "source": [
    "2. PdfFileWriter:\n",
    "\n",
    "To create a new PDF file or modify an existing one, you should use 'wb' (write binary) "
   ]
  },
  {
   "cell_type": "code",
   "execution_count": null,
   "id": "098d9f96",
   "metadata": {},
   "outputs": [],
   "source": [
    "from PyPDF2 import PdfFileWriter\n",
    "\n",
    "with open('new_file.pdf', 'wb') as pdf_output_file:\n",
    "    pdf_writer = PdfFileWriter()\n",
    "    # You can now use pdf_writer to add pages and content to the PDF."
   ]
  },
  {
   "cell_type": "code",
   "execution_count": null,
   "id": "80cb967e",
   "metadata": {},
   "outputs": [],
   "source": [
    "The 'rb' and 'wb' modes ensure that the PDF file is treated as a binary file, which is necessary because\n",
    "PDF files contain binary data. Using these modes helps prevent any platform-specific issues with line\n",
    "endings and ensures that the file is read or written correctly.\n",
    "\n",
    "So, in summary, you should open PDF files in 'rb' mode for reading with PdfFileReader() and 'wb' mode\n",
    "for writing with PdfFileWriter() in the PyPDF2 library."
   ]
  },
  {
   "cell_type": "code",
   "execution_count": null,
   "id": "f055ed49",
   "metadata": {},
   "outputs": [],
   "source": [
    "2. From a PdfFileReader object, how do you get a Page object for page 5?"
   ]
  },
  {
   "cell_type": "code",
   "execution_count": null,
   "id": "b7e4e11a",
   "metadata": {},
   "outputs": [],
   "source": [
    "To get a Page object for page 5 from a PdfFileReader object in the PyPDF2 library, you can use the\n",
    "getPage() method and pass the page number (zero-based index) as an argument. Here's how you can do\n",
    "it:"
   ]
  },
  {
   "cell_type": "code",
   "execution_count": null,
   "id": "6f2de9c4",
   "metadata": {},
   "outputs": [],
   "source": [
    "from PyPDF2 import PdfFileReader\n",
    "\n",
    "# Open the PDF file for reading in binary mode\n",
    "with open('example.pdf', 'rb') as pdf_file:\n",
    "    pdf_reader = PdfFileReader(pdf_file)\n",
    "\n",
    "    # Get a Page object for page 5 (zero-based index)\n",
    "    page_number = 4  # Page 5 corresponds to index 4\n",
    "    page = pdf_reader.getPage(page_number)\n",
    "\n",
    "    # Now you can work with the 'page' object, such as extracting text or modifying it."
   ]
  },
  {
   "cell_type": "code",
   "execution_count": null,
   "id": "381479bf",
   "metadata": {},
   "outputs": [],
   "source": [
    "In this code:\n",
    "\n",
    ". We open the PDF file in binary mode using the 'rb' mode.\n",
    ". We create a PdfFileReader object, pdf_reader, to read the PDF content.\n",
    ". We specify the page number we want to access (page 5 corresponds to index 4, as PDF page numbering is\n",
    "  zero-based).\n",
    ". We use the getPage() method to retrieve a Page object for page 5, and you can then perform various\n",
    "  operations on this Page object, such as extracting text or making modifications.\n",
    "    \n",
    "Make sure to replace 'example.pdf' with the actual path to your PDF file."
   ]
  },
  {
   "cell_type": "code",
   "execution_count": null,
   "id": "6327dc4a",
   "metadata": {},
   "outputs": [],
   "source": [
    "3. What PdfFileReader variable stores the number of pages in the PDF document?"
   ]
  },
  {
   "cell_type": "code",
   "execution_count": null,
   "id": "ba9da267",
   "metadata": {},
   "outputs": [],
   "source": [
    "In the PyPDF2 library, the number of pages in a PDF document can be obtained using the numPages attribute\n",
    "of a PdfFileReader object. This attribute stores the total number of pages in the PDF document. Here's how\n",
    "you can access it:"
   ]
  },
  {
   "cell_type": "code",
   "execution_count": null,
   "id": "83a764d5",
   "metadata": {},
   "outputs": [],
   "source": [
    "from PyPDF2 import PdfFileReader\n",
    "\n",
    "# Open the PDF file for reading in binary mode\n",
    "with open('example.pdf', 'rb') as pdf_file:\n",
    "    pdf_reader = PdfFileReader(pdf_file)\n",
    "\n",
    "    # Get the number of pages in the PDF document\n",
    "    num_pages = pdf_reader.numPages\n",
    "\n",
    "    # Now 'num_pages' contains the total number of pages in the PDF."
   ]
  },
  {
   "cell_type": "code",
   "execution_count": null,
   "id": "2cfb73fa",
   "metadata": {},
   "outputs": [],
   "source": [
    "In this code:\n",
    "\n",
    ". We open the PDF file in binary mode using the 'rb' mode.\n",
    ". We create a PdfFileReader object, pdf_reader, to read the PDF content.\n",
    ". We access the numPages attribute to retrieve the total number of pages in the PDF document, which is\n",
    "  stored in the num_pages variable.\n",
    "\n",
    "You can then use the num_pages variable to perform operations or calculations based on the total number\n",
    "of pages in the PDF."
   ]
  },
  {
   "cell_type": "code",
   "execution_count": null,
   "id": "bce60e53",
   "metadata": {},
   "outputs": [],
   "source": [
    "4. If a PdfFileReader object’s PDF is encrypted with the password swordfish, what must you do\n",
    "   before you can obtain Page objects from it?"
   ]
  },
  {
   "cell_type": "code",
   "execution_count": null,
   "id": "2b88b202",
   "metadata": {},
   "outputs": [],
   "source": [
    "\n",
    "If a PdfFileReader object's PDF is encrypted with a password (e.g., \"swordfish\"), you must provide the\n",
    "correct password to decrypt the PDF before you can obtain Page objects or perform any operations on it.\n",
    "To do this, you can use the decrypt() method of the PdfFileReader object.\n",
    "\n",
    "Here's how you can open an encrypted PDF with a password:"
   ]
  },
  {
   "cell_type": "code",
   "execution_count": null,
   "id": "ed227a1a",
   "metadata": {},
   "outputs": [],
   "source": [
    "from PyPDF2 import PdfFileReader\n",
    "\n",
    "# Open the encrypted PDF file for reading in binary mode\n",
    "with open('encrypted.pdf', 'rb') as pdf_file:\n",
    "    pdf_reader = PdfFileReader(pdf_file)\n",
    "\n",
    "    # Provide the password to decrypt the PDF\n",
    "    password = 'swordfish'\n",
    "\n",
    "    # Use the decrypt() method to decrypt the PDF with the password\n",
    "    if pdf_reader.decrypt(password):\n",
    "        # The PDF is successfully decrypted with the provided password\n",
    "        num_pages = pdf_reader.numPages\n",
    "        # Now you can obtain Page objects and work with the PDF as needed.\n",
    "    else:\n",
    "        # The provided password is incorrect; handle the decryption failure accordingly.\n",
    "        print(\"Failed to decrypt the PDF. Incorrect password.\")\n"
   ]
  },
  {
   "cell_type": "code",
   "execution_count": null,
   "id": "6f3cf6f0",
   "metadata": {},
   "outputs": [],
   "source": [
    "In this code:\n",
    "\n",
    ". We open the encrypted PDF file in binary mode using the 'rb' mode.\n",
    ". We create a PdfFileReader object, pdf_reader, to read the PDF content.\n",
    ". We provide the correct password ('swordfish') to the decrypt() method to decrypt the PDF. If the\n",
    "  password is correct, the method returns True, indicating successful decryption.\n",
    ". If the provided password is incorrect, the decrypt() method returns False, and you should handle the\n",
    "  decryption failure accordingly.\n",
    "    \n",
    "After successful decryption, you can obtain Page objects and perform operations on the PDF as usual"
   ]
  },
  {
   "cell_type": "code",
   "execution_count": null,
   "id": "0c0d8d0e",
   "metadata": {},
   "outputs": [],
   "source": [
    "5. What methods do you use to rotate a page?"
   ]
  },
  {
   "cell_type": "code",
   "execution_count": null,
   "id": "ef7b59cf",
   "metadata": {},
   "outputs": [],
   "source": [
    "\n",
    "To rotate a page in a PDF using the PyPDF2 library in Python, you can use the rotateClockwise() or\n",
    "rotateCounterClockwise() methods of a PageObject obtained from a PdfFileReader or PdfFileWriter object.\n",
    "Here's how you can use these methods:"
   ]
  },
  {
   "cell_type": "code",
   "execution_count": null,
   "id": "1482bf0a",
   "metadata": {},
   "outputs": [],
   "source": [
    "1. rotateClockwise(degrees):\n",
    "\n",
    "This method rotates the page clockwise by the specified number of degrees (90, 180, or 270 degrees). The\n",
    "original page is replaced with the rotated page."
   ]
  },
  {
   "cell_type": "code",
   "execution_count": null,
   "id": "25144ae6",
   "metadata": {},
   "outputs": [],
   "source": [
    "from PyPDF2 import PdfFileReader, PdfFileWriter\n",
    "\n",
    "# Open the PDF file for reading and writing\n",
    "with open('input.pdf', 'rb') as pdf_file:\n",
    "    pdf_reader = PdfFileReader(pdf_file)\n",
    "    pdf_writer = PdfFileWriter()\n",
    "\n",
    "    # Rotate the first page of the PDF clockwise by 90 degrees\n",
    "    page = pdf_reader.getPage(0)\n",
    "    page.rotateClockwise(90)\n",
    "\n",
    "    # Add the rotated page to the output PDF\n",
    "    pdf_writer.addPage(page)\n",
    "\n",
    "    # Save the modified PDF to a new file\n",
    "    with open('output.pdf', 'wb') as output_file:\n",
    "        pdf_writer.write(output_file)"
   ]
  },
  {
   "cell_type": "code",
   "execution_count": null,
   "id": "c0270bbe",
   "metadata": {},
   "outputs": [],
   "source": [
    "2. rotateCounterClockwise(degrees):\n",
    "\n",
    "This method rotates the page counterclockwise by the specified number of degrees (90, 180, or 270\n",
    "degrees). The original page is replaced with the rotated page."
   ]
  },
  {
   "cell_type": "code",
   "execution_count": null,
   "id": "5a40d384",
   "metadata": {},
   "outputs": [],
   "source": [
    "from PyPDF2 import PdfFileReader, PdfFileWriter\n",
    "\n",
    "# Open the PDF file for reading and writing\n",
    "with open('input.pdf', 'rb') as pdf_file:\n",
    "    pdf_reader = PdfFileReader(pdf_file)\n",
    "    pdf_writer = PdfFileWriter()\n",
    "\n",
    "    # Rotate the first page of the PDF counterclockwise by 90 degrees\n",
    "    page = pdf_reader.getPage(0)\n",
    "    page.rotateCounterClockwise(90)\n",
    "\n",
    "    # Add the rotated page to the output PDF\n",
    "    pdf_writer.addPage(page)\n",
    "\n",
    "    # Save the modified PDF to a new file\n",
    "    with open('output.pdf', 'wb') as output_file:\n",
    "        pdf_writer.write(output_file)"
   ]
  },
  {
   "cell_type": "code",
   "execution_count": null,
   "id": "8f65545a",
   "metadata": {},
   "outputs": [],
   "source": [
    "In both examples, we first open the PDF file for reading and writing. Then, we obtain a PageObject using\n",
    "pdf_reader.getPage(0) to access the first page (you can specify the page number you want to rotate).\n",
    "Finally, we use either rotateClockwise() or rotateCounterClockwise() to rotate the page as needed and \n",
    "save the modified PDF to a new file"
   ]
  },
  {
   "cell_type": "code",
   "execution_count": null,
   "id": "6c35741c",
   "metadata": {},
   "outputs": [],
   "source": [
    "6. What is the difference between a Run object and a Paragraph object?"
   ]
  },
  {
   "cell_type": "code",
   "execution_count": null,
   "id": "5e12cd25",
   "metadata": {},
   "outputs": [],
   "source": [
    "In the context of Microsoft Word documents and document processing libraries like python-docx, \"Run\" and\n",
    "\"Paragraph\" are two fundamental elements that represent different parts of the text within a document."
   ]
  },
  {
   "cell_type": "code",
   "execution_count": null,
   "id": "0a310bad",
   "metadata": {},
   "outputs": [],
   "source": [
    "1. Run Object:\n",
    "\n",
    ". A \"Run\" is the smallest, inline element within a paragraph.\n",
    ". It represents a contiguous run of text with the same formatting properties (e.g., font style, size, color).\n",
    ". Runs are used for applying specific formatting to portions of text within a paragraph. For example, you\n",
    "  can have a single paragraph with different runs for bold, italic, and underlined text.\n",
    ". Runs can contain text, but they do not represent entire paragraphs or line breaks.\n",
    ". You can apply formatting to runs, such as bold, italic, underline, font color, and more.\n",
    "\n",
    "2. Paragraph Object:\n",
    "\n",
    ". A \"Paragraph\" is a larger block-level element that represents a collection of text.\n",
    ". It represents a single unit of text separated by paragraph breaks (i.e., pressing the Enter key).\n",
    ". Paragraphs can contain one or more runs of text with various formatting.\n",
    ". They are used to structure the document and represent distinct sections or blocks of text.\n",
    ". Paragraphs can have their own paragraph-level formatting, such as alignment, indentation, spacing,\n",
    "  and borders.\n",
    "    \n",
    "Here's a simple example of how you might use both Run and Paragraph objects in a Word document using the\n",
    "python-docx library:"
   ]
  },
  {
   "cell_type": "code",
   "execution_count": null,
   "id": "1e53f183",
   "metadata": {},
   "outputs": [],
   "source": [
    "from docx import Document\n",
    "\n",
    "# Create a new Document\n",
    "doc = Document()\n",
    "\n",
    "# Create a paragraph\n",
    "p = doc.add_paragraph()\n",
    "\n",
    "# Add text with different formatting using Runs\n",
    "run1 = p.add_run(\"This is bold text.\")\n",
    "run1.bold = True\n",
    "\n",
    "run2 = p.add_run(\" This is italic text.\")\n",
    "run2.italic = True\n",
    "\n",
    "# Create another paragraph\n",
    "p2 = doc.add_paragraph(\"This is a regular paragraph with no formatting.\")\n",
    "\n",
    "# Save the document\n",
    "doc.save(\"example.docx\")"
   ]
  },
  {
   "cell_type": "code",
   "execution_count": null,
   "id": "e2c0490c",
   "metadata": {},
   "outputs": [],
   "source": [
    "In this example, you create a document with two paragraphs. The first paragraph contains two runs with\n",
    "different formatting (bold and italic), while the second paragraph is a regular paragraph with no specific\n",
    "run-level formatting.\n",
    "\n",
    "In summary, Runs are used to format portions of text within a paragraph, while Paragraphs are used to\n",
    "structure and represent blocks of text in a document."
   ]
  },
  {
   "cell_type": "code",
   "execution_count": null,
   "id": "48027432",
   "metadata": {},
   "outputs": [],
   "source": [
    "7. How do you obtain a list of Paragraph objects for a Document object that’s stored in a variable\n",
    "named doc?"
   ]
  },
  {
   "cell_type": "code",
   "execution_count": null,
   "id": "87949673",
   "metadata": {},
   "outputs": [],
   "source": [
    "To obtain a list of Paragraph objects for a Document object stored in a variable named doc using the\n",
    "python-docx library, you can use the document.paragraphs attribute. \n",
    "Here's how you can do it"
   ]
  },
  {
   "cell_type": "code",
   "execution_count": null,
   "id": "4e9e3931",
   "metadata": {},
   "outputs": [],
   "source": [
    "from docx import Document\n",
    "\n",
    "# Load a document (replace 'your_document.docx' with the actual file path)\n",
    "doc = Document('your_document.docx')\n",
    "\n",
    "# Get a list of Paragraph objects in the document\n",
    "paragraphs = doc.paragraphs\n",
    "\n",
    "# Now, 'paragraphs' is a list containing all the Paragraph objects in the document\n"
   ]
  },
  {
   "cell_type": "code",
   "execution_count": null,
   "id": "740beca7",
   "metadata": {},
   "outputs": [],
   "source": [
    "In this code:\n",
    "\n",
    ". We use the Document constructor to load a Word document, replacing 'your_document.docx' with the actual\n",
    "  file path of your document.\n",
    "\n",
    ". We access the paragraphs attribute of the Document object doc. This attribute contains a list of all the\n",
    "  Paragraph objects in the document.\n",
    "\n",
    "After obtaining the list of Paragraph objects in the paragraphs variable, you can iterate through them\n",
    "to access and manipulate the text and formatting of each paragraph in the document."
   ]
  },
  {
   "cell_type": "code",
   "execution_count": null,
   "id": "8852ed8b",
   "metadata": {},
   "outputs": [],
   "source": [
    "8. What type of object has bold, underline, italic, strike, and outline variables?"
   ]
  },
  {
   "cell_type": "code",
   "execution_count": null,
   "id": "5c6eff5e",
   "metadata": {},
   "outputs": [],
   "source": [
    "The attributes bold, underline, italic, strike, and outline are typically associated with a Run object\n",
    "in document processing libraries like python-docx for working with Microsoft Word documents.\n",
    "\n",
    "A Run object represents a contiguous run of text within a paragraph, and it allows you to apply specific\n",
    "formatting to that text. These attributes are used to control the formatting of the text within the Run.\n",
    "Here's what each of these attributes does:\n",
    "\n",
    ". bold: This attribute is used to make the text within the Run bold. You can set it to True or False to\n",
    "  apply or remove bold formatting.\n",
    "\n",
    ". underline: It is used to underline the text within the Run. You can set it to different underline styles\n",
    "  such as 'single', 'double', 'dotted', etc., or None to remove underlining.\n",
    "\n",
    ". italic: This attribute is used to italicize the text within the Run. You can set it to True or False to\n",
    "  apply or remove italic formatting.\n",
    "\n",
    " . strike: It is used to apply strikethrough formatting to the text within the Run. You can set it to True\n",
    "   or False to apply or remove strikethrough.\n",
    "\n",
    ".  outline: This attribute is used to apply outline or shadow formatting to the text within the Run. You can\n",
    "   set it to True or False to apply or remove outline formatting.\n",
    "\n",
    "Here's an example of how you might use these attributes with a Run object in the python-docx library:\n",
    "\n",
    "python"
   ]
  },
  {
   "cell_type": "code",
   "execution_count": null,
   "id": "5811296d",
   "metadata": {},
   "outputs": [],
   "source": [
    "from docx import Document\n",
    "\n",
    "# Create a new Document\n",
    "doc = Document()\n",
    "\n",
    "# Create a paragraph\n",
    "p = doc.add_paragraph()\n",
    "\n",
    "# Add text with formatting using a Run\n",
    "run = p.add_run(\"Formatted Text\")\n",
    "\n",
    "# Apply formatting attributes\n",
    "run.bold = True\n",
    "run.underline = True\n",
    "run.italic = True\n",
    "run.strike = True\n",
    "run.outline = True\n",
    "\n",
    "# Save the document\n",
    "doc.save(\"formatted_example.docx\")\n"
   ]
  },
  {
   "cell_type": "code",
   "execution_count": null,
   "id": "2fac6455",
   "metadata": {},
   "outputs": [],
   "source": [
    "In this example, we create a Run object within a paragraph and apply various formatting attributes to\n",
    "the text within that Run. These attributes allow you to control the appearance of text in your Word\n",
    "document"
   ]
  },
  {
   "cell_type": "code",
   "execution_count": null,
   "id": "bd7dc4e0",
   "metadata": {},
   "outputs": [],
   "source": [
    "9. What is the difference between False, True, and None for the bold variable?"
   ]
  },
  {
   "cell_type": "code",
   "execution_count": null,
   "id": "bd9308ca",
   "metadata": {},
   "outputs": [],
   "source": [
    "In the context of document processing libraries like python-docx, the bold variable, which is used with\n",
    "a Run object to control the bold formatting of text, can take three different values: False, True, and\n",
    "None. Here's what each of these values means:\n",
    "\n",
    "1. False:\n",
    "\n",
    "When bold is set to False, it means that the text within the Run should not be displayed in bold.\n",
    "This is used to remove bold formatting from the text. \n",
    "\n",
    "2. True:\n",
    "\n",
    "When bold is set to True, it means that the text within the Run should be displayed in bold.\n",
    "This is used to apply bold formatting to the text.\n",
    "\n",
    "3. None:\n",
    "\n",
    ". When bold is set to None, it typically means that the text within the Run should use the default formatting\n",
    "  for bold.\n",
    ". This means that the text's boldness is determined by the document's default styles or the styles applied\n",
    "  to the paragraph or the text run. Setting bold to None is often used when you want to inherit the boldness\n",
    "  from higher-level styles and not explicitly apply or remove bold formatting.\n",
    "\n",
    "Here's an example that demonstrates the use of these values:"
   ]
  },
  {
   "cell_type": "code",
   "execution_count": null,
   "id": "a1ebb8ec",
   "metadata": {},
   "outputs": [],
   "source": [
    "from docx import Document\n",
    "\n",
    "# Create a new Document\n",
    "doc = Document()\n",
    "\n",
    "# Create a paragraph\n",
    "p = doc.add_paragraph()\n",
    "\n",
    "# Add text with formatting using a Run\n",
    "run = p.add_run(\"Formatted Text\")\n",
    "\n",
    "# Apply different bold formatting\n",
    "run.bold = True  # Apply bold formatting\n",
    "run2 = p.add_run(\" Unbolded Text\")\n",
    "run2.bold = False  # Remove bold formatting\n",
    "\n",
    "run3 = p.add_run(\" Inherited Boldness\")\n",
    "run3.bold = None  # Inherit bold formatting from higher-level styles\n",
    "\n",
    "# Save the document\n",
    "doc.save(\"bold_example.docx\")\n"
   ]
  },
  {
   "cell_type": "code",
   "execution_count": null,
   "id": "664ba60d",
   "metadata": {},
   "outputs": [],
   "source": [
    "In this example:\n",
    "\n",
    ". The first Run is set to bold (True), applying bold formatting.\n",
    ". The second Run is added right after the first one, and its bold formatting is explicitly set to False,\n",
    "  removing the bold formatting.\n",
    ". The third Run is set to None, which means it inherits the boldness from higher-level styles, such as\n",
    "  paragraph or document styles.\n",
    "    \n",
    "Using these values, you can control how text is displayed in terms of boldness in your Word documents."
   ]
  },
  {
   "cell_type": "code",
   "execution_count": null,
   "id": "6a3729df",
   "metadata": {},
   "outputs": [],
   "source": [
    "10. How do you create a Document object for a new Word document?"
   ]
  },
  {
   "cell_type": "code",
   "execution_count": null,
   "id": "910ae686",
   "metadata": {},
   "outputs": [],
   "source": [
    "\n",
    "To create a Document object for a new Word document using the python-docx library in Python, you can\n",
    "follow these steps:\n",
    "\n",
    "1. Import the Document class: First, you need to import the Document class from the docx module.\n",
    "\n",
    "2. Create a new Document object: Use the Document() constructor to create a new, empty Word document.\n",
    "\n",
    "3. Add content to the document: You can add content to the document, such as paragraphs, text, tables,\n",
    "   and more, using the methods provided by the Document object.\n",
    "\n",
    "4. Save the document: After adding content, save the document to a file using the save() method of the\n",
    "   Document object.\n",
    "\n",
    "Here's an example of how to create a new Word document and add a paragraph of text to it"
   ]
  },
  {
   "cell_type": "code",
   "execution_count": null,
   "id": "8cbb69aa",
   "metadata": {},
   "outputs": [],
   "source": [
    "from docx import Document\n",
    "\n",
    "# Create a new Document object\n",
    "doc = Document()\n",
    "\n",
    "# Add content to the document\n",
    "doc.add_heading('My New Document', 0)  # Add a heading\n",
    "doc.add_paragraph('This is a paragraph of text.')  # Add a paragraph of text\n",
    "\n",
    "# Save the document to a file\n",
    "doc.save('new_document.docx')\n",
    "\n",
    "# You can now open 'new_document.docx' in a Word processor to see the result.\n"
   ]
  },
  {
   "cell_type": "code",
   "execution_count": null,
   "id": "d793975b",
   "metadata": {},
   "outputs": [],
   "source": [
    "In this example:\n",
    "\n",
    ". We import the Document class from the docx module.\n",
    ". We create a new Document object named doc.\n",
    ". We add content to the document using add_heading() to insert a heading and add_paragraph() to add a\n",
    "  paragraph of text.\n",
    ". Finally, we save the document to a file named 'new_document.docx' using save().\n",
    "\n",
    "You can further customize and populate the document with various elements like tables, images, bullet\n",
    "points, and more by using the appropriate methods provided by the Document object."
   ]
  },
  {
   "cell_type": "code",
   "execution_count": null,
   "id": "b86ed86c",
   "metadata": {},
   "outputs": [],
   "source": [
    "11. How do you add a paragraph with the text 'Hello, there!' to a Document object stored in a\n",
    "variable named doc?"
   ]
  },
  {
   "cell_type": "code",
   "execution_count": null,
   "id": "ef01dbf1",
   "metadata": {},
   "outputs": [],
   "source": [
    "To add a paragraph with the text 'Hello, there!' to a Document object stored in a variable named doc\n",
    "using the python-docx library, you can use the add_paragraph() method. Here's how you can do it:"
   ]
  },
  {
   "cell_type": "code",
   "execution_count": null,
   "id": "c5c64933",
   "metadata": {},
   "outputs": [],
   "source": [
    "from docx import Document\n",
    "\n",
    "# Assuming you already have a Document object stored in a variable named 'doc'\n",
    "\n",
    "# Add a paragraph with the text 'Hello, there!'\n",
    "paragraph_text = 'Hello, there!'\n",
    "doc.add_paragraph(paragraph_text)\n",
    "\n",
    "# Save the document if needed\n",
    "# doc.save('your_document.docx')\n"
   ]
  },
  {
   "cell_type": "code",
   "execution_count": null,
   "id": "9fb2db05",
   "metadata": {},
   "outputs": [],
   "source": [
    "In this code:\n",
    "\n",
    "We import the Document class from the docx module.\n",
    "\n",
    ". Assuming that you already have a Document object stored in the doc variable, we add a new paragraph to it\n",
    "  using the add_paragraph() method.\n",
    "\n",
    ". The text 'Hello, there!' is stored in the paragraph_text variable, which is then passed as an argument to\n",
    "  the add_paragraph() method.\n",
    "\n",
    ". Optionally, you can save the document to a file using the save() method if you want to persist the changes\n",
    "  to the document. Uncomment the doc.save('your_document.docx') line and replace 'your_document.docx' with\n",
    "  the desired file name and path.\n",
    "\n",
    "This code will add a new paragraph with the specified text to the existing Document object in the doc\n",
    "variable."
   ]
  },
  {
   "cell_type": "code",
   "execution_count": null,
   "id": "301f8ca6",
   "metadata": {},
   "outputs": [],
   "source": [
    "12. What integers represent the levels of headings available in Word documents?"
   ]
  },
  {
   "cell_type": "code",
   "execution_count": null,
   "id": "f6cd83b0",
   "metadata": {},
   "outputs": [],
   "source": [
    "In Word documents, headings are typically organized into levels, and each level is associated with an\n",
    "integer value. These integer values represent the hierarchical structure of the document. The most\n",
    "commonly used heading levels and their corresponding integer values are as follows:\n",
    "\n",
    "Heading 1: Level 1 (integer value: 1)\n",
    "Heading 2: Level 2 (integer value: 2)\n",
    "Heading 3: Level 3 (integer value: 3)\n",
    "Heading 4: Level 4 (integer value: 4)\n",
    "Heading 5: Level 5 (integer value: 5)\n",
    "Heading 6: Level 6 (integer value: 6)\n",
    "    \n",
    "These levels are used to create a hierarchy of headings in a Word document, with Heading 1 being the\n",
    "highest level and Heading 6 the lowest. The choice of heading level affects the formatting and positioning\n",
    "of the text in the document, and it helps readers understand the document's structure.\n",
    "\n",
    "You can apply these heading levels in Word processors like Microsoft Word to format your document's\n",
    "headings and create a table of contents or outline. Additionally, when working with document processing\n",
    "libraries like python-docx, you can programmatically apply these heading levels to your document's content."
   ]
  },
  {
   "cell_type": "code",
   "execution_count": null,
   "id": "cd1382b3",
   "metadata": {},
   "outputs": [],
   "source": []
  },
  {
   "cell_type": "code",
   "execution_count": null,
   "id": "90ad158e",
   "metadata": {},
   "outputs": [],
   "source": []
  },
  {
   "cell_type": "code",
   "execution_count": null,
   "id": "ec36992c",
   "metadata": {},
   "outputs": [],
   "source": []
  },
  {
   "cell_type": "code",
   "execution_count": null,
   "id": "212340bd",
   "metadata": {},
   "outputs": [],
   "source": []
  }
 ],
 "metadata": {
  "kernelspec": {
   "display_name": "Python 3 (ipykernel)",
   "language": "python",
   "name": "python3"
  },
  "language_info": {
   "codemirror_mode": {
    "name": "ipython",
    "version": 3
   },
   "file_extension": ".py",
   "mimetype": "text/x-python",
   "name": "python",
   "nbconvert_exporter": "python",
   "pygments_lexer": "ipython3",
   "version": "3.11.1"
  }
 },
 "nbformat": 4,
 "nbformat_minor": 5
}
