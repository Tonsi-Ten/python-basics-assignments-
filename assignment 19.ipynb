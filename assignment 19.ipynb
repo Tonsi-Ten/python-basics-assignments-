{
 "cells": [
  {
   "cell_type": "code",
   "execution_count": null,
   "id": "511cb634",
   "metadata": {},
   "outputs": [],
   "source": [
    "1. Make a class called Thing with no contents and print it. Then, create an object called example\n",
    "from this class and also print it. Are the printed values the same or different?"
   ]
  },
  {
   "cell_type": "code",
   "execution_count": 1,
   "id": "b8fcf1c0",
   "metadata": {},
   "outputs": [
    {
     "name": "stdout",
     "output_type": "stream",
     "text": [
      "Class: <class '__main__.Thing'>\n",
      "Object: <__main__.Thing object at 0x0000015C44EA7F10>\n"
     ]
    }
   ],
   "source": [
    "class Thing:\n",
    "    pass\n",
    "\n",
    "# Creating an instance of the Thing class\n",
    "example = Thing()\n",
    "\n",
    "# Printing the class and object\n",
    "print(\"Class:\", Thing)\n",
    "print(\"Object:\", example)"
   ]
  },
  {
   "cell_type": "code",
   "execution_count": null,
   "id": "06323105",
   "metadata": {},
   "outputs": [],
   "source": [
    "2. Create a new class called Thing2 and add the value 'abc' to the letters class attribute. Letters\n",
    "should be printed."
   ]
  },
  {
   "cell_type": "code",
   "execution_count": 2,
   "id": "fefdcf66",
   "metadata": {},
   "outputs": [
    {
     "name": "stdout",
     "output_type": "stream",
     "text": [
      "Letters: abc\n"
     ]
    }
   ],
   "source": [
    "class Thing2:\n",
    "    letters = 'abc'\n",
    "\n",
    "# Printing the class attribute\n",
    "print(\"Letters:\", Thing2.letters)"
   ]
  },
  {
   "cell_type": "code",
   "execution_count": null,
   "id": "2b8773ad",
   "metadata": {},
   "outputs": [],
   "source": [
    "In this example, the Thing2 class has a class attribute called letters with the value 'abc'. When you\n",
    "run this code, it will output. This demonstrates how class attributes can be defined and accessed in \n",
    "Python. Class attributes are shared among all instances of the class and can be accessed using the class\n",
    "name."
   ]
  },
  {
   "cell_type": "code",
   "execution_count": null,
   "id": "9471d3ce",
   "metadata": {},
   "outputs": [],
   "source": [
    "3. Make yet another class called, of course, Thing3. This time, assign the value 'xyz' to an instance\n",
    "(object) attribute called letters. Print letters. Do you need to make an object from the class to do\n",
    "this?"
   ]
  },
  {
   "cell_type": "code",
   "execution_count": 3,
   "id": "e12a37a6",
   "metadata": {},
   "outputs": [
    {
     "name": "stdout",
     "output_type": "stream",
     "text": [
      "Letters: xyz\n"
     ]
    }
   ],
   "source": [
    "class Thing3:\n",
    "    def __init__(self):\n",
    "        self.letters = 'xyz'\n",
    "\n",
    "# Creating an instance of the Thing3 class\n",
    "example3 = Thing3()\n",
    "\n",
    "# Printing the instance attribute\n",
    "print(\"Letters:\", example3.letters)\n"
   ]
  },
  {
   "cell_type": "code",
   "execution_count": null,
   "id": "f790fd38",
   "metadata": {},
   "outputs": [],
   "source": [
    "In this example, the Thing3 class has an instance attribute called letters with the value 'xyz'. The \n",
    "attribute is set within the __init__ method, which is a special method in Python classes that is \n",
    "automatically called when an object is created. You do need to create an object (an instance of the class)\n",
    "to access the instance attribute."
   ]
  },
  {
   "cell_type": "code",
   "execution_count": null,
   "id": "b0ada24b",
   "metadata": {},
   "outputs": [],
   "source": [
    "4. Create an Element class with the instance attributes name, symbol, and number. Create a class\n",
    "object with the values 'Hydrogen,''H,' and 1."
   ]
  },
  {
   "cell_type": "code",
   "execution_count": 4,
   "id": "3dd7bd28",
   "metadata": {},
   "outputs": [
    {
     "name": "stdout",
     "output_type": "stream",
     "text": [
      "Name: Hydrogen\n",
      "Symbol: H\n",
      "Number: 1\n"
     ]
    }
   ],
   "source": [
    "class Element:\n",
    "    def __init__(self, name, symbol, number):\n",
    "        self.name = name\n",
    "        self.symbol = symbol\n",
    "        self.number = number\n",
    "\n",
    "# Creating an instance of the Element class with values for name, symbol, and number\n",
    "hydrogen = Element(name='Hydrogen', symbol='H', number=1)\n",
    "\n",
    "# Accessing and printing the instance attributes\n",
    "print(\"Name:\", hydrogen.name)\n",
    "print(\"Symbol:\", hydrogen.symbol)\n",
    "print(\"Number:\", hydrogen.number)\n"
   ]
  },
  {
   "cell_type": "code",
   "execution_count": null,
   "id": "6167691d",
   "metadata": {},
   "outputs": [],
   "source": [
    "In this example, the Element class has an __init__ method that initializes the instance attributes name, \n",
    "symbol, and number with the provided values. Then, an object (hydrogen) is created with the values \n",
    "'Hydrogen,' 'H,' and 1."
   ]
  },
  {
   "cell_type": "code",
   "execution_count": null,
   "id": "7c87932f",
   "metadata": {},
   "outputs": [],
   "source": [
    "5. Make a dictionary with these keys and values:'name':'Hydrogen', 'symbol':'H','number': 1. Then,\n",
    "create an object called hydrogen from class Element using this dictionary."
   ]
  },
  {
   "cell_type": "code",
   "execution_count": 5,
   "id": "fe2d8693",
   "metadata": {},
   "outputs": [
    {
     "name": "stdout",
     "output_type": "stream",
     "text": [
      "Name: Hydrogen\n",
      "Symbol: H\n",
      "Number: 1\n"
     ]
    }
   ],
   "source": [
    "class Element:\n",
    "    def __init__(self, name, symbol, number):\n",
    "        self.name = name\n",
    "        self.symbol = symbol\n",
    "        self.number = number\n",
    "\n",
    "# Dictionary with keys and values\n",
    "element_info = {'name': 'Hydrogen', 'symbol': 'H', 'number': 1}\n",
    "\n",
    "# Creating an object using the dictionary\n",
    "hydrogen = Element(**element_info)\n",
    "\n",
    "# Accessing and printing the instance attributes\n",
    "print(\"Name:\", hydrogen.name)\n",
    "print(\"Symbol:\", hydrogen.symbol)\n",
    "print(\"Number:\", hydrogen.number)\n"
   ]
  },
  {
   "cell_type": "code",
   "execution_count": null,
   "id": "49e826f8",
   "metadata": {},
   "outputs": [],
   "source": [
    "In this example, the element_info dictionary contains the keys and values for the name, symbol, and\n",
    "number attributes. The **element_info syntax is used to unpack the dictionary and pass its key-value pairs\n",
    "as arguments to the Element constructor."
   ]
  },
  {
   "cell_type": "code",
   "execution_count": null,
   "id": "83016152",
   "metadata": {},
   "outputs": [],
   "source": [
    "6. For the Element class, define a method called dump() that prints the values of the object’s\n",
    "attributes (name, symbol, and number). Create the hydrogen object from this new definition and\n",
    "use dump() to print its attributes."
   ]
  },
  {
   "cell_type": "code",
   "execution_count": 6,
   "id": "1f1606c7",
   "metadata": {},
   "outputs": [
    {
     "name": "stdout",
     "output_type": "stream",
     "text": [
      "Name: Hydrogen, Symbol: H, Number: 1\n"
     ]
    }
   ],
   "source": [
    "class Element:\n",
    "    def __init__(self, name, symbol, number):\n",
    "        self.name = name\n",
    "        self.symbol = symbol\n",
    "        self.number = number\n",
    "    \n",
    "    def dump(self):\n",
    "        print(f\"Name: {self.name}, Symbol: {self.symbol}, Number: {self.number}\")\n",
    "\n",
    "# Creating an object using the dictionary\n",
    "hydrogen = Element(name='Hydrogen', symbol='H', number=1)\n",
    "\n",
    "# Using the dump() method to print the attributes\n",
    "hydrogen.dump()\n"
   ]
  },
  {
   "cell_type": "code",
   "execution_count": 7,
   "id": "e4ef1760",
   "metadata": {},
   "outputs": [
    {
     "name": "stdout",
     "output_type": "stream",
     "text": [
      "Name: Hydrogen, Symbol: H, Number: 1\n"
     ]
    }
   ],
   "source": [
    "hydrogen.dump()"
   ]
  },
  {
   "cell_type": "code",
   "execution_count": null,
   "id": "9a94cbae",
   "metadata": {},
   "outputs": [],
   "source": [
    "In this example, the dump() method is defined within the Element class to print the values of the object\n",
    "'s attributes. When you create the hydrogen object and call the dump() method,"
   ]
  },
  {
   "cell_type": "code",
   "execution_count": null,
   "id": "921b68af",
   "metadata": {},
   "outputs": [],
   "source": [
    "7. Call print(hydrogen). In the definition of Element, change the name of method dump to __str__,\n",
    "create a new hydrogen object, and call print(hydrogen) again."
   ]
  },
  {
   "cell_type": "code",
   "execution_count": null,
   "id": "a1dcffab",
   "metadata": {},
   "outputs": [],
   "source": [
    "You can use the __str__ method to define a string representation for your class, allowing you to use\n",
    "the print() function directly on an object. Here's an example:"
   ]
  },
  {
   "cell_type": "code",
   "execution_count": 8,
   "id": "43f3f5b9",
   "metadata": {},
   "outputs": [
    {
     "name": "stdout",
     "output_type": "stream",
     "text": [
      "Name: Hydrogen, Symbol: H, Number: 1\n"
     ]
    }
   ],
   "source": [
    "class Element:\n",
    "    def __init__(self, name, symbol, number):\n",
    "        self.name = name\n",
    "        self.symbol = symbol\n",
    "        self.number = number\n",
    "    \n",
    "    def __str__(self):\n",
    "        return f\"Name: {self.name}, Symbol: {self.symbol}, Number: {self.number}\"\n",
    "\n",
    "# Creating a new object using the dictionary\n",
    "new_hydrogen = Element(name='Hydrogen', symbol='H', number=1)\n",
    "\n",
    "# Using the print() function directly on the object\n",
    "print(new_hydrogen)\n"
   ]
  },
  {
   "cell_type": "code",
   "execution_count": null,
   "id": "cce7a5e4",
   "metadata": {},
   "outputs": [],
   "source": [
    "In this example, the __str__ method is defined within the Element class to return a string representation\n",
    "of the object. When you use the print() function on the new_hydrogen object, it will call the __str__ \n",
    "method automatically"
   ]
  },
  {
   "cell_type": "code",
   "execution_count": null,
   "id": "6ba6f4a2",
   "metadata": {},
   "outputs": [],
   "source": [
    "8. Modify Element to make the attributes name, symbol, and number private. Define a getter\n",
    "property for each to return its value."
   ]
  },
  {
   "cell_type": "code",
   "execution_count": null,
   "id": "65da2907",
   "metadata": {},
   "outputs": [],
   "source": [
    "To make attributes private in Python, you can prefix them with double underscores (__). Additionally,\n",
    "you can define getter methods using the @property decorator. Here's an example:"
   ]
  },
  {
   "cell_type": "code",
   "execution_count": 9,
   "id": "7cbdcbc0",
   "metadata": {},
   "outputs": [
    {
     "name": "stdout",
     "output_type": "stream",
     "text": [
      "Name: Hydrogen\n",
      "Symbol: H\n",
      "Number: 1\n"
     ]
    }
   ],
   "source": [
    "class Element:\n",
    "    def __init__(self, name, symbol, number):\n",
    "        self.__name = name\n",
    "        self.__symbol = symbol\n",
    "        self.__number = number\n",
    "    \n",
    "    @property\n",
    "    def name(self):\n",
    "        return self.__name\n",
    "    \n",
    "    @property\n",
    "    def symbol(self):\n",
    "        return self.__symbol\n",
    "    \n",
    "    @property\n",
    "    def number(self):\n",
    "        return self.__number\n",
    "\n",
    "# Creating an object using the dictionary\n",
    "hydrogen = Element(name='Hydrogen', symbol='H', number=1)\n",
    "\n",
    "# Accessing private attributes using the getter properties\n",
    "print(\"Name:\", hydrogen.name)\n",
    "print(\"Symbol:\", hydrogen.symbol)\n",
    "print(\"Number:\", hydrogen.number)\n"
   ]
  },
  {
   "cell_type": "code",
   "execution_count": null,
   "id": "a581245a",
   "metadata": {},
   "outputs": [],
   "source": [
    "In this example, the attributes __name, __symbol, and __number are made private. Getter properties\n",
    "(@property methods) are then defined to allow access to these private attributes"
   ]
  },
  {
   "cell_type": "code",
   "execution_count": null,
   "id": "9b4fd105",
   "metadata": {},
   "outputs": [],
   "source": [
    "9. Define three classes: Bear, Rabbit, and Octothorpe. For each, define only one method: eats(). This\n",
    "should return 'berries' (Bear), 'clover' (Rabbit), or 'campers' (Octothorpe). Create one object from\n",
    "each and print what it eats."
   ]
  },
  {
   "cell_type": "code",
   "execution_count": 10,
   "id": "e1d0bfe8",
   "metadata": {},
   "outputs": [
    {
     "name": "stdout",
     "output_type": "stream",
     "text": [
      "Bear eats: berries\n",
      "Rabbit eats: clover\n",
      "Octothorpe eats: campers\n"
     ]
    }
   ],
   "source": [
    "class Bear:\n",
    "    def eats(self):\n",
    "        return 'berries'\n",
    "\n",
    "class Rabbit:\n",
    "    def eats(self):\n",
    "        return 'clover'\n",
    "\n",
    "class Octothorpe:\n",
    "    def eats(self):\n",
    "        return 'campers'\n",
    "\n",
    "# Creating objects from each class\n",
    "bear_instance = Bear()\n",
    "rabbit_instance = Rabbit()\n",
    "octothorpe_instance = Octothorpe()\n",
    "\n",
    "# Printing what each object eats\n",
    "print(\"Bear eats:\", bear_instance.eats())\n",
    "print(\"Rabbit eats:\", rabbit_instance.eats())\n",
    "print(\"Octothorpe eats:\", octothorpe_instance.eats())\n"
   ]
  },
  {
   "cell_type": "code",
   "execution_count": null,
   "id": "f17486b0",
   "metadata": {},
   "outputs": [],
   "source": [
    "10. Define these classes: Laser, Claw, and SmartPhone. Each has only one method: does(). This\n",
    "returns 'disintegrate' (Laser), 'crush' (Claw), or 'ring' (SmartPhone). Then, define the class Robot that\n",
    "has one instance (object) of each of these. Define a does() method for the Robot that prints what its\n",
    "component objects do."
   ]
  },
  {
   "cell_type": "code",
   "execution_count": 11,
   "id": "3bf75e65",
   "metadata": {},
   "outputs": [
    {
     "name": "stdout",
     "output_type": "stream",
     "text": [
      "Laser: disintegrate\n",
      "Claw: crush\n",
      "SmartPhone: ring\n"
     ]
    }
   ],
   "source": [
    "class Laser:\n",
    "    def does(self):\n",
    "        return 'disintegrate'\n",
    "\n",
    "class Claw:\n",
    "    def does(self):\n",
    "        return 'crush'\n",
    "\n",
    "class SmartPhone:\n",
    "    def does(self):\n",
    "        return 'ring'\n",
    "\n",
    "class Robot:\n",
    "    def __init__(self):\n",
    "        self.laser = Laser()\n",
    "        self.claw = Claw()\n",
    "        self.smartphone = SmartPhone()\n",
    "\n",
    "    def does(self):\n",
    "        print(\"Laser:\", self.laser.does())\n",
    "        print(\"Claw:\", self.claw.does())\n",
    "        print(\"SmartPhone:\", self.smartphone.does())\n",
    "\n",
    "# Creating a Robot object\n",
    "robot_instance = Robot()\n",
    "\n",
    "# Calling the does() method for the Robot\n",
    "robot_instance.does()\n"
   ]
  },
  {
   "cell_type": "code",
   "execution_count": null,
   "id": "2f8b9af3",
   "metadata": {},
   "outputs": [],
   "source": [
    "In this example, the Laser, Claw, and SmartPhone classes each have a does() method that returns a\n",
    "specific action. The Robot class has instances of Laser, Claw, and SmartPhone as attributes, and it has\n",
    "its own does() method that prints what each component object doe"
   ]
  },
  {
   "cell_type": "code",
   "execution_count": null,
   "id": "3d5aaec6",
   "metadata": {},
   "outputs": [],
   "source": []
  }
 ],
 "metadata": {
  "kernelspec": {
   "display_name": "Python 3 (ipykernel)",
   "language": "python",
   "name": "python3"
  },
  "language_info": {
   "codemirror_mode": {
    "name": "ipython",
    "version": 3
   },
   "file_extension": ".py",
   "mimetype": "text/x-python",
   "name": "python",
   "nbconvert_exporter": "python",
   "pygments_lexer": "ipython3",
   "version": "3.11.1"
  }
 },
 "nbformat": 4,
 "nbformat_minor": 5
}
