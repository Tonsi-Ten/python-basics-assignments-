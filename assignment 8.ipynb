{
 "cells": [
  {
   "cell_type": "code",
   "execution_count": null,
   "id": "c213d71d",
   "metadata": {},
   "outputs": [],
   "source": [
    "1. Is the Python Standard Library included with PyInputPlus?"
   ]
  },
  {
   "cell_type": "code",
   "execution_count": null,
   "id": "2d19265d",
   "metadata": {},
   "outputs": [],
   "source": [
    "No, the Python Standard Library is not included with PyInputPlus. PyInputPlus is a third-party library\n",
    "for Python that provides enhanced input validation and user prompts. It is not a part of the Python \n",
    "Standard Library, so you need to install it separately if you want to use its functionality in your \n",
    "Python projects.\n",
    "\n",
    "To install PyInputPlus, you can use the following pip command:\n",
    "pip install pyinputplus\n",
    "\n",
    "Once you've installed PyInputPlus, you can import and use it in your Python code to interactively \n",
    "validate and handle user input in a more robust way than what's offered by the built-in input() \n",
    "function.\n",
    "\n"
   ]
  },
  {
   "cell_type": "code",
   "execution_count": null,
   "id": "6afa60be",
   "metadata": {},
   "outputs": [],
   "source": [
    "Why is PyInputPlus commonly imported with import pyinputplus as pypi?"
   ]
  },
  {
   "cell_type": "code",
   "execution_count": null,
   "id": "dd282cd2",
   "metadata": {},
   "outputs": [],
   "source": [
    "Using import pyinputplus as pypi or a similar alias such as import pyinputplus as pyip is a common\n",
    "practice among developers to make it more convenient to use the PyInputPlus library in their code.\n",
    "This is done for a few reasons:\n",
    "\n",
    "1. Namespace Clarity: The name \"pyinputplus\" can be somewhat long and may be frequently used in the code.\n",
    "   Using an alias like \"pypi\" or \"pyip\" reduces the amount of typing and makes the code more concise.\n",
    "\n",
    "2. Avoiding Conflicts: In larger projects, you may have other variables or modules with similar names. \n",
    "  Using an alias helps avoid naming conflicts. For example, if you have a variable or function named\n",
    "  \"pyinputplus\" in your code, it could lead to confusion and errors. The alias ensures that there's\n",
    "  no ambiguity.\n",
    "\n",
    "3. Readability: Shorter aliases can improve the readability of your code, especially when you use \n",
    "   PyInputPlus functions frequently. It can make your code more concise and easier to understand.\n",
    "\n",
    "Here's an example of how using an alias can make the code shorter and more readable\n",
    "\n",
    "import pyinputplus as pyip\n",
    "response = pyip.inputInt(prompt=\"Enter an integer: \")\n",
    "\n",
    "In this example, the alias \"pyip\" is used to refer to the PyInputPlus library, making the code more \n",
    "compact and clear when calling functions from the library.\n",
    "While \"pypi\" is a common alias, you can choose any alias that you prefer, as long as it's not already \n",
    "used as a variable or module name in your code."
   ]
  },
  {
   "cell_type": "code",
   "execution_count": null,
   "id": "b9f9ef24",
   "metadata": {},
   "outputs": [],
   "source": [
    "3. How do you distinguish between inputInt() and inputFloat()?"
   ]
  },
  {
   "cell_type": "code",
   "execution_count": null,
   "id": "cba5027c",
   "metadata": {},
   "outputs": [],
   "source": [
    "In PyInputPlus, you can distinguish between inputInt() and inputFloat() functions based on the type of\n",
    "input you expect from the user:\n",
    "\n",
    "1. inputInt(): This function is used when you want to accept an integer input from the user. It will prompt\n",
    "   the user to enter an integer value, and if the user enters anything that is not a valid integer,\n",
    "   PyInputPlus will raise a pyinputplus.exceptions.ValidationException.\n",
    "   \n",
    "Example:\n",
    "    \n",
    "    import pyinputplus as pyip\n",
    "    num = pyip.inputInt(prompt=\"Enter an integer: \")\n",
    "    \n",
    "2.  inputFloat(): This function is used when you want to accept a floating-point (decimal) input from\n",
    "    the user. It will prompt the user to enter a float value, and if the user enters anything that is\n",
    "    not a valid float, PyInputPlus will raise a pyinputplus.exceptions.ValidationException.\n",
    "\n",
    "Example:\n",
    "    \n",
    "    import pyinputplus as pyip\n",
    "    num = pyip.inputFloat(prompt=\"Enter a float: \")\n",
    "\n",
    "    \n",
    "    In summary, you use inputInt() when you expect the user to enter an integer, and you use inputFloat()\n",
    "    when you expect the user to enter a floating-point number (a number with a decimal point). PyInputPlus\n",
    "    handles the validation and ensures that the user provides the expected type of input, or it raises an \n",
    "    exception if the input is not valid."
   ]
  },
  {
   "cell_type": "code",
   "execution_count": null,
   "id": "310c2893",
   "metadata": {},
   "outputs": [],
   "source": [
    "4. Using PyInputPlus, how do you ensure that the user enters a whole number between 0 and 99?"
   ]
  },
  {
   "cell_type": "code",
   "execution_count": null,
   "id": "317b6286",
   "metadata": {},
   "outputs": [],
   "source": [
    "To ensure that the user enters a whole number between 0 and 99 using PyInputPlus, you can use the\n",
    "inputInt() function with the min and max arguments to specify the allowable range. Here's how you \n",
    "can do it\n",
    "\n",
    "import pyinputplus as pyip\n",
    "# Prompt the user to enter a whole number between 0 and 99\n",
    "num = pyip.inputInt(prompt=\"Enter a whole number between 0 and 99: \", min=0, max=99)\n",
    "\n",
    "in this code:\n",
    "prompt is the message displayed to the user.\n",
    "min is set to 0, which means the minimum valid input allowed is 0.\n",
    "max is set to 99, which means the maximum valid input allowed is 99.\n",
    "When you run this code, PyInputPlus will repeatedly prompt the user until they enter a valid whole \n",
    "numberwithin the specified range (0 to 99). If the user enters a value outside this range or a \n",
    "non-integer value, PyInputPlus will raise a pyinputplus.exceptions.ValidationException and keep \n",
    "prompting until a valid input is provided.\n"
   ]
  },
  {
   "cell_type": "code",
   "execution_count": null,
   "id": "1ebb54d4",
   "metadata": {},
   "outputs": [],
   "source": [
    "5. What is transferred to the keyword arguments allowRegexes and blockRegexes?"
   ]
  },
  {
   "cell_type": "code",
   "execution_count": null,
   "id": "608fc82c",
   "metadata": {},
   "outputs": [],
   "source": [
    "In PyInputPlus, the allowRegexes and blockRegexes keyword arguments are used to specify regular \n",
    "expressions that define patterns for what is allowed and what is blocked during input validation. \n",
    "These arguments are lists of regular expressions.\n",
    "\n",
    "* allowRegexes: It is a list of regular expressions. If any of the regular expressions in this list \n",
    "  match the user's input, the input is considered valid.\n",
    "\n",
    "* blockRegexes: It is also a list of regular expressions. If any of the regular expressions in this \n",
    "  list match the user's input, the input is considered invalid, and PyInputPlus will raise a \n",
    "  pyinputplus.exceptions.ValidationException.\n",
    "    \n",
    "    For example, if you want to allow only even numbers, you can use allowRegexes like this:\n",
    "        \n",
    "        import pyinputplus as pyip\n",
    "        num = pyip.inputInt(prompt=\"Enter an even number: \", allowRegexes=[r'^[02468]*$'])\n",
    "     \n",
    "In this code, the regular expression r'^[02468]*$' allows only even numbers (numbers consisting of \n",
    "digits 0, 2, 4, 6, or 8).\n",
    "\n",
    "\n",
    "Conversely, if you want to block specific patterns or characters, you can use blockRegexes. For example,\n",
    "to block any input containing the letter \"a,\" you can do:\n",
    "    \n",
    "    import pyinputplus as pyip\n",
    "    text = pyip.inputStr(prompt=\"Enter text without 'a': \", blockRegexes=[r'a'])\n",
    "\n",
    " In this code, the regular expression r'a' will block any input containing the letter \"a.\"\n",
    "\n",
    "These keyword arguments provide fine-grained control over input validation by allowing you to specify\n",
    "which patterns or characters are allowed or blocked in user input."
   ]
  },
  {
   "cell_type": "code",
   "execution_count": null,
   "id": "c5b48535",
   "metadata": {},
   "outputs": [],
   "source": [
    "6. If a blank input is entered three times, what does inputStr(limit=3) do?"
   ]
  },
  {
   "cell_type": "code",
   "execution_count": null,
   "id": "be8548c9",
   "metadata": {},
   "outputs": [],
   "source": [
    "If a blank input is entered three times while using inputStr(limit=3) in PyInputPlus, the function will\n",
    "raise a pyinputplus.exceptions.RetryLimitException after the third blank input.\n",
    "\n",
    "Here's what happens step by step:\n",
    "\n",
    "1. The inputStr() function with limit=3 is called, which means it expects the user to enter a non-blank\n",
    "   string.\n",
    "\n",
    "2. If the user enters a non-blank string on the first attempt, the input is accepted, and the function \n",
    "   proceeds as normal.\n",
    "\n",
    "3. If the user enters a blank (empty) input on the first attempt, PyInputPlus will display a retry prompt\n",
    "   and ask the user to try again. The user has a second attempt to enter a non-blank string.\n",
    "\n",
    "4. If the user enters a blank input on the second attempt as well, PyInputPlus will again display a retry \n",
    "   prompt and ask the user to try again. This is the third attempt.\n",
    "\n",
    "5. If the user enters a blank input for the third consecutive time, PyInputPlus will raise a pyinputplus.\n",
    "   exceptions.RetryLimitException because the user has exceeded the specified limit of 3 retries.\n",
    "\n",
    "In summary, inputStr(limit=3) enforces that the user must enter a non-blank string within three attempts.\n",
    "If the user fails to provide a non-blank input within the specified limit, a retry limit exception is\n",
    "raised."
   ]
  },
  {
   "cell_type": "code",
   "execution_count": null,
   "id": "be2e5205",
   "metadata": {},
   "outputs": [],
   "source": [
    "7. If blank input is entered three times, what does inputStr(limit=3, default='hello') do?"
   ]
  },
  {
   "cell_type": "code",
   "execution_count": null,
   "id": "61ea01fe",
   "metadata": {},
   "outputs": [],
   "source": [
    "If blank input is entered three times while using inputStr(limit=3, default='hello') in PyInputPlus, \n",
    "the function will return the default value 'hello' after the third blank input.\n",
    "\n",
    "Here's what happens step by step:\n",
    "\n",
    "The inputStr() function with limit=3 and default='hello' is called, which means it expects the user to \n",
    "enter a non-blank string. If the user enters a non-blank string on the first attempt, the input is \n",
    "accepted, and the function proceeds as normal.\n",
    "\n",
    "1. If the user enters a blank (empty) input on the first attempt, PyInputPlus will display a retry prompt\n",
    "  and ask the user to try again. The user has a second attempt to enter a non-blank string.\n",
    "\n",
    "2. If the user enters a blank input on the second attempt as well, PyInputPlus will again display a retry\n",
    "   prompt and ask the user to try again. This is the third attempt.\n",
    "\n",
    "3. If the user enters a blank input for the third consecutive time, PyInputPlus will return the default \n",
    "   value 'hello' without raising any exceptions. This is because the user has exceeded the specified limit\n",
    "   of 3 retries, and the function falls back to the default value.\n",
    "\n",
    "In summary, inputStr(limit=3, default='hello') enforces that the user must enter a non-blank string \n",
    "within three attempts. If the user fails to provide a non-blank input within the specified limit, the \n",
    "function returns the default value 'hello'."
   ]
  },
  {
   "cell_type": "code",
   "execution_count": null,
   "id": "7051eb36",
   "metadata": {},
   "outputs": [],
   "source": []
  },
  {
   "cell_type": "code",
   "execution_count": null,
   "id": "c448d34a",
   "metadata": {},
   "outputs": [],
   "source": []
  }
 ],
 "metadata": {
  "kernelspec": {
   "display_name": "Python 3 (ipykernel)",
   "language": "python",
   "name": "python3"
  },
  "language_info": {
   "codemirror_mode": {
    "name": "ipython",
    "version": 3
   },
   "file_extension": ".py",
   "mimetype": "text/x-python",
   "name": "python",
   "nbconvert_exporter": "python",
   "pygments_lexer": "ipython3",
   "version": "3.11.1"
  }
 },
 "nbformat": 4,
 "nbformat_minor": 5
}
